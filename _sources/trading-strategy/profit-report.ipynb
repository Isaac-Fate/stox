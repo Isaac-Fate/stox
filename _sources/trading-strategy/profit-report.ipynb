{
 "cells": [
  {
   "cell_type": "markdown",
   "metadata": {},
   "source": [
    "# How Much Money We Can Make?"
   ]
  },
  {
   "cell_type": "code",
   "execution_count": 16,
   "metadata": {},
   "outputs": [],
   "source": [
    "import numpy as np\n",
    "import pandas as pd\n",
    "import json\n",
    "import os\n",
    "\n",
    "import sys\n",
    "sys.path.append(\"../../\")\n",
    "\n",
    "# import our modules\n",
    "import lstm\n",
    "import strat\n",
    "import profit"
   ]
  },
  {
   "cell_type": "markdown",
   "metadata": {},
   "source": [
    "## Load Data"
   ]
  },
  {
   "cell_type": "code",
   "execution_count": 17,
   "metadata": {},
   "outputs": [
    {
     "data": {
      "text/html": [
       "<div>\n",
       "<style scoped>\n",
       "    .dataframe tbody tr th:only-of-type {\n",
       "        vertical-align: middle;\n",
       "    }\n",
       "\n",
       "    .dataframe tbody tr th {\n",
       "        vertical-align: top;\n",
       "    }\n",
       "\n",
       "    .dataframe thead th {\n",
       "        text-align: right;\n",
       "    }\n",
       "</style>\n",
       "<table border=\"1\" class=\"dataframe\">\n",
       "  <thead>\n",
       "    <tr style=\"text-align: right;\">\n",
       "      <th></th>\n",
       "      <th>Company</th>\n",
       "      <th>Sector</th>\n",
       "      <th>Open</th>\n",
       "      <th>High</th>\n",
       "      <th>Low</th>\n",
       "      <th>Close</th>\n",
       "      <th>Volume</th>\n",
       "    </tr>\n",
       "    <tr>\n",
       "      <th>Date</th>\n",
       "      <th></th>\n",
       "      <th></th>\n",
       "      <th></th>\n",
       "      <th></th>\n",
       "      <th></th>\n",
       "      <th></th>\n",
       "      <th></th>\n",
       "    </tr>\n",
       "  </thead>\n",
       "  <tbody>\n",
       "    <tr>\n",
       "      <th>2017-11-02</th>\n",
       "      <td>AAPL</td>\n",
       "      <td>Technology</td>\n",
       "      <td>41.65</td>\n",
       "      <td>42.12</td>\n",
       "      <td>41.32</td>\n",
       "      <td>42.03</td>\n",
       "      <td>165573600</td>\n",
       "    </tr>\n",
       "    <tr>\n",
       "      <th>2017-11-03</th>\n",
       "      <td>AAPL</td>\n",
       "      <td>Technology</td>\n",
       "      <td>43.50</td>\n",
       "      <td>43.56</td>\n",
       "      <td>42.78</td>\n",
       "      <td>43.12</td>\n",
       "      <td>237594400</td>\n",
       "    </tr>\n",
       "    <tr>\n",
       "      <th>2017-11-06</th>\n",
       "      <td>AAPL</td>\n",
       "      <td>Technology</td>\n",
       "      <td>43.09</td>\n",
       "      <td>43.75</td>\n",
       "      <td>42.93</td>\n",
       "      <td>43.56</td>\n",
       "      <td>140105200</td>\n",
       "    </tr>\n",
       "    <tr>\n",
       "      <th>2017-11-07</th>\n",
       "      <td>AAPL</td>\n",
       "      <td>Technology</td>\n",
       "      <td>43.48</td>\n",
       "      <td>43.81</td>\n",
       "      <td>43.40</td>\n",
       "      <td>43.70</td>\n",
       "      <td>97446000</td>\n",
       "    </tr>\n",
       "    <tr>\n",
       "      <th>2017-11-08</th>\n",
       "      <td>AAPL</td>\n",
       "      <td>Technology</td>\n",
       "      <td>43.67</td>\n",
       "      <td>44.06</td>\n",
       "      <td>43.58</td>\n",
       "      <td>44.06</td>\n",
       "      <td>97638000</td>\n",
       "    </tr>\n",
       "    <tr>\n",
       "      <th>...</th>\n",
       "      <td>...</td>\n",
       "      <td>...</td>\n",
       "      <td>...</td>\n",
       "      <td>...</td>\n",
       "      <td>...</td>\n",
       "      <td>...</td>\n",
       "      <td>...</td>\n",
       "    </tr>\n",
       "    <tr>\n",
       "      <th>2022-10-26</th>\n",
       "      <td>COP</td>\n",
       "      <td>Energy</td>\n",
       "      <td>124.72</td>\n",
       "      <td>128.18</td>\n",
       "      <td>124.58</td>\n",
       "      <td>126.57</td>\n",
       "      <td>8139100</td>\n",
       "    </tr>\n",
       "    <tr>\n",
       "      <th>2022-10-27</th>\n",
       "      <td>COP</td>\n",
       "      <td>Energy</td>\n",
       "      <td>127.70</td>\n",
       "      <td>129.45</td>\n",
       "      <td>126.24</td>\n",
       "      <td>126.64</td>\n",
       "      <td>8948500</td>\n",
       "    </tr>\n",
       "    <tr>\n",
       "      <th>2022-10-28</th>\n",
       "      <td>COP</td>\n",
       "      <td>Energy</td>\n",
       "      <td>128.50</td>\n",
       "      <td>128.99</td>\n",
       "      <td>124.01</td>\n",
       "      <td>127.17</td>\n",
       "      <td>7293200</td>\n",
       "    </tr>\n",
       "    <tr>\n",
       "      <th>2022-10-31</th>\n",
       "      <td>COP</td>\n",
       "      <td>Energy</td>\n",
       "      <td>125.58</td>\n",
       "      <td>129.99</td>\n",
       "      <td>125.57</td>\n",
       "      <td>126.09</td>\n",
       "      <td>7121000</td>\n",
       "    </tr>\n",
       "    <tr>\n",
       "      <th>2022-11-01</th>\n",
       "      <td>COP</td>\n",
       "      <td>Energy</td>\n",
       "      <td>128.74</td>\n",
       "      <td>129.32</td>\n",
       "      <td>126.89</td>\n",
       "      <td>127.78</td>\n",
       "      <td>5874800</td>\n",
       "    </tr>\n",
       "  </tbody>\n",
       "</table>\n",
       "<p>63377 rows × 7 columns</p>\n",
       "</div>"
      ],
      "text/plain": [
       "           Company      Sector   Open   High    Low  Close     Volume\n",
       "Date                                                                 \n",
       "2017-11-02    AAPL  Technology  41.65  42.12  41.32  42.03  165573600\n",
       "2017-11-03    AAPL  Technology  43.50  43.56  42.78  43.12  237594400\n",
       "2017-11-06    AAPL  Technology  43.09  43.75  42.93  43.56  140105200\n",
       "2017-11-07    AAPL  Technology  43.48  43.81  43.40  43.70   97446000\n",
       "2017-11-08    AAPL  Technology  43.67  44.06  43.58  44.06   97638000\n",
       "...            ...         ...    ...    ...    ...    ...        ...\n",
       "2022-10-26     COP      Energy 124.72 128.18 124.58 126.57    8139100\n",
       "2022-10-27     COP      Energy 127.70 129.45 126.24 126.64    8948500\n",
       "2022-10-28     COP      Energy 128.50 128.99 124.01 127.17    7293200\n",
       "2022-10-31     COP      Energy 125.58 129.99 125.57 126.09    7121000\n",
       "2022-11-01     COP      Energy 128.74 129.32 126.89 127.78    5874800\n",
       "\n",
       "[63377 rows x 7 columns]"
      ]
     },
     "execution_count": 17,
     "metadata": {},
     "output_type": "execute_result"
    }
   ],
   "source": [
    "stocks: pd.DataFrame = pd.read_csv(\"../../data/stocks.csv\", index_col=0, parse_dates=True)\n",
    "stocks"
   ]
  },
  {
   "cell_type": "markdown",
   "metadata": {},
   "source": [
    "## Profit Rate for Each Company"
   ]
  },
  {
   "cell_type": "code",
   "execution_count": 18,
   "metadata": {},
   "outputs": [
    {
     "data": {
      "text/html": [
       "<div>\n",
       "<style scoped>\n",
       "    .dataframe tbody tr th:only-of-type {\n",
       "        vertical-align: middle;\n",
       "    }\n",
       "\n",
       "    .dataframe tbody tr th {\n",
       "        vertical-align: top;\n",
       "    }\n",
       "\n",
       "    .dataframe thead th {\n",
       "        text-align: right;\n",
       "    }\n",
       "</style>\n",
       "<table border=\"1\" class=\"dataframe\">\n",
       "  <thead>\n",
       "    <tr style=\"text-align: right;\">\n",
       "      <th></th>\n",
       "      <th>META</th>\n",
       "      <th>TSLA</th>\n",
       "      <th>XOM</th>\n",
       "      <th>BAC</th>\n",
       "      <th>UNH</th>\n",
       "      <th>BA</th>\n",
       "      <th>AAPL</th>\n",
       "    </tr>\n",
       "  </thead>\n",
       "  <tbody>\n",
       "    <tr>\n",
       "      <th>SMA</th>\n",
       "      <td>-19.97%</td>\n",
       "      <td>9.19%</td>\n",
       "      <td>-2.80%</td>\n",
       "      <td>-2.12%</td>\n",
       "      <td>0.77%</td>\n",
       "      <td>0.00%</td>\n",
       "      <td>17.77%</td>\n",
       "    </tr>\n",
       "    <tr>\n",
       "      <th>LSTM</th>\n",
       "      <td>9.44%</td>\n",
       "      <td>17.05%</td>\n",
       "      <td>2.06%</td>\n",
       "      <td>11.74%</td>\n",
       "      <td>0.19%</td>\n",
       "      <td>8.91%</td>\n",
       "      <td>15.18%</td>\n",
       "    </tr>\n",
       "  </tbody>\n",
       "</table>\n",
       "</div>"
      ],
      "text/plain": [
       "        META   TSLA    XOM    BAC   UNH    BA   AAPL\n",
       "SMA  -19.97%  9.19% -2.80% -2.12% 0.77% 0.00% 17.77%\n",
       "LSTM   9.44% 17.05%  2.06% 11.74% 0.19% 8.91% 15.18%"
      ]
     },
     "execution_count": 18,
     "metadata": {},
     "output_type": "execute_result"
    }
   ],
   "source": [
    "profit_report = {}\n",
    "\n",
    "companies: list[str] = json.load(open(\"../../data/companies.json\", \"r\"))\n",
    "num_days_left_out = 90\n",
    "for company in companies:\n",
    "    \n",
    "    profit_dict = {}\n",
    "    \n",
    "    # select stock\n",
    "    stock = stocks.query(f\"Company == '{company}'\").drop(columns=[\"Company\", \"Sector\"])\n",
    "    \n",
    "    # load model\n",
    "    price_predictor = lstm.load_price_predictor(os.path.join(\"../../models\", f\"{company}-3-day-predictor.pkl\"))\n",
    "    \n",
    "    # test data\n",
    "    stock_test = stock[-num_days_left_out:]\n",
    "    start_date = stock_test.index[0]\n",
    "    \n",
    "    # decide when to buy and sell for SMA\n",
    "    buy_dates, sell_dates = strat.sma(\n",
    "        stock,long_period=20\n",
    "    )\n",
    "    \n",
    "    # profit rate\n",
    "    profit_rate = profit.calc_profit(stock, buy_dates, sell_dates, start_date)\n",
    "    \n",
    "    profit_dict[\"SMA\"] = profit_rate\n",
    "    \n",
    "    # decide when to buy and sell for prediction-based strategy (LSTM)\n",
    "    buy_dates, sell_dates = strat.trade_by_pred(\n",
    "        stock_test, \n",
    "        price_predictor, \n",
    "        num_days_ahead=2,\n",
    "    )\n",
    "    \n",
    "    # profit rate\n",
    "    profit_rate = profit.calc_profit(stock, buy_dates, sell_dates, start_date)\n",
    "    \n",
    "    profit_dict[\"LSTM\"] = profit_rate\n",
    "    \n",
    "    profit_report[company] = profit_dict\n",
    "    \n",
    "profit_report = pd.DataFrame(profit_report)\n",
    "pd.options.display.float_format = \"{:.2%}\".format\n",
    "\n",
    "profit_report"
   ]
  },
  {
   "cell_type": "markdown",
   "metadata": {},
   "source": [
    "Note that sometimes applying SMA will lose money even though sometimes SMA has higher profit rate, e.g., UNH, AAPL."
   ]
  },
  {
   "cell_type": "markdown",
   "metadata": {},
   "source": [
    "The profit rate for LSTM is always positive for this data, which means we will always earn some money."
   ]
  },
  {
   "cell_type": "markdown",
   "metadata": {},
   "source": [
    "## Total Profit"
   ]
  },
  {
   "cell_type": "code",
   "execution_count": 19,
   "metadata": {},
   "outputs": [
    {
     "data": {
      "text/plain": [
       "Weighted SMA    -336.22\n",
       "Weighted LSTM    510.95\n",
       "dtype: float64"
      ]
     },
     "execution_count": 19,
     "metadata": {},
     "output_type": "execute_result"
    }
   ],
   "source": [
    "weight = strat.determine_portfolio(stocks, companies, num_days_left_out, random_seed=7008)\n",
    "profit_report.loc[\"Weight\"] = weight\n",
    "profit_report.loc[\"Weighted SMA\"] = profit_report.loc[\"Weight\"] * profit_report.loc[\"SMA\"]\n",
    "profit_report.loc[\"Weighted LSTM\"] = profit_report.loc[\"Weight\"] * profit_report.loc[\"LSTM\"]\n",
    "\n",
    "capital = 10000\n",
    "summary = profit_report.sum(1).loc[[\"Weighted SMA\", \"Weighted LSTM\"]]\n",
    "pd.options.display.float_format = \"{:.2f}\".format\n",
    "summary * capital"
   ]
  },
  {
   "cell_type": "markdown",
   "metadata": {},
   "source": [
    "We will lose $336.22 by applying SMA, while we will earn $510.95 using LSTM!"
   ]
  }
 ],
 "metadata": {
  "kernelspec": {
   "display_name": "Python 3.10.6 ('stox')",
   "language": "python",
   "name": "python3"
  },
  "language_info": {
   "codemirror_mode": {
    "name": "ipython",
    "version": 3
   },
   "file_extension": ".py",
   "mimetype": "text/x-python",
   "name": "python",
   "nbconvert_exporter": "python",
   "pygments_lexer": "ipython3",
   "version": "3.10.6"
  },
  "orig_nbformat": 4,
  "vscode": {
   "interpreter": {
    "hash": "b381d2fe9444cf1cecb971d5b2371557f7ae9b538a405ed569cd73f1b37c2a0c"
   }
  }
 },
 "nbformat": 4,
 "nbformat_minor": 2
}
