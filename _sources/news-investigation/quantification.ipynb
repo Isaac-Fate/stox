{
 "cells": [
  {
   "cell_type": "markdown",
   "metadata": {},
   "source": [
    "# Quantification"
   ]
  },
  {
   "cell_type": "code",
   "execution_count": 450,
   "metadata": {},
   "outputs": [],
   "source": [
    "import numpy as np\n",
    "import pandas as pd\n",
    "from datetime import datetime, timedelta\n",
    "import json\n",
    "import os\n",
    "import matplotlib.pyplot as plt"
   ]
  },
  {
   "cell_type": "markdown",
   "metadata": {},
   "source": [
    "## Load Data"
   ]
  },
  {
   "cell_type": "code",
   "execution_count": 451,
   "metadata": {},
   "outputs": [
    {
     "data": {
      "text/html": [
       "<div>\n",
       "<style scoped>\n",
       "    .dataframe tbody tr th:only-of-type {\n",
       "        vertical-align: middle;\n",
       "    }\n",
       "\n",
       "    .dataframe tbody tr th {\n",
       "        vertical-align: top;\n",
       "    }\n",
       "\n",
       "    .dataframe thead th {\n",
       "        text-align: right;\n",
       "    }\n",
       "</style>\n",
       "<table border=\"1\" class=\"dataframe\">\n",
       "  <thead>\n",
       "    <tr style=\"text-align: right;\">\n",
       "      <th></th>\n",
       "      <th>Open</th>\n",
       "      <th>High</th>\n",
       "      <th>Low</th>\n",
       "      <th>Close</th>\n",
       "      <th>Volume</th>\n",
       "    </tr>\n",
       "    <tr>\n",
       "      <th>Date</th>\n",
       "      <th></th>\n",
       "      <th></th>\n",
       "      <th></th>\n",
       "      <th></th>\n",
       "      <th></th>\n",
       "    </tr>\n",
       "  </thead>\n",
       "  <tbody>\n",
       "    <tr>\n",
       "      <th>2017-11-02</th>\n",
       "      <td>20.008667</td>\n",
       "      <td>20.579332</td>\n",
       "      <td>19.508667</td>\n",
       "      <td>19.950666</td>\n",
       "      <td>296871000</td>\n",
       "    </tr>\n",
       "    <tr>\n",
       "      <th>2017-11-03</th>\n",
       "      <td>19.966667</td>\n",
       "      <td>20.416668</td>\n",
       "      <td>19.675333</td>\n",
       "      <td>20.406000</td>\n",
       "      <td>133410000</td>\n",
       "    </tr>\n",
       "    <tr>\n",
       "      <th>2017-11-06</th>\n",
       "      <td>20.466667</td>\n",
       "      <td>20.500000</td>\n",
       "      <td>19.934000</td>\n",
       "      <td>20.185333</td>\n",
       "      <td>97290000</td>\n",
       "    </tr>\n",
       "    <tr>\n",
       "      <th>2017-11-07</th>\n",
       "      <td>20.068001</td>\n",
       "      <td>20.433332</td>\n",
       "      <td>20.002001</td>\n",
       "      <td>20.403334</td>\n",
       "      <td>79414500</td>\n",
       "    </tr>\n",
       "    <tr>\n",
       "      <th>2017-11-08</th>\n",
       "      <td>20.366667</td>\n",
       "      <td>20.459333</td>\n",
       "      <td>20.086666</td>\n",
       "      <td>20.292667</td>\n",
       "      <td>70879500</td>\n",
       "    </tr>\n",
       "    <tr>\n",
       "      <th>...</th>\n",
       "      <td>...</td>\n",
       "      <td>...</td>\n",
       "      <td>...</td>\n",
       "      <td>...</td>\n",
       "      <td>...</td>\n",
       "    </tr>\n",
       "    <tr>\n",
       "      <th>2022-10-26</th>\n",
       "      <td>219.399994</td>\n",
       "      <td>230.600006</td>\n",
       "      <td>218.199997</td>\n",
       "      <td>224.639999</td>\n",
       "      <td>85012500</td>\n",
       "    </tr>\n",
       "    <tr>\n",
       "      <th>2022-10-27</th>\n",
       "      <td>229.770004</td>\n",
       "      <td>233.809998</td>\n",
       "      <td>222.850006</td>\n",
       "      <td>225.089996</td>\n",
       "      <td>61638800</td>\n",
       "    </tr>\n",
       "    <tr>\n",
       "      <th>2022-10-28</th>\n",
       "      <td>225.399994</td>\n",
       "      <td>228.860001</td>\n",
       "      <td>216.350006</td>\n",
       "      <td>228.520004</td>\n",
       "      <td>69152400</td>\n",
       "    </tr>\n",
       "    <tr>\n",
       "      <th>2022-10-31</th>\n",
       "      <td>226.190002</td>\n",
       "      <td>229.850006</td>\n",
       "      <td>221.940002</td>\n",
       "      <td>227.539993</td>\n",
       "      <td>61554300</td>\n",
       "    </tr>\n",
       "    <tr>\n",
       "      <th>2022-11-01</th>\n",
       "      <td>234.050003</td>\n",
       "      <td>237.399994</td>\n",
       "      <td>227.279999</td>\n",
       "      <td>227.820007</td>\n",
       "      <td>62566500</td>\n",
       "    </tr>\n",
       "  </tbody>\n",
       "</table>\n",
       "<p>1258 rows × 5 columns</p>\n",
       "</div>"
      ],
      "text/plain": [
       "                  Open        High         Low       Close     Volume\n",
       "Date                                                                 \n",
       "2017-11-02   20.008667   20.579332   19.508667   19.950666  296871000\n",
       "2017-11-03   19.966667   20.416668   19.675333   20.406000  133410000\n",
       "2017-11-06   20.466667   20.500000   19.934000   20.185333   97290000\n",
       "2017-11-07   20.068001   20.433332   20.002001   20.403334   79414500\n",
       "2017-11-08   20.366667   20.459333   20.086666   20.292667   70879500\n",
       "...                ...         ...         ...         ...        ...\n",
       "2022-10-26  219.399994  230.600006  218.199997  224.639999   85012500\n",
       "2022-10-27  229.770004  233.809998  222.850006  225.089996   61638800\n",
       "2022-10-28  225.399994  228.860001  216.350006  228.520004   69152400\n",
       "2022-10-31  226.190002  229.850006  221.940002  227.539993   61554300\n",
       "2022-11-01  234.050003  237.399994  227.279999  227.820007   62566500\n",
       "\n",
       "[1258 rows x 5 columns]"
      ]
     },
     "execution_count": 451,
     "metadata": {},
     "output_type": "execute_result"
    }
   ],
   "source": [
    "stock: pd.DataFrame = pd.read_pickle(\"../../data/TSLA.pkl\")\n",
    "stock"
   ]
  },
  {
   "cell_type": "markdown",
   "metadata": {},
   "source": [
    "Split training and test data sets:"
   ]
  },
  {
   "cell_type": "code",
   "execution_count": 452,
   "metadata": {},
   "outputs": [],
   "source": [
    "num_days = 90\n",
    "train_df = stock[:-num_days]\n",
    "test_df = stock[-num_days:]"
   ]
  },
  {
   "cell_type": "markdown",
   "metadata": {},
   "source": [
    "## Combine Stocks and News"
   ]
  },
  {
   "cell_type": "markdown",
   "metadata": {},
   "source": [
    "Intuitively, the news information can only provide us with very vague information about the stock price. In fact, it is already good enough if today's news can tell us whether the stock price will increase tomorrow."
   ]
  },
  {
   "cell_type": "code",
   "execution_count": 453,
   "metadata": {},
   "outputs": [
    {
     "data": {
      "text/html": [
       "<div>\n",
       "<style scoped>\n",
       "    .dataframe tbody tr th:only-of-type {\n",
       "        vertical-align: middle;\n",
       "    }\n",
       "\n",
       "    .dataframe tbody tr th {\n",
       "        vertical-align: top;\n",
       "    }\n",
       "\n",
       "    .dataframe thead th {\n",
       "        text-align: right;\n",
       "    }\n",
       "</style>\n",
       "<table border=\"1\" class=\"dataframe\">\n",
       "  <thead>\n",
       "    <tr style=\"text-align: right;\">\n",
       "      <th></th>\n",
       "      <th>Will Go Up?</th>\n",
       "    </tr>\n",
       "    <tr>\n",
       "      <th>Date</th>\n",
       "      <th></th>\n",
       "    </tr>\n",
       "  </thead>\n",
       "  <tbody>\n",
       "    <tr>\n",
       "      <th>2017-11-02</th>\n",
       "      <td>True</td>\n",
       "    </tr>\n",
       "    <tr>\n",
       "      <th>2017-11-03</th>\n",
       "      <td>False</td>\n",
       "    </tr>\n",
       "    <tr>\n",
       "      <th>2017-11-06</th>\n",
       "      <td>True</td>\n",
       "    </tr>\n",
       "    <tr>\n",
       "      <th>2017-11-07</th>\n",
       "      <td>False</td>\n",
       "    </tr>\n",
       "    <tr>\n",
       "      <th>2017-11-08</th>\n",
       "      <td>False</td>\n",
       "    </tr>\n",
       "    <tr>\n",
       "      <th>...</th>\n",
       "      <td>...</td>\n",
       "    </tr>\n",
       "    <tr>\n",
       "      <th>2022-06-16</th>\n",
       "      <td>True</td>\n",
       "    </tr>\n",
       "    <tr>\n",
       "      <th>2022-06-17</th>\n",
       "      <td>True</td>\n",
       "    </tr>\n",
       "    <tr>\n",
       "      <th>2022-06-21</th>\n",
       "      <td>False</td>\n",
       "    </tr>\n",
       "    <tr>\n",
       "      <th>2022-06-22</th>\n",
       "      <td>False</td>\n",
       "    </tr>\n",
       "    <tr>\n",
       "      <th>2022-06-23</th>\n",
       "      <td>True</td>\n",
       "    </tr>\n",
       "  </tbody>\n",
       "</table>\n",
       "<p>1167 rows × 1 columns</p>\n",
       "</div>"
      ],
      "text/plain": [
       "            Will Go Up?\n",
       "Date                   \n",
       "2017-11-02         True\n",
       "2017-11-03        False\n",
       "2017-11-06         True\n",
       "2017-11-07        False\n",
       "2017-11-08        False\n",
       "...                 ...\n",
       "2022-06-16         True\n",
       "2022-06-17         True\n",
       "2022-06-21        False\n",
       "2022-06-22        False\n",
       "2022-06-23         True\n",
       "\n",
       "[1167 rows x 1 columns]"
      ]
     },
     "execution_count": 453,
     "metadata": {},
     "output_type": "execute_result"
    }
   ],
   "source": [
    "# shifted percentage change: (tomorrow - today) / today\n",
    "train_df = train_df[[\"Close\"]].pct_change().shift(-1).dropna()\n",
    "\n",
    "# whether the stock price will increase compared with today's price\n",
    "train_df = train_df > 0\n",
    "train_df.rename(columns={\"Close\": \"Will Go Up?\"}, inplace=True)\n",
    "train_df"
   ]
  },
  {
   "cell_type": "markdown",
   "metadata": {},
   "source": [
    "Now, we attach the news headline on each date to the data frame:"
   ]
  },
  {
   "cell_type": "code",
   "execution_count": 454,
   "metadata": {},
   "outputs": [
    {
     "data": {
      "text/html": [
       "<div>\n",
       "<style scoped>\n",
       "    .dataframe tbody tr th:only-of-type {\n",
       "        vertical-align: middle;\n",
       "    }\n",
       "\n",
       "    .dataframe tbody tr th {\n",
       "        vertical-align: top;\n",
       "    }\n",
       "\n",
       "    .dataframe thead th {\n",
       "        text-align: right;\n",
       "    }\n",
       "</style>\n",
       "<table border=\"1\" class=\"dataframe\">\n",
       "  <thead>\n",
       "    <tr style=\"text-align: right;\">\n",
       "      <th></th>\n",
       "      <th>Headline</th>\n",
       "      <th>Will Go Up?</th>\n",
       "    </tr>\n",
       "    <tr>\n",
       "      <th>Date</th>\n",
       "      <th></th>\n",
       "      <th></th>\n",
       "    </tr>\n",
       "  </thead>\n",
       "  <tbody>\n",
       "    <tr>\n",
       "      <th>2017-11-02</th>\n",
       "      <td>The GOP tax bill kills a $7,500 electric-vehic...</td>\n",
       "      <td>True</td>\n",
       "    </tr>\n",
       "    <tr>\n",
       "      <th>2017-11-03</th>\n",
       "      <td>Tesla hits bumps in pursuit of mass market</td>\n",
       "      <td>False</td>\n",
       "    </tr>\n",
       "    <tr>\n",
       "      <th>2017-11-06</th>\n",
       "      <td>Tesla Investors May Be Losing Patience</td>\n",
       "      <td>True</td>\n",
       "    </tr>\n",
       "    <tr>\n",
       "      <th>2017-11-07</th>\n",
       "      <td>Bloomberg</td>\n",
       "      <td>False</td>\n",
       "    </tr>\n",
       "    <tr>\n",
       "      <th>2017-11-08</th>\n",
       "      <td>Tesla buys Perbix industrial automation company</td>\n",
       "      <td>False</td>\n",
       "    </tr>\n",
       "    <tr>\n",
       "      <th>...</th>\n",
       "      <td>...</td>\n",
       "      <td>...</td>\n",
       "    </tr>\n",
       "    <tr>\n",
       "      <th>2022-06-16</th>\n",
       "      <td>Tesla to charge more for cars in United States...</td>\n",
       "      <td>True</td>\n",
       "    </tr>\n",
       "    <tr>\n",
       "      <th>2022-06-17</th>\n",
       "      <td>Tesla Raises EV Prices By as Much as $6,000 USD</td>\n",
       "      <td>True</td>\n",
       "    </tr>\n",
       "    <tr>\n",
       "      <th>2022-06-21</th>\n",
       "      <td>Bloomberg</td>\n",
       "      <td>False</td>\n",
       "    </tr>\n",
       "    <tr>\n",
       "      <th>2022-06-22</th>\n",
       "      <td>EXCLUSIVE Tesla plans 2-week suspension for mo...</td>\n",
       "      <td>False</td>\n",
       "    </tr>\n",
       "    <tr>\n",
       "      <th>2022-06-23</th>\n",
       "      <td>Elon Musk says he’s worried about keeping Tesl...</td>\n",
       "      <td>True</td>\n",
       "    </tr>\n",
       "  </tbody>\n",
       "</table>\n",
       "<p>1167 rows × 2 columns</p>\n",
       "</div>"
      ],
      "text/plain": [
       "                                                     Headline  Will Go Up?\n",
       "Date                                                                      \n",
       "2017-11-02  The GOP tax bill kills a $7,500 electric-vehic...         True\n",
       "2017-11-03         Tesla hits bumps in pursuit of mass market        False\n",
       "2017-11-06             Tesla Investors May Be Losing Patience         True\n",
       "2017-11-07                                          Bloomberg        False\n",
       "2017-11-08    Tesla buys Perbix industrial automation company        False\n",
       "...                                                       ...          ...\n",
       "2022-06-16  Tesla to charge more for cars in United States...         True\n",
       "2022-06-17    Tesla Raises EV Prices By as Much as $6,000 USD         True\n",
       "2022-06-21                                          Bloomberg        False\n",
       "2022-06-22  EXCLUSIVE Tesla plans 2-week suspension for mo...        False\n",
       "2022-06-23  Elon Musk says he’s worried about keeping Tesl...         True\n",
       "\n",
       "[1167 rows x 2 columns]"
      ]
     },
     "execution_count": 454,
     "metadata": {},
     "output_type": "execute_result"
    }
   ],
   "source": [
    "train_df[\"Headline\"] = np.nan\n",
    "\n",
    "for date in train_df.index:\n",
    "    date_str = datetime.strftime(date, \"%Y-%m-%d\")\n",
    "    news_filepath = os.path.join(\"../../data/news/\", f\"TSLA/{date_str}.json\")\n",
    "    \n",
    "    if not os.path.exists(news_filepath):\n",
    "        continue\n",
    "    \n",
    "    with open(news_filepath, \"r\") as f:\n",
    "        news = json.load(f)\n",
    "    \n",
    "    train_df.loc[date, \"Headline\"] = news[\"Headline\"]\n",
    "\n",
    "train_df = train_df[[\"Headline\", \"Will Go Up?\"]]\n",
    "train_df"
   ]
  },
  {
   "cell_type": "markdown",
   "metadata": {},
   "source": [
    "## Word Embedding"
   ]
  },
  {
   "cell_type": "markdown",
   "metadata": {},
   "source": [
    "Our goal is to predict whether the stock price will go up tomorrow based on today's news. So, it can be treated as a **classification** problem, more precisely, a **binary classification** problem. That is, we want to find a mapping / decision rule:\n",
    "\n",
    "$$\n",
    "\\text{News Headline (Text)} \\mapsto \\{\\text{True}, \\text{False}\\}\n",
    "$$"
   ]
  },
  {
   "cell_type": "markdown",
   "metadata": {},
   "source": [
    "But the headlines consist of text data. Hence, we need to first transform or encode them to numerical data. This procedure is called **word embedding**."
   ]
  },
  {
   "cell_type": "markdown",
   "metadata": {},
   "source": [
    "Usually, we need to train an additional model for word embedding, which is quite troublesome. To reduce our workload, fortunately, there is a pretrained model prodived by the module `sentence_transformers` that is ready to use."
   ]
  },
  {
   "cell_type": "code",
   "execution_count": 455,
   "metadata": {},
   "outputs": [],
   "source": [
    "from sentence_transformers import SentenceTransformer"
   ]
  },
  {
   "cell_type": "markdown",
   "metadata": {},
   "source": [
    "```{seealso}\n",
    "Check the [document](https://www.sbert.net/#) of sentence_transformers for more information.\n",
    "```"
   ]
  },
  {
   "cell_type": "markdown",
   "metadata": {},
   "source": [
    "Encode the news headlines with the model `SentenceTransformer`:"
   ]
  },
  {
   "cell_type": "code",
   "execution_count": 456,
   "metadata": {},
   "outputs": [
    {
     "name": "stdout",
     "output_type": "stream",
     "text": [
      "embeddings.shape: (1167, 384)\n"
     ]
    },
    {
     "data": {
      "text/plain": [
       "array([[ 0.02502805,  0.05323019,  0.09939805, ..., -0.04196155,\n",
       "         0.04668063,  0.05590457],\n",
       "       [-0.01846967, -0.02873902,  0.03534317, ..., -0.13485262,\n",
       "         0.01329796,  0.13287042],\n",
       "       [ 0.02563943, -0.04956274,  0.04786101, ..., -0.07707552,\n",
       "        -0.05291679,  0.0715071 ],\n",
       "       ...,\n",
       "       [-0.01015677,  0.00959312, -0.01810676, ..., -0.03960473,\n",
       "         0.00950317,  0.05490932],\n",
       "       [-0.07479677,  0.01877449,  0.07296403, ..., -0.08446505,\n",
       "         0.02360164,  0.05853827],\n",
       "       [ 0.01585246,  0.05186599,  0.07435998, ..., -0.07771911,\n",
       "         0.01394665,  0.05791727]], dtype=float32)"
      ]
     },
     "execution_count": 456,
     "metadata": {},
     "output_type": "execute_result"
    }
   ],
   "source": [
    "# load pretrained model\n",
    "headline_encoder = SentenceTransformer(\"all-MiniLM-L6-v2\")\n",
    "\n",
    "# encode news headlines to NumPy arrays\n",
    "embeddings = headline_encoder.encode(train_df[\"Headline\"].tolist())\n",
    "\n",
    "print(f\"embeddings.shape: {embeddings.shape}\")\n",
    "embeddings"
   ]
  },
  {
   "cell_type": "markdown",
   "metadata": {},
   "source": [
    "As we can see, each headline is transformed to an array with length 384."
   ]
  },
  {
   "cell_type": "markdown",
   "metadata": {},
   "source": [
    "## Binary Classifier"
   ]
  },
  {
   "cell_type": "markdown",
   "metadata": {},
   "source": [
    "As mentioned, we want to solve a classification problem, the simplest model is Scikit-learn's `SGDClassifier`, which implements a *linear* model with stochastic gradient descent (SGD) learning."
   ]
  },
  {
   "cell_type": "code",
   "execution_count": 457,
   "metadata": {},
   "outputs": [],
   "source": [
    "from sklearn.linear_model import SGDClassifier\n",
    "from sklearn.svm import SVC"
   ]
  },
  {
   "cell_type": "markdown",
   "metadata": {},
   "source": [
    "In terms of machine learning terminologies, each sample $(\\mathbf{x}, y)$ consists of a vector $\\mathbf{x}$ representing 384 features (encoded news headline) and a binary label $y \\in \\{\\text{True}, \\text{False}\\}$."
   ]
  },
  {
   "cell_type": "markdown",
   "metadata": {},
   "source": [
    "Training data:"
   ]
  },
  {
   "cell_type": "code",
   "execution_count": 458,
   "metadata": {},
   "outputs": [],
   "source": [
    "X_train = embeddings\n",
    "y_train = train_df[\"Will Go Up?\"].to_numpy()"
   ]
  },
  {
   "cell_type": "markdown",
   "metadata": {},
   "source": [
    "Train the Model:"
   ]
  },
  {
   "cell_type": "markdown",
   "metadata": {},
   "source": [
    "```{tip}\n",
    "Since `SGDClassifier` applies stochastic gradient descent during the training process. To ensure reproduction of the expreiment result, we pass a random seed to the model.\n",
    "```"
   ]
  },
  {
   "cell_type": "code",
   "execution_count": 459,
   "metadata": {},
   "outputs": [
    {
     "data": {
      "text/plain": [
       "SVC(C=5, kernel='sigmoid')"
      ]
     },
     "execution_count": 459,
     "metadata": {},
     "output_type": "execute_result"
    }
   ],
   "source": [
    "SEED = 7008\n",
    "# sgd_clf = SGDClassifier(random_state=SEED)\n",
    "clf = SVC(C = 5, kernel=\"sigmoid\")\n",
    "clf.fit(X_train, y_train)"
   ]
  },
  {
   "cell_type": "markdown",
   "metadata": {},
   "source": [
    "## Training Performance"
   ]
  },
  {
   "cell_type": "code",
   "execution_count": 460,
   "metadata": {},
   "outputs": [],
   "source": [
    "from sklearn.metrics import confusion_matrix"
   ]
  },
  {
   "cell_type": "code",
   "execution_count": 461,
   "metadata": {},
   "outputs": [
    {
     "data": {
      "text/plain": [
       "array([ True, False, False, ...,  True, False,  True])"
      ]
     },
     "execution_count": 461,
     "metadata": {},
     "output_type": "execute_result"
    }
   ],
   "source": [
    "y_train_pred = clf.predict(X_train)\n",
    "y_train_pred"
   ]
  },
  {
   "cell_type": "markdown",
   "metadata": {},
   "source": [
    "### Confusion Matrix"
   ]
  },
  {
   "cell_type": "code",
   "execution_count": 462,
   "metadata": {},
   "outputs": [
    {
     "data": {
      "text/plain": [
       "array([[238, 320],\n",
       "       [256, 353]])"
      ]
     },
     "execution_count": 462,
     "metadata": {},
     "output_type": "execute_result"
    }
   ],
   "source": [
    "confusion_matrix(y_train, y_train_pred)"
   ]
  },
  {
   "cell_type": "markdown",
   "metadata": {},
   "source": [
    "### ROC Curve"
   ]
  },
  {
   "cell_type": "code",
   "execution_count": 463,
   "metadata": {},
   "outputs": [],
   "source": [
    "from sklearn.metrics import roc_curve, roc_auc_score"
   ]
  },
  {
   "cell_type": "markdown",
   "metadata": {},
   "source": [
    "Plot the ROC curve:"
   ]
  },
  {
   "cell_type": "code",
   "execution_count": 464,
   "metadata": {},
   "outputs": [
    {
     "data": {
      "image/png": "[encoded data removed]",
      "text/plain": [
       "<Figure size 640x480 with 1 Axes>"
      ]
     },
     "metadata": {},
     "output_type": "display_data"
    }
   ],
   "source": [
    "fpr, tpr, thresholds = roc_curve(y_train, y_train_pred)\n",
    "plt.plot(fpr, tpr) \n",
    "plt.plot([0, 1], [0, 1], color=\"k\", linestyle=\"--\")\n",
    "plt.xlabel(\"False Positive Rate\")\n",
    "plt.ylabel(\"True Positive Rate\")\n",
    "plt.grid()\n",
    "plt.show()"
   ]
  },
  {
   "cell_type": "markdown",
   "metadata": {},
   "source": [
    "The area under the ROC curve (AUC):"
   ]
  },
  {
   "cell_type": "code",
   "execution_count": 465,
   "metadata": {},
   "outputs": [
    {
     "data": {
      "text/plain": [
       "0.5030810247717923"
      ]
     },
     "execution_count": 465,
     "metadata": {},
     "output_type": "execute_result"
    }
   ],
   "source": [
    "roc_auc_score(y_train, y_train_pred)"
   ]
  },
  {
   "cell_type": "markdown",
   "metadata": {},
   "source": [
    "## Test Performance and Profit"
   ]
  },
  {
   "cell_type": "markdown",
   "metadata": {},
   "source": [
    "Perform the same transformation on the test data set:"
   ]
  },
  {
   "cell_type": "code",
   "execution_count": 466,
   "metadata": {},
   "outputs": [
    {
     "data": {
      "text/html": [
       "<div>\n",
       "<style scoped>\n",
       "    .dataframe tbody tr th:only-of-type {\n",
       "        vertical-align: middle;\n",
       "    }\n",
       "\n",
       "    .dataframe tbody tr th {\n",
       "        vertical-align: top;\n",
       "    }\n",
       "\n",
       "    .dataframe thead th {\n",
       "        text-align: right;\n",
       "    }\n",
       "</style>\n",
       "<table border=\"1\" class=\"dataframe\">\n",
       "  <thead>\n",
       "    <tr style=\"text-align: right;\">\n",
       "      <th></th>\n",
       "      <th>Headline</th>\n",
       "      <th>Will Go Up?</th>\n",
       "    </tr>\n",
       "    <tr>\n",
       "      <th>Date</th>\n",
       "      <th></th>\n",
       "      <th></th>\n",
       "    </tr>\n",
       "  </thead>\n",
       "  <tbody>\n",
       "    <tr>\n",
       "      <th>2022-06-27</th>\n",
       "      <td>You can now use CarPlay in your Tesla - and it...</td>\n",
       "      <td>False</td>\n",
       "    </tr>\n",
       "    <tr>\n",
       "      <th>2022-06-28</th>\n",
       "      <td>Tesla is cutting about 200 Autopilot jobs and ...</td>\n",
       "      <td>False</td>\n",
       "    </tr>\n",
       "    <tr>\n",
       "      <th>2022-06-29</th>\n",
       "      <td>Tesla lays off about 200 Autopilot workers and...</td>\n",
       "      <td>False</td>\n",
       "    </tr>\n",
       "    <tr>\n",
       "      <th>2022-06-30</th>\n",
       "      <td>Tesla Deliveries Are Coming. The ‘Line in the ...</td>\n",
       "      <td>True</td>\n",
       "    </tr>\n",
       "    <tr>\n",
       "      <th>2022-07-01</th>\n",
       "      <td>Bloomberg</td>\n",
       "      <td>True</td>\n",
       "    </tr>\n",
       "    <tr>\n",
       "      <th>...</th>\n",
       "      <td>...</td>\n",
       "      <td>...</td>\n",
       "    </tr>\n",
       "    <tr>\n",
       "      <th>2022-10-25</th>\n",
       "      <td>Tesla China price cuts ‘not unexpected’ say Ca...</td>\n",
       "      <td>True</td>\n",
       "    </tr>\n",
       "    <tr>\n",
       "      <th>2022-10-26</th>\n",
       "      <td>Exclusive: Tesla faces U.S. criminal probe ove...</td>\n",
       "      <td>True</td>\n",
       "    </tr>\n",
       "    <tr>\n",
       "      <th>2022-10-27</th>\n",
       "      <td>From Tesla to SpaceX, what Elon Musk touches t...</td>\n",
       "      <td>True</td>\n",
       "    </tr>\n",
       "    <tr>\n",
       "      <th>2022-10-28</th>\n",
       "      <td>Wall Street asks if Musk can manage Twitter, T...</td>\n",
       "      <td>False</td>\n",
       "    </tr>\n",
       "    <tr>\n",
       "      <th>2022-10-31</th>\n",
       "      <td>Elon Musk has pulled more than 50 Tesla employ...</td>\n",
       "      <td>True</td>\n",
       "    </tr>\n",
       "  </tbody>\n",
       "</table>\n",
       "<p>89 rows × 2 columns</p>\n",
       "</div>"
      ],
      "text/plain": [
       "                                                     Headline  Will Go Up?\n",
       "Date                                                                      \n",
       "2022-06-27  You can now use CarPlay in your Tesla - and it...        False\n",
       "2022-06-28  Tesla is cutting about 200 Autopilot jobs and ...        False\n",
       "2022-06-29  Tesla lays off about 200 Autopilot workers and...        False\n",
       "2022-06-30  Tesla Deliveries Are Coming. The ‘Line in the ...         True\n",
       "2022-07-01                                          Bloomberg         True\n",
       "...                                                       ...          ...\n",
       "2022-10-25  Tesla China price cuts ‘not unexpected’ say Ca...         True\n",
       "2022-10-26  Exclusive: Tesla faces U.S. criminal probe ove...         True\n",
       "2022-10-27  From Tesla to SpaceX, what Elon Musk touches t...         True\n",
       "2022-10-28  Wall Street asks if Musk can manage Twitter, T...        False\n",
       "2022-10-31  Elon Musk has pulled more than 50 Tesla employ...         True\n",
       "\n",
       "[89 rows x 2 columns]"
      ]
     },
     "execution_count": 466,
     "metadata": {},
     "output_type": "execute_result"
    }
   ],
   "source": [
    "# whther price will go up the next day\n",
    "test_df = test_df[[\"Close\"]].pct_change().shift(-1).dropna()\n",
    "test_df = test_df > 0\n",
    "test_df.rename(columns={\"Close\": \"Will Go Up?\"}, inplace=True)\n",
    "\n",
    "# attach news headlines\n",
    "test_df[\"Headline\"] = np.nan\n",
    "for date in test_df.index:\n",
    "    date_str = datetime.strftime(date, \"%Y-%m-%d\")\n",
    "    news_filepath = os.path.join(\"../../data/news/\", f\"TSLA/{date_str}.json\")\n",
    "    \n",
    "    if not os.path.exists(news_filepath):\n",
    "        continue\n",
    "    \n",
    "    with open(news_filepath, \"r\") as f:\n",
    "        news = json.load(f)\n",
    "    \n",
    "    test_df.loc[date, \"Headline\"] = news[\"Headline\"]\n",
    "test_df = test_df[[\"Headline\", \"Will Go Up?\"]]\n",
    "\n",
    "test_df"
   ]
  },
  {
   "cell_type": "code",
   "execution_count": 467,
   "metadata": {},
   "outputs": [],
   "source": [
    "X_test = headline_encoder.encode(test_df[\"Headline\"].tolist())\n",
    "y_test = test_df[\"Will Go Up?\"].to_numpy()"
   ]
  },
  {
   "cell_type": "markdown",
   "metadata": {},
   "source": [
    "Make prediction:"
   ]
  },
  {
   "cell_type": "code",
   "execution_count": 468,
   "metadata": {},
   "outputs": [],
   "source": [
    "y_test_pred = clf.predict(X_test)"
   ]
  },
  {
   "cell_type": "markdown",
   "metadata": {},
   "source": [
    "### Confusion Matrix"
   ]
  },
  {
   "cell_type": "code",
   "execution_count": 469,
   "metadata": {},
   "outputs": [
    {
     "data": {
      "text/plain": [
       "array([[18, 22],\n",
       "       [21, 28]])"
      ]
     },
     "execution_count": 469,
     "metadata": {},
     "output_type": "execute_result"
    }
   ],
   "source": [
    "confusion_matrix(y_test, y_test_pred)"
   ]
  },
  {
   "cell_type": "markdown",
   "metadata": {},
   "source": [
    "### ROC Curve"
   ]
  },
  {
   "cell_type": "code",
   "execution_count": 470,
   "metadata": {},
   "outputs": [
    {
     "data": {
      "image/png": "[encoded data removed]",
      "text/plain": [
       "<Figure size 640x480 with 1 Axes>"
      ]
     },
     "metadata": {},
     "output_type": "display_data"
    }
   ],
   "source": [
    "fpr, tpr, thresholds = roc_curve(y_test, y_test_pred)\n",
    "plt.plot(fpr, tpr) \n",
    "plt.plot([0, 1], [0, 1], color=\"k\", linestyle=\"--\")\n",
    "plt.xlabel(\"False Positive Rate\")\n",
    "plt.ylabel(\"True Positive Rate\")\n",
    "plt.grid()\n",
    "plt.show()"
   ]
  },
  {
   "cell_type": "code",
   "execution_count": 471,
   "metadata": {},
   "outputs": [
    {
     "data": {
      "text/plain": [
       "0.5107142857142857"
      ]
     },
     "execution_count": 471,
     "metadata": {},
     "output_type": "execute_result"
    }
   ],
   "source": [
    "roc_auc_score(y_test, y_test_pred)"
   ]
  },
  {
   "cell_type": "code",
   "execution_count": 472,
   "metadata": {},
   "outputs": [],
   "source": [
    "import sys\n",
    "sys.path.append(\"../../\")\n",
    "from profit import calc_profit"
   ]
  },
  {
   "cell_type": "code",
   "execution_count": 473,
   "metadata": {},
   "outputs": [
    {
     "data": {
      "text/plain": [
       "(DatetimeIndex(['2022-06-27', '2022-07-01', '2022-07-11', '2022-07-13',\n",
       "                '2022-07-18', '2022-07-22', '2022-07-26', '2022-08-02',\n",
       "                '2022-08-05', '2022-08-09', '2022-08-15', '2022-08-19',\n",
       "                '2022-08-25', '2022-08-30', '2022-09-07', '2022-09-13',\n",
       "                '2022-09-20', '2022-09-29', '2022-10-04', '2022-10-11',\n",
       "                '2022-10-17', '2022-10-21', '2022-10-26'],\n",
       "               dtype='datetime64[ns]', freq=None),\n",
       " DatetimeIndex(['2022-06-28', '2022-07-05', '2022-07-12', '2022-07-14',\n",
       "                '2022-07-20', '2022-07-25', '2022-07-29', '2022-08-04',\n",
       "                '2022-08-08', '2022-08-12', '2022-08-17', '2022-08-24',\n",
       "                '2022-08-29', '2022-09-02', '2022-09-12', '2022-09-19',\n",
       "                '2022-09-27', '2022-10-03', '2022-10-10', '2022-10-13',\n",
       "                '2022-10-18', '2022-10-25', '2022-10-27'],\n",
       "               dtype='datetime64[ns]', freq=None))"
      ]
     },
     "execution_count": 473,
     "metadata": {},
     "output_type": "execute_result"
    }
   ],
   "source": [
    "buy_dates = []\n",
    "sell_dates = []\n",
    "is_holding_shares = False\n",
    "for i, date in enumerate(test_df.index):\n",
    "    if is_holding_shares:\n",
    "        if y_test_pred[i] == False:\n",
    "            sell_dates.append(date)\n",
    "            is_holding_shares = False\n",
    "    else:\n",
    "        if y_test_pred[i] == True:\n",
    "            buy_dates.append(date)\n",
    "            is_holding_shares = True\n",
    "            \n",
    "buy_dates = pd.DatetimeIndex(buy_dates)\n",
    "sell_dates = pd.DatetimeIndex(sell_dates)\n",
    "\n",
    "buy_dates, sell_dates"
   ]
  },
  {
   "cell_type": "code",
   "execution_count": 474,
   "metadata": {},
   "outputs": [
    {
     "name": "stdout",
     "output_type": "stream",
     "text": [
      "2.84%\n"
     ]
    }
   ],
   "source": [
    "profit_rate = calc_profit(stock, buy_dates, sell_dates, start_date=\"2022-06-27\")\n",
    "print(f\"{100 * profit_rate:.2f}%\")"
   ]
  }
 ],
 "metadata": {
  "kernelspec": {
   "display_name": "Python 3.10.6 ('stox')",
   "language": "python",
   "name": "python3"
  },
  "language_info": {
   "codemirror_mode": {
    "name": "ipython",
    "version": 3
   },
   "file_extension": ".py",
   "mimetype": "text/x-python",
   "name": "python",
   "nbconvert_exporter": "python",
   "pygments_lexer": "ipython3",
   "version": "3.10.6"
  },
  "orig_nbformat": 4,
  "vscode": {
   "interpreter": {
    "hash": "b381d2fe9444cf1cecb971d5b2371557f7ae9b538a405ed569cd73f1b37c2a0c"
   }
  }
 },
 "nbformat": 4,
 "nbformat_minor": 2
}
