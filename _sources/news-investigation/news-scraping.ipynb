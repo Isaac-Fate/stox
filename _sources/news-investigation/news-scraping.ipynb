{
 "cells": [
  {
   "cell_type": "markdown",
   "metadata": {},
   "source": [
    "# News Scraping"
   ]
  },
  {
   "cell_type": "code",
   "execution_count": 11,
   "metadata": {},
   "outputs": [],
   "source": [
    "import requests\n",
    "from datetime import datetime"
   ]
  },
  {
   "cell_type": "markdown",
   "metadata": {},
   "source": [
    "## Search Google by URL"
   ]
  },
  {
   "cell_type": "markdown",
   "metadata": {},
   "source": [
    "When typing something into Google's search bar, essentially we are creating a URL which leads to a website. For example, the following URL will lead to the webpage that we can reach by typing the word *apple* into the search bar."
   ]
  },
  {
   "cell_type": "code",
   "execution_count": 10,
   "metadata": {},
   "outputs": [],
   "source": [
    "URL = \"https://www.google.com\""
   ]
  },
  {
   "cell_type": "markdown",
   "metadata": {},
   "source": [
    "Note that we can so much more than just search based on a string (search bar input), which is basically what we usually do. In addition, we can add **parameters** to the URL so that more constraints on our search are specified. For example, we can search news within a particular date range."
   ]
  },
  {
   "cell_type": "markdown",
   "metadata": {},
   "source": [
    "We refer to this [link](https://stenevang.wordpress.com/2013/02/22/google-advanced-power-search-url-request-parameters/) for some detailed information about Googles search URL request parameters."
   ]
  },
  {
   "cell_type": "markdown",
   "metadata": {},
   "source": [
    "Some parameters of interest:\n",
    "- `tbm`, TBM (Term By Method), e.g., `tbm=nws` will search for news\n",
    "- `tbs`, TBS (Term By Search), e.g., \n",
    "  - `tbs=cdr:1,cd_min:3/2/1984,cd_max:6/5/1987` specifies a range from March 2, 1984, to June 5, 1987\n",
    "  - `tbs=sbd:0` sorts the results by relevancy"
   ]
  },
  {
   "cell_type": "markdown",
   "metadata": {},
   "source": [
    "```{tip}\n",
    "Different parameters are connected with `&` symbol.\n",
    "```"
   ]
  },
  {
   "cell_type": "code",
   "execution_count": 26,
   "metadata": {},
   "outputs": [],
   "source": [
    "def create_search_url(query: str, date_str: str):\n",
    "    \"\"\"Create a Google search URL based on provided query content and date.\n",
    "\n",
    "    Parameters\n",
    "    ----------\n",
    "        query (str): _description_\n",
    "        date_str (str): _description_\n",
    "\n",
    "    Returns\n",
    "    -------\n",
    "        _type_: _description_\n",
    "    \"\"\"\n",
    "    \n",
    "    # base URL\n",
    "    url = URL\n",
    "    \n",
    "    # search content\n",
    "    url += f\"/search?q={query}\"\n",
    "    \n",
    "    # search for news\n",
    "    url += f\"&tbm=nws\"\n",
    "    \n",
    "    # get correct date format and then search by date\n",
    "    date = datetime.strptime(date_str, \"%Y-%m-%d\")\n",
    "    query_date_str = datetime.strftime(date, \"%m/%d/%Y\")\n",
    "    url += f\"&tbs=cdr:1,cd_min:{query_date_str},cd_max:{query_date_str}\"\n",
    "    \n",
    "    # sort by relevancy\n",
    "    url += f\",sbd:0\"\n",
    "    \n",
    "    return url"
   ]
  },
  {
   "cell_type": "markdown",
   "metadata": {},
   "source": [
    "If we want to search news about Apple on September 1, 2022, then the URL is:"
   ]
  },
  {
   "cell_type": "code",
   "execution_count": 28,
   "metadata": {},
   "outputs": [
    {
     "data": {
      "text/plain": [
       "'https://www.google.com/search?q=apple&tbm=nws&tbs=cdr:1,cd_min:09/01/2022,cd_max:09/01/2022,sbd:0'"
      ]
     },
     "execution_count": 28,
     "metadata": {},
     "output_type": "execute_result"
    }
   ],
   "source": [
    "create_search_url(\"apple\", \"2022-9-1\")"
   ]
  },
  {
   "cell_type": "markdown",
   "metadata": {},
   "source": [
    "## Get Headlines"
   ]
  },
  {
   "cell_type": "code",
   "execution_count": null,
   "metadata": {},
   "outputs": [],
   "source": [
    "headers = {\n",
    "    \"User-Agent\": \"Firefox\"\n",
    "}\n",
    "\n",
    "# res = requests.get(url, headers=headers)"
   ]
  }
 ],
 "metadata": {
  "kernelspec": {
   "display_name": "Python 3.10.6 ('stox')",
   "language": "python",
   "name": "python3"
  },
  "language_info": {
   "codemirror_mode": {
    "name": "ipython",
    "version": 3
   },
   "file_extension": ".py",
   "mimetype": "text/x-python",
   "name": "python",
   "nbconvert_exporter": "python",
   "pygments_lexer": "ipython3",
   "version": "3.10.6"
  },
  "orig_nbformat": 4,
  "vscode": {
   "interpreter": {
    "hash": "b381d2fe9444cf1cecb971d5b2371557f7ae9b538a405ed569cd73f1b37c2a0c"
   }
  }
 },
 "nbformat": 4,
 "nbformat_minor": 2
}
