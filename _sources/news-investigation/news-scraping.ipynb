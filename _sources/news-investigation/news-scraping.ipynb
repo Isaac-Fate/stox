{
 "cells": [
  {
   "cell_type": "markdown",
   "metadata": {},
   "source": [
    "# News Scraping"
   ]
  },
  {
   "cell_type": "code",
   "execution_count": 35,
   "metadata": {},
   "outputs": [],
   "source": [
    "import requests\n",
    "from bs4 import BeautifulSoup, Tag\n",
    "from datetime import datetime"
   ]
  },
  {
   "cell_type": "markdown",
   "metadata": {},
   "source": [
    "## Search Google by URL"
   ]
  },
  {
   "cell_type": "markdown",
   "metadata": {},
   "source": [
    "When typing something into Google's search bar, essentially we are creating a URL which leads to a website. For example, the following URL will lead to the webpage that we can reach by typing the word *apple* into the search bar."
   ]
  },
  {
   "cell_type": "code",
   "execution_count": 36,
   "metadata": {},
   "outputs": [],
   "source": [
    "GOOGLE = \"https://www.google.com\""
   ]
  },
  {
   "cell_type": "markdown",
   "metadata": {},
   "source": [
    "Note that we can so much more than just search based on a string (search bar input), which is basically what we usually do. In addition, we can add **parameters** to the URL so that more constraints on our search are specified. For example, we can search news within a particular date range."
   ]
  },
  {
   "cell_type": "markdown",
   "metadata": {},
   "source": [
    "We refer to this [link](https://stenevang.wordpress.com/2013/02/22/google-advanced-power-search-url-request-parameters/) for some detailed information about Googles search URL request parameters."
   ]
  },
  {
   "cell_type": "markdown",
   "metadata": {},
   "source": [
    "Some parameters of interest:\n",
    "- `tbm`, TBM (Term By Method), e.g., `tbm=nws` will search for news\n",
    "- `tbs`, TBS (Term By Search), e.g., \n",
    "  - `tbs=cdr:1,cd_min:3/2/1984,cd_max:6/5/1987` specifies a range from March 2, 1984, to June 5, 1987\n",
    "  - `tbs=sbd:0` sorts the results by relevancy\n",
    "- `lr`, language, e.g. \n",
    "  - `lr=lang_en` for English\n",
    "  - `lr=lang_zh-CN` for Chinese"
   ]
  },
  {
   "cell_type": "markdown",
   "metadata": {},
   "source": [
    "```{tip}\n",
    "Different parameters are connected with `&` symbol.\n",
    "```"
   ]
  },
  {
   "cell_type": "code",
   "execution_count": 37,
   "metadata": {},
   "outputs": [],
   "source": [
    "def create_search_url(query: str, date_str: str) -> str:\n",
    "    \"\"\"Create a Google search URL based on provided query content and date.\n",
    "\n",
    "    Parameters\n",
    "    ----------\n",
    "        query (str): The text typed into the search bar.\n",
    "        date_str (str): Date string with format \"YYYY-mm-dd\".\n",
    "\n",
    "    Returns\n",
    "    -------\n",
    "        str: Search URL.\n",
    "    \"\"\"\n",
    "    \n",
    "    # base URL\n",
    "    url = GOOGLE\n",
    "    \n",
    "    # search content\n",
    "    url += f\"/search?q={query}\"\n",
    "    \n",
    "    # search for news\n",
    "    url += f\"&tbm=nws\"\n",
    "    \n",
    "    # get correct date format and then search by date\n",
    "    date = datetime.strptime(date_str, \"%Y-%m-%d\")\n",
    "    query_date_str = datetime.strftime(date, \"%m/%d/%Y\")\n",
    "    url += f\"&tbs=cdr:1,cd_min:{query_date_str},cd_max:{query_date_str}\"\n",
    "    \n",
    "    # sort by relevancy\n",
    "    url += f\",sbd:0\"\n",
    "    \n",
    "    # we want results in english\n",
    "    url += \"&lr=lang_en\"\n",
    "    \n",
    "    return url"
   ]
  },
  {
   "cell_type": "markdown",
   "metadata": {},
   "source": [
    "If we want to search news about Tesla on September 1, 2022, then the URL is:"
   ]
  },
  {
   "cell_type": "code",
   "execution_count": 38,
   "metadata": {},
   "outputs": [
    {
     "data": {
      "text/plain": [
       "'https://www.google.com/search?q=Tesla&tbm=nws&tbs=cdr:1,cd_min:10/01/2022,cd_max:10/01/2022,sbd:0&lr=lang_en'"
      ]
     },
     "execution_count": 38,
     "metadata": {},
     "output_type": "execute_result"
    }
   ],
   "source": [
    "url = create_search_url(\"Tesla\", \"2022-10-1\")\n",
    "url"
   ]
  },
  {
   "cell_type": "markdown",
   "metadata": {},
   "source": [
    "## Find Links to Webpages"
   ]
  },
  {
   "cell_type": "markdown",
   "metadata": {},
   "source": [
    "We can use function `requests.get` to request the content of a website."
   ]
  },
  {
   "cell_type": "markdown",
   "metadata": {},
   "source": [
    "```{tip}\n",
    "Always remember to add a **header** to pretend to be a browser, otherwise your request may be denied.\n",
    "```"
   ]
  },
  {
   "cell_type": "code",
   "execution_count": 39,
   "metadata": {},
   "outputs": [
    {
     "data": {
      "text/plain": [
       "<Response [200]>"
      ]
     },
     "execution_count": 39,
     "metadata": {},
     "output_type": "execute_result"
    }
   ],
   "source": [
    "headers = {\n",
    "    \"User-Agent\": \"Mozilla/5.0 (Macintosh; Intel Mac OS X 10.15; rv:106.0) Gecko/20100101 Firefox/106.0\"\n",
    "}\n",
    "\n",
    "res = requests.get(url, headers=headers)\n",
    "res"
   ]
  },
  {
   "cell_type": "markdown",
   "metadata": {},
   "source": [
    "The return code 200 means that the request is successful. Alternatively, we can check this by examining whether `res.ok` is `True`:"
   ]
  },
  {
   "cell_type": "code",
   "execution_count": 40,
   "metadata": {},
   "outputs": [
    {
     "data": {
      "text/plain": [
       "True"
      ]
     },
     "execution_count": 40,
     "metadata": {},
     "output_type": "execute_result"
    }
   ],
   "source": [
    "res.ok"
   ]
  },
  {
   "cell_type": "markdown",
   "metadata": {},
   "source": [
    "Parse the raw HTML content using `bs4.BeautifulSoup`:"
   ]
  },
  {
   "cell_type": "code",
   "execution_count": 41,
   "metadata": {},
   "outputs": [],
   "source": [
    "soup = BeautifulSoup(res.content, \"html.parser\")"
   ]
  },
  {
   "cell_type": "markdown",
   "metadata": {},
   "source": [
    "By observing the HTML structure of the Google search page, we find that all links are contained inside tags with `class=SoaBEf`. And these tags are decedents of a tag with `id=search`."
   ]
  },
  {
   "cell_type": "code",
   "execution_count": 42,
   "metadata": {},
   "outputs": [
    {
     "data": {
      "text/plain": [
       "['https://www.bbc.com/news/technology-63100636',\n",
       " 'https://www.marca.com/en/technology/2022/10/01/63382cea46163f6e848b4596.html',\n",
       " 'https://finance.yahoo.com/news/tesla-ceo-elon-musk-claims-humanoid-robot-171501450.html',\n",
       " 'https://tech.hindustantimes.com/tech/news/tesla-is-set-to-hit-delivery-record-in-rebound-from-supply-strains-71664607829057.html',\n",
       " 'https://www.siasat.com/tesla-now-has-160000-customers-running-fsd-software-musk-2425130/',\n",
       " 'https://www.geo.tv/latest/443707-sea-bertruck-elong-musk-says-tesla-cybertruck-will-be-able-to-serve-as-a-boat',\n",
       " 'https://www.capital.fr/entreprises-marches/elon-musk-presente-optimus-le-futur-robot-humanoide-de-tesla-1447804',\n",
       " 'https://www.fool.com/investing/2022/10/01/better-stock-split-stock-to-buy-tesla-or-shopify/',\n",
       " 'https://www.barrons.com/articles/tesla-nio-li-xpeng-deliveries-51664633994',\n",
       " 'https://www.mysuncoast.com/2022/10/01/driver-dies-when-tesla-catches-fire-crash-i-75/']"
      ]
     },
     "execution_count": 42,
     "metadata": {},
     "output_type": "execute_result"
    }
   ],
   "source": [
    "# find search tag\n",
    "search_tag = soup.find(id=\"search\")\n",
    "\n",
    "# find tags containing links to webpages\n",
    "tags = search_tag.find_all(attrs={\"class\": \"SoaBEf\"})\n",
    "\n",
    "# extract links\n",
    "links = []\n",
    "tag: Tag\n",
    "for tag in tags:\n",
    "    inner_tag: Tag = tag.find(\"a\")\n",
    "    link = inner_tag.get(\"href\")\n",
    "    links.append(link)\n",
    "    \n",
    "links"
   ]
  },
  {
   "cell_type": "markdown",
   "metadata": {},
   "source": [
    "## Scrape Headlines"
   ]
  },
  {
   "cell_type": "markdown",
   "metadata": {},
   "source": [
    "Now, we want to access each webpage via its link and scrape its heading (news headline)."
   ]
  },
  {
   "cell_type": "code",
   "execution_count": 43,
   "metadata": {},
   "outputs": [
    {
     "data": {
      "text/plain": [
       "True"
      ]
     },
     "execution_count": 43,
     "metadata": {},
     "output_type": "execute_result"
    }
   ],
   "source": [
    "link = links[0]\n",
    "res = requests.get(link, headers=headers)\n",
    "res.ok"
   ]
  },
  {
   "cell_type": "markdown",
   "metadata": {},
   "source": [
    "Make another soup for the webpage:"
   ]
  },
  {
   "cell_type": "code",
   "execution_count": 44,
   "metadata": {},
   "outputs": [],
   "source": [
    "webpage_soup = BeautifulSoup(res.content, \"html.parser\")"
   ]
  },
  {
   "cell_type": "markdown",
   "metadata": {},
   "source": [
    "```{tip}\n",
    "For most of webpages, the first level heading is contained in a special tag named `<h1>`.\n",
    "```"
   ]
  },
  {
   "cell_type": "code",
   "execution_count": 45,
   "metadata": {},
   "outputs": [
    {
     "data": {
      "text/plain": [
       "'Tesla boss Elon Musk presents humanoid robot Optimus'"
      ]
     },
     "execution_count": 45,
     "metadata": {},
     "output_type": "execute_result"
    }
   ],
   "source": [
    "headline_tag: Tag = webpage_soup.find(\"h1\")\n",
    "headline = headline_tag.text\n",
    "\n",
    "# strip whitespaces and line breaks\n",
    "headline = headline.strip()\n",
    "\n",
    "headline"
   ]
  },
  {
   "cell_type": "markdown",
   "metadata": {},
   "source": [
    "## Command Line Usage"
   ]
  },
  {
   "cell_type": "markdown",
   "metadata": {},
   "source": [
    "In our command line app `main.py`, we have implemented a command `find-company-new`. The help message is as follows."
   ]
  },
  {
   "cell_type": "markdown",
   "metadata": {},
   "source": [
    "```\n",
    "> python main.py find-company-news --help\n",
    "Usage: main.py find-company-news [OPTIONS]\n",
    "\n",
    "  Find news headlines for the specified company.\n",
    "\n",
    "Options:\n",
    "  -c, --company TEXT    Company stock/ticker symbol.  [required]\n",
    "  -q, --query TEXT      Search query for the news.  [required]\n",
    "  -a, --from-date TEXT  Starting date.\n",
    "  -b, --to-date TEXT    Ending date.\n",
    "  -s, --skip INTEGER    Number of links to skip.  [default: 0]\n",
    "  -f, --force           Whether to find headline even if news data exists.\n",
    "  --help                Show this message and exit.\n",
    "\n",
    "```"
   ]
  },
  {
   "cell_type": "markdown",
   "metadata": {},
   "source": [
    "For example, we can find the news for Tesla from October 1, 2022, to October 5, 2022, like so:"
   ]
  },
  {
   "cell_type": "markdown",
   "metadata": {},
   "source": [
    "```\n",
    "> python main.py find-company-news --company TSLA --query \"Tesla\" --from-date \"2022-10-1\" --to-date \"2022-10-5\" --force\n",
    "Start finding news headlines...\n",
    "News on 2022-10-01: Tesla boss Elon Musk presents humanoid robot Optimus\n",
    "News on 2022-10-02: Tesla blames logistics problems after delivering fewer cars than forecast\n",
    "News on 2022-10-03: Tesla slides on widening delivery and production gap, demand worries\n",
    "News on 2022-10-04: A Musk Retweet: Tesla CEO Says He'll Pay $44 Billion to Buy Twitter\n",
    "News on 2022-10-05: Musk's move to close Twitter deal leaves Tesla investors worried\n",
    "Successfully found all the news for TSLA.\n",
    "```"
   ]
  }
 ],
 "metadata": {
  "kernelspec": {
   "display_name": "Python 3.10.6 ('stox')",
   "language": "python",
   "name": "python3"
  },
  "language_info": {
   "codemirror_mode": {
    "name": "ipython",
    "version": 3
   },
   "file_extension": ".py",
   "mimetype": "text/x-python",
   "name": "python",
   "nbconvert_exporter": "python",
   "pygments_lexer": "ipython3",
   "version": "3.10.6"
  },
  "orig_nbformat": 4,
  "vscode": {
   "interpreter": {
    "hash": "b381d2fe9444cf1cecb971d5b2371557f7ae9b538a405ed569cd73f1b37c2a0c"
   }
  }
 },
 "nbformat": 4,
 "nbformat_minor": 2
}
