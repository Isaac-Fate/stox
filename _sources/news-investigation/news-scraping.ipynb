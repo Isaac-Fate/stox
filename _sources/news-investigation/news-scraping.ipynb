{
 "cells": [
  {
   "cell_type": "markdown",
   "metadata": {},
   "source": [
    "# News Scraping"
   ]
  },
  {
   "cell_type": "code",
   "execution_count": 121,
   "metadata": {},
   "outputs": [],
   "source": [
    "import requests\n",
    "from bs4 import BeautifulSoup, Tag\n",
    "from datetime import datetime"
   ]
  },
  {
   "cell_type": "markdown",
   "metadata": {},
   "source": [
    "## Search Google by URL"
   ]
  },
  {
   "cell_type": "markdown",
   "metadata": {},
   "source": [
    "When typing something into Google's search bar, essentially we are creating a URL which leads to a website. For example, the following URL will lead to the webpage that we can reach by typing the word *apple* into the search bar."
   ]
  },
  {
   "cell_type": "code",
   "execution_count": 122,
   "metadata": {},
   "outputs": [],
   "source": [
    "GOOGLE = \"https://www.google.com\""
   ]
  },
  {
   "cell_type": "markdown",
   "metadata": {},
   "source": [
    "Note that we can so much more than just search based on a string (search bar input), which is basically what we usually do. In addition, we can add **parameters** to the URL so that more constraints on our search are specified. For example, we can search news within a particular date range."
   ]
  },
  {
   "cell_type": "markdown",
   "metadata": {},
   "source": [
    "We refer to this [link](https://stenevang.wordpress.com/2013/02/22/google-advanced-power-search-url-request-parameters/) for some detailed information about Googles search URL request parameters."
   ]
  },
  {
   "cell_type": "markdown",
   "metadata": {},
   "source": [
    "Some parameters of interest:\n",
    "- `tbm`, TBM (Term By Method), e.g., `tbm=nws` will search for news\n",
    "- `tbs`, TBS (Term By Search), e.g., \n",
    "  - `tbs=cdr:1,cd_min:3/2/1984,cd_max:6/5/1987` specifies a range from March 2, 1984, to June 5, 1987\n",
    "  - `tbs=sbd:0` sorts the results by relevancy\n",
    "- `lr`, language, e.g. \n",
    "  - `lr=lang_en` for English\n",
    "  - `lr=lang_zh-CN` for Chinese"
   ]
  },
  {
   "cell_type": "markdown",
   "metadata": {},
   "source": [
    "```{tip}\n",
    "Different parameters are connected with `&` symbol.\n",
    "```"
   ]
  },
  {
   "cell_type": "code",
   "execution_count": 123,
   "metadata": {},
   "outputs": [],
   "source": [
    "def create_search_url(query: str, date_str: str) -> str:\n",
    "    \"\"\"Create a Google search URL based on provided query content and date.\n",
    "\n",
    "    Parameters\n",
    "    ----------\n",
    "        query (str): The text typed into the search bar.\n",
    "        date_str (str): Date string with format \"YYYY-mm-dd\".\n",
    "\n",
    "    Returns\n",
    "    -------\n",
    "        str: Search URL.\n",
    "    \"\"\"\n",
    "    \n",
    "    # base URL\n",
    "    url = GOOGLE\n",
    "    \n",
    "    # search content\n",
    "    url += f\"/search?q={query}\"\n",
    "    \n",
    "    # search for news\n",
    "    url += f\"&tbm=nws\"\n",
    "    \n",
    "    # get correct date format and then search by date\n",
    "    date = datetime.strptime(date_str, \"%Y-%m-%d\")\n",
    "    query_date_str = datetime.strftime(date, \"%m/%d/%Y\")\n",
    "    url += f\"&tbs=cdr:1,cd_min:{query_date_str},cd_max:{query_date_str}\"\n",
    "    \n",
    "    # sort by relevancy\n",
    "    url += f\",sbd:0\"\n",
    "    \n",
    "    # we want results in english\n",
    "    url += \"&lr=lang_en\"\n",
    "    \n",
    "    return url"
   ]
  },
  {
   "cell_type": "markdown",
   "metadata": {},
   "source": [
    "If we want to search news about Apple on September 1, 2022, then the URL is:"
   ]
  },
  {
   "cell_type": "code",
   "execution_count": 124,
   "metadata": {},
   "outputs": [
    {
     "data": {
      "text/plain": [
       "'https://www.google.com/search?q=apple&tbm=nws&tbs=cdr:1,cd_min:09/01/2022,cd_max:09/01/2022,sbd:0&lr=lang_en'"
      ]
     },
     "execution_count": 124,
     "metadata": {},
     "output_type": "execute_result"
    }
   ],
   "source": [
    "url = create_search_url(\"apple\", \"2022-9-1\")\n",
    "url"
   ]
  },
  {
   "cell_type": "markdown",
   "metadata": {},
   "source": [
    "## Find Links to Webpages"
   ]
  },
  {
   "cell_type": "markdown",
   "metadata": {},
   "source": [
    "We can use function `requests.get` to request the content of a website."
   ]
  },
  {
   "cell_type": "markdown",
   "metadata": {},
   "source": [
    "```{tip}\n",
    "Always remember to add a **header** to pretend to be a browser, otherwise your request may be denied.\n",
    "```"
   ]
  },
  {
   "cell_type": "code",
   "execution_count": 125,
   "metadata": {},
   "outputs": [
    {
     "data": {
      "text/plain": [
       "<Response [200]>"
      ]
     },
     "execution_count": 125,
     "metadata": {},
     "output_type": "execute_result"
    }
   ],
   "source": [
    "headers = {\n",
    "    \"User-Agent\": \"Mozilla/5.0 (Macintosh; Intel Mac OS X 10.15; rv:106.0) Gecko/20100101 Firefox/106.0\"\n",
    "}\n",
    "\n",
    "res = requests.get(url, headers=headers)\n",
    "res"
   ]
  },
  {
   "cell_type": "markdown",
   "metadata": {},
   "source": [
    "The return code 200 means that the request is successful. Alternatively, we can check this by examining whether `res.ok` is `True`:"
   ]
  },
  {
   "cell_type": "code",
   "execution_count": 126,
   "metadata": {},
   "outputs": [
    {
     "data": {
      "text/plain": [
       "True"
      ]
     },
     "execution_count": 126,
     "metadata": {},
     "output_type": "execute_result"
    }
   ],
   "source": [
    "res.ok"
   ]
  },
  {
   "cell_type": "markdown",
   "metadata": {},
   "source": [
    "Parse the raw HTML content using `bs4.BeautifulSoup`:"
   ]
  },
  {
   "cell_type": "code",
   "execution_count": 127,
   "metadata": {},
   "outputs": [],
   "source": [
    "soup = BeautifulSoup(res.content, \"html.parser\")"
   ]
  },
  {
   "cell_type": "markdown",
   "metadata": {},
   "source": [
    "By observing the HTML structure of the Google search page, we find that all links are contained inside tags with `class=SoaBEf`. And these tags are decedents of a tag with `id=search`."
   ]
  },
  {
   "cell_type": "code",
   "execution_count": 128,
   "metadata": {},
   "outputs": [
    {
     "data": {
      "text/plain": [
       "['https://www.macrumors.com/2022/09/01/apple-watch-pro-bad-news-for-band-collections/',\n",
       " 'https://techcrunch.com/2022/09/01/apple-settles-lawsuit-with-developer-over-app-store-rejections-and-scams/',\n",
       " 'https://www.macrumors.com/2022/09/01/apple-settles-flicktype-lawsuit/',\n",
       " 'https://www.ft.com/content/75891d95-4432-4571-83df-b4cdf82d5da5',\n",
       " 'https://www.gov.uk/find-digital-market-research/mobile-ecosystems-market-study-appendix-i-apples-restrictions-on-cloud-gaming-2022-cma',\n",
       " 'https://www.computerworld.com/article/3672238/will-apple-make-the-app-store-more-business-friendly.html',\n",
       " 'https://www.computerworld.com/article/3672111/apple-pushes-out-emergency-updates-to-address-zero-day-exploits.html',\n",
       " 'https://www.businessinsider.com/guides/tech/apple-event-september-what-to-expect-2022-09',\n",
       " 'https://9to5mac.com/2022/09/01/samsung-trolls-iphone-14-apple-ad/',\n",
       " 'https://www.livemint.com/technology/gadgets/iphone-14-max-could-come-with-iphone-14-plus-moniker-report-11662038925215.html']"
      ]
     },
     "execution_count": 128,
     "metadata": {},
     "output_type": "execute_result"
    }
   ],
   "source": [
    "# find search tag\n",
    "search_tag = soup.find(id=\"search\")\n",
    "\n",
    "# find tags containing links to webpages\n",
    "tags = search_tag.find_all(attrs={\"class\": \"SoaBEf\"})\n",
    "\n",
    "# extract links\n",
    "links = []\n",
    "tag: Tag\n",
    "for tag in tags:\n",
    "    inner_tag: Tag = tag.find(\"a\")\n",
    "    link = inner_tag.get(\"href\")\n",
    "    links.append(link)\n",
    "    \n",
    "links"
   ]
  },
  {
   "cell_type": "markdown",
   "metadata": {},
   "source": [
    "## Scrape Headlines"
   ]
  },
  {
   "cell_type": "markdown",
   "metadata": {},
   "source": [
    "Now, we want to access each webpage via its link and scrape its heading (news headline)."
   ]
  },
  {
   "cell_type": "code",
   "execution_count": 129,
   "metadata": {},
   "outputs": [
    {
     "data": {
      "text/plain": [
       "True"
      ]
     },
     "execution_count": 129,
     "metadata": {},
     "output_type": "execute_result"
    }
   ],
   "source": [
    "link = links[0]\n",
    "res = requests.get(link, headers=headers)\n",
    "res.ok"
   ]
  },
  {
   "cell_type": "markdown",
   "metadata": {},
   "source": [
    "Make another soup for the webpage:"
   ]
  },
  {
   "cell_type": "code",
   "execution_count": 130,
   "metadata": {},
   "outputs": [],
   "source": [
    "webpage_soup = BeautifulSoup(res.content, \"html.parser\")"
   ]
  },
  {
   "cell_type": "markdown",
   "metadata": {},
   "source": [
    "```{tip}\n",
    "For most of webpages, the first level heading is contained in a special tag named `<h1>`.\n",
    "```"
   ]
  },
  {
   "cell_type": "code",
   "execution_count": 136,
   "metadata": {},
   "outputs": [
    {
     "data": {
      "text/plain": [
       "\"Apple Watch 'Pro' Could Be Bad News for Band Collections\""
      ]
     },
     "execution_count": 136,
     "metadata": {},
     "output_type": "execute_result"
    }
   ],
   "source": [
    "headline_tag: Tag = webpage_soup.find(\"h1\")\n",
    "headline = headline_tag.text\n",
    "headline"
   ]
  }
 ],
 "metadata": {
  "kernelspec": {
   "display_name": "Python 3.10.6 ('stox')",
   "language": "python",
   "name": "python3"
  },
  "language_info": {
   "codemirror_mode": {
    "name": "ipython",
    "version": 3
   },
   "file_extension": ".py",
   "mimetype": "text/x-python",
   "name": "python",
   "nbconvert_exporter": "python",
   "pygments_lexer": "ipython3",
   "version": "3.10.6"
  },
  "orig_nbformat": 4,
  "vscode": {
   "interpreter": {
    "hash": "b381d2fe9444cf1cecb971d5b2371557f7ae9b538a405ed569cd73f1b37c2a0c"
   }
  }
 },
 "nbformat": 4,
 "nbformat_minor": 2
}
