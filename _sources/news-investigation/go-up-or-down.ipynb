{
 "cells": [
  {
   "cell_type": "markdown",
   "metadata": {},
   "source": [
    "# Go Up or Down?"
   ]
  },
  {
   "cell_type": "markdown",
   "metadata": {},
   "source": [
    "## Binary Classification Problem"
   ]
  },
  {
   "cell_type": "markdown",
   "metadata": {},
   "source": [
    "As mentioned, we want to solve a classification problem."
   ]
  },
  {
   "cell_type": "markdown",
   "metadata": {},
   "source": [
    "In terms of machine learning terminologies, each sample $(\\mathbf{x}, y)$ consists of a vector $\\mathbf{x}$ representing 384 features (encoded news headline) and a binary label $y \\in \\{\\text{True}, \\text{False}\\}$."
   ]
  },
  {
   "cell_type": "markdown",
   "metadata": {},
   "source": [
    "## Linear Model"
   ]
  },
  {
   "cell_type": "markdown",
   "metadata": {},
   "source": [
    "The simplest model is Scikit-learn's `SGDClassifier`, which implements a *linear* model with stochastic gradient descent (SGD) learning."
   ]
  },
  {
   "cell_type": "markdown",
   "metadata": {},
   "source": [
    "```{tip}\n",
    "Since `SGDClassifier` applies stochastic gradient descent during the training process. To ensure reproduction of the expreiment result, we pass a random seed to the model.\n",
    "```"
   ]
  },
  {
   "cell_type": "markdown",
   "metadata": {},
   "source": [
    "## Support Vector Machine (SVM)"
   ]
  },
  {
   "cell_type": "code",
   "execution_count": null,
   "metadata": {},
   "outputs": [],
   "source": []
  }
 ],
 "metadata": {
  "kernelspec": {
   "display_name": "Python 3.10.6 ('stox')",
   "language": "python",
   "name": "python3"
  },
  "language_info": {
   "name": "python",
   "version": "3.10.6"
  },
  "orig_nbformat": 4,
  "vscode": {
   "interpreter": {
    "hash": "b381d2fe9444cf1cecb971d5b2371557f7ae9b538a405ed569cd73f1b37c2a0c"
   }
  }
 },
 "nbformat": 4,
 "nbformat_minor": 2
}
