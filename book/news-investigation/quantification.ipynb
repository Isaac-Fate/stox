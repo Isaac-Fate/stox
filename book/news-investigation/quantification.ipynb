{
 "cells": [
  {
   "cell_type": "markdown",
   "metadata": {},
   "source": [
    "# Quantification"
   ]
  },
  {
   "cell_type": "code",
   "execution_count": 56,
   "metadata": {},
   "outputs": [],
   "source": [
    "import numpy as np\n",
    "import pandas as pd\n",
    "from datetime import datetime\n",
    "import matplotlib.pyplot as plt\n",
    "\n",
    "import sys\n",
    "sys.path.append(\"../../\")\n",
    "\n",
    "# import our modules\n",
    "from news import fetch_news_headline\n",
    "from profit import calc_profit"
   ]
  },
  {
   "cell_type": "markdown",
   "metadata": {},
   "source": [
    "## Load Data"
   ]
  },
  {
   "cell_type": "code",
   "execution_count": 57,
   "metadata": {},
   "outputs": [
    {
     "data": {
      "text/html": [
       "<div>\n",
       "<style scoped>\n",
       "    .dataframe tbody tr th:only-of-type {\n",
       "        vertical-align: middle;\n",
       "    }\n",
       "\n",
       "    .dataframe tbody tr th {\n",
       "        vertical-align: top;\n",
       "    }\n",
       "\n",
       "    .dataframe thead th {\n",
       "        text-align: right;\n",
       "    }\n",
       "</style>\n",
       "<table border=\"1\" class=\"dataframe\">\n",
       "  <thead>\n",
       "    <tr style=\"text-align: right;\">\n",
       "      <th></th>\n",
       "      <th>Open</th>\n",
       "      <th>High</th>\n",
       "      <th>Low</th>\n",
       "      <th>Close</th>\n",
       "      <th>Volume</th>\n",
       "    </tr>\n",
       "    <tr>\n",
       "      <th>Date</th>\n",
       "      <th></th>\n",
       "      <th></th>\n",
       "      <th></th>\n",
       "      <th></th>\n",
       "      <th></th>\n",
       "    </tr>\n",
       "  </thead>\n",
       "  <tbody>\n",
       "    <tr>\n",
       "      <th>2017-11-02</th>\n",
       "      <td>20.008667</td>\n",
       "      <td>20.579332</td>\n",
       "      <td>19.508667</td>\n",
       "      <td>19.950666</td>\n",
       "      <td>296871000</td>\n",
       "    </tr>\n",
       "    <tr>\n",
       "      <th>2017-11-03</th>\n",
       "      <td>19.966667</td>\n",
       "      <td>20.416668</td>\n",
       "      <td>19.675333</td>\n",
       "      <td>20.406000</td>\n",
       "      <td>133410000</td>\n",
       "    </tr>\n",
       "    <tr>\n",
       "      <th>2017-11-06</th>\n",
       "      <td>20.466667</td>\n",
       "      <td>20.500000</td>\n",
       "      <td>19.934000</td>\n",
       "      <td>20.185333</td>\n",
       "      <td>97290000</td>\n",
       "    </tr>\n",
       "    <tr>\n",
       "      <th>2017-11-07</th>\n",
       "      <td>20.068001</td>\n",
       "      <td>20.433332</td>\n",
       "      <td>20.002001</td>\n",
       "      <td>20.403334</td>\n",
       "      <td>79414500</td>\n",
       "    </tr>\n",
       "    <tr>\n",
       "      <th>2017-11-08</th>\n",
       "      <td>20.366667</td>\n",
       "      <td>20.459333</td>\n",
       "      <td>20.086666</td>\n",
       "      <td>20.292667</td>\n",
       "      <td>70879500</td>\n",
       "    </tr>\n",
       "    <tr>\n",
       "      <th>...</th>\n",
       "      <td>...</td>\n",
       "      <td>...</td>\n",
       "      <td>...</td>\n",
       "      <td>...</td>\n",
       "      <td>...</td>\n",
       "    </tr>\n",
       "    <tr>\n",
       "      <th>2022-10-26</th>\n",
       "      <td>219.399994</td>\n",
       "      <td>230.600006</td>\n",
       "      <td>218.199997</td>\n",
       "      <td>224.639999</td>\n",
       "      <td>85012500</td>\n",
       "    </tr>\n",
       "    <tr>\n",
       "      <th>2022-10-27</th>\n",
       "      <td>229.770004</td>\n",
       "      <td>233.809998</td>\n",
       "      <td>222.850006</td>\n",
       "      <td>225.089996</td>\n",
       "      <td>61638800</td>\n",
       "    </tr>\n",
       "    <tr>\n",
       "      <th>2022-10-28</th>\n",
       "      <td>225.399994</td>\n",
       "      <td>228.860001</td>\n",
       "      <td>216.350006</td>\n",
       "      <td>228.520004</td>\n",
       "      <td>69152400</td>\n",
       "    </tr>\n",
       "    <tr>\n",
       "      <th>2022-10-31</th>\n",
       "      <td>226.190002</td>\n",
       "      <td>229.850006</td>\n",
       "      <td>221.940002</td>\n",
       "      <td>227.539993</td>\n",
       "      <td>61554300</td>\n",
       "    </tr>\n",
       "    <tr>\n",
       "      <th>2022-11-01</th>\n",
       "      <td>234.050003</td>\n",
       "      <td>237.399994</td>\n",
       "      <td>227.279999</td>\n",
       "      <td>227.820007</td>\n",
       "      <td>62566500</td>\n",
       "    </tr>\n",
       "  </tbody>\n",
       "</table>\n",
       "<p>1258 rows × 5 columns</p>\n",
       "</div>"
      ],
      "text/plain": [
       "                  Open        High         Low       Close     Volume\n",
       "Date                                                                 \n",
       "2017-11-02   20.008667   20.579332   19.508667   19.950666  296871000\n",
       "2017-11-03   19.966667   20.416668   19.675333   20.406000  133410000\n",
       "2017-11-06   20.466667   20.500000   19.934000   20.185333   97290000\n",
       "2017-11-07   20.068001   20.433332   20.002001   20.403334   79414500\n",
       "2017-11-08   20.366667   20.459333   20.086666   20.292667   70879500\n",
       "...                ...         ...         ...         ...        ...\n",
       "2022-10-26  219.399994  230.600006  218.199997  224.639999   85012500\n",
       "2022-10-27  229.770004  233.809998  222.850006  225.089996   61638800\n",
       "2022-10-28  225.399994  228.860001  216.350006  228.520004   69152400\n",
       "2022-10-31  226.190002  229.850006  221.940002  227.539993   61554300\n",
       "2022-11-01  234.050003  237.399994  227.279999  227.820007   62566500\n",
       "\n",
       "[1258 rows x 5 columns]"
      ]
     },
     "execution_count": 57,
     "metadata": {},
     "output_type": "execute_result"
    }
   ],
   "source": [
    "stocks: pd.DataFrame = pd.read_csv(\"../../data/stocks.csv\", index_col=0, parse_dates=True)\n",
    "company = \"TSLA\"\n",
    "stock = stocks.query(f\"Company == '{company}'\").drop(columns=[\"Company\", \"Sector\"])\n",
    "stock"
   ]
  },
  {
   "cell_type": "markdown",
   "metadata": {},
   "source": [
    "## Combine Stocks and News"
   ]
  },
  {
   "cell_type": "markdown",
   "metadata": {},
   "source": [
    "Intuitively, the news information can only provide us with very vague information about the stock price. In fact, it is already good enough if today's news can tell us whether the stock price will increase tomorrow."
   ]
  },
  {
   "cell_type": "code",
   "execution_count": 58,
   "metadata": {},
   "outputs": [
    {
     "data": {
      "text/html": [
       "<div>\n",
       "<style scoped>\n",
       "    .dataframe tbody tr th:only-of-type {\n",
       "        vertical-align: middle;\n",
       "    }\n",
       "\n",
       "    .dataframe tbody tr th {\n",
       "        vertical-align: top;\n",
       "    }\n",
       "\n",
       "    .dataframe thead th {\n",
       "        text-align: right;\n",
       "    }\n",
       "</style>\n",
       "<table border=\"1\" class=\"dataframe\">\n",
       "  <thead>\n",
       "    <tr style=\"text-align: right;\">\n",
       "      <th></th>\n",
       "      <th>Will Go Up?</th>\n",
       "    </tr>\n",
       "    <tr>\n",
       "      <th>Date</th>\n",
       "      <th></th>\n",
       "    </tr>\n",
       "  </thead>\n",
       "  <tbody>\n",
       "    <tr>\n",
       "      <th>2017-11-02</th>\n",
       "      <td>True</td>\n",
       "    </tr>\n",
       "    <tr>\n",
       "      <th>2017-11-03</th>\n",
       "      <td>False</td>\n",
       "    </tr>\n",
       "    <tr>\n",
       "      <th>2017-11-06</th>\n",
       "      <td>True</td>\n",
       "    </tr>\n",
       "    <tr>\n",
       "      <th>2017-11-07</th>\n",
       "      <td>False</td>\n",
       "    </tr>\n",
       "    <tr>\n",
       "      <th>2017-11-08</th>\n",
       "      <td>False</td>\n",
       "    </tr>\n",
       "    <tr>\n",
       "      <th>...</th>\n",
       "      <td>...</td>\n",
       "    </tr>\n",
       "    <tr>\n",
       "      <th>2022-10-25</th>\n",
       "      <td>True</td>\n",
       "    </tr>\n",
       "    <tr>\n",
       "      <th>2022-10-26</th>\n",
       "      <td>True</td>\n",
       "    </tr>\n",
       "    <tr>\n",
       "      <th>2022-10-27</th>\n",
       "      <td>True</td>\n",
       "    </tr>\n",
       "    <tr>\n",
       "      <th>2022-10-28</th>\n",
       "      <td>False</td>\n",
       "    </tr>\n",
       "    <tr>\n",
       "      <th>2022-10-31</th>\n",
       "      <td>True</td>\n",
       "    </tr>\n",
       "  </tbody>\n",
       "</table>\n",
       "<p>1257 rows × 1 columns</p>\n",
       "</div>"
      ],
      "text/plain": [
       "            Will Go Up?\n",
       "Date                   \n",
       "2017-11-02         True\n",
       "2017-11-03        False\n",
       "2017-11-06         True\n",
       "2017-11-07        False\n",
       "2017-11-08        False\n",
       "...                 ...\n",
       "2022-10-25         True\n",
       "2022-10-26         True\n",
       "2022-10-27         True\n",
       "2022-10-28        False\n",
       "2022-10-31         True\n",
       "\n",
       "[1257 rows x 1 columns]"
      ]
     },
     "execution_count": 58,
     "metadata": {},
     "output_type": "execute_result"
    }
   ],
   "source": [
    "# shifted percentage change: (tomorrow - today) / today\n",
    "df = stock[[\"Close\"]].pct_change().shift(-1).dropna()\n",
    "\n",
    "# whether the stock price will increase compared with today's price\n",
    "df = df > 0\n",
    "df.rename(columns={\"Close\": \"Will Go Up?\"}, inplace=True)\n",
    "df"
   ]
  },
  {
   "cell_type": "markdown",
   "metadata": {},
   "source": [
    "Now, we attach the news headline on each date to the data frame:"
   ]
  },
  {
   "cell_type": "code",
   "execution_count": 59,
   "metadata": {},
   "outputs": [
    {
     "data": {
      "text/html": [
       "<div>\n",
       "<style scoped>\n",
       "    .dataframe tbody tr th:only-of-type {\n",
       "        vertical-align: middle;\n",
       "    }\n",
       "\n",
       "    .dataframe tbody tr th {\n",
       "        vertical-align: top;\n",
       "    }\n",
       "\n",
       "    .dataframe thead th {\n",
       "        text-align: right;\n",
       "    }\n",
       "</style>\n",
       "<table border=\"1\" class=\"dataframe\">\n",
       "  <thead>\n",
       "    <tr style=\"text-align: right;\">\n",
       "      <th></th>\n",
       "      <th>Headline</th>\n",
       "      <th>Will Go Up?</th>\n",
       "    </tr>\n",
       "    <tr>\n",
       "      <th>Date</th>\n",
       "      <th></th>\n",
       "      <th></th>\n",
       "    </tr>\n",
       "  </thead>\n",
       "  <tbody>\n",
       "    <tr>\n",
       "      <th>2017-11-02</th>\n",
       "      <td>Okay Elon Musk, what's gone wrong with the Tes...</td>\n",
       "      <td>True</td>\n",
       "    </tr>\n",
       "    <tr>\n",
       "      <th>2017-11-03</th>\n",
       "      <td>Tesla hits bumps in pursuit of mass market</td>\n",
       "      <td>False</td>\n",
       "    </tr>\n",
       "    <tr>\n",
       "      <th>2017-11-06</th>\n",
       "      <td>Tesla Investors May Be Losing Patience</td>\n",
       "      <td>True</td>\n",
       "    </tr>\n",
       "    <tr>\n",
       "      <th>2017-11-07</th>\n",
       "      <td>Bloomberg</td>\n",
       "      <td>False</td>\n",
       "    </tr>\n",
       "    <tr>\n",
       "      <th>2017-11-08</th>\n",
       "      <td>Elon Musk met with Erdogan to discuss Tesla's ...</td>\n",
       "      <td>False</td>\n",
       "    </tr>\n",
       "    <tr>\n",
       "      <th>...</th>\n",
       "      <td>...</td>\n",
       "      <td>...</td>\n",
       "    </tr>\n",
       "    <tr>\n",
       "      <th>2022-10-25</th>\n",
       "      <td>Update: Tesla Cuts Prices in China After Signs...</td>\n",
       "      <td>True</td>\n",
       "    </tr>\n",
       "    <tr>\n",
       "      <th>2022-10-26</th>\n",
       "      <td>Exclusive: Tesla faces U.S. criminal probe ove...</td>\n",
       "      <td>True</td>\n",
       "    </tr>\n",
       "    <tr>\n",
       "      <th>2022-10-27</th>\n",
       "      <td>From Tesla to SpaceX, what Elon Musk touches t...</td>\n",
       "      <td>True</td>\n",
       "    </tr>\n",
       "    <tr>\n",
       "      <th>2022-10-28</th>\n",
       "      <td>Wall Street asks if Musk can manage Twitter, T...</td>\n",
       "      <td>False</td>\n",
       "    </tr>\n",
       "    <tr>\n",
       "      <th>2022-10-31</th>\n",
       "      <td>Elon Musk has pulled more than 50 Tesla employ...</td>\n",
       "      <td>True</td>\n",
       "    </tr>\n",
       "  </tbody>\n",
       "</table>\n",
       "<p>1068 rows × 2 columns</p>\n",
       "</div>"
      ],
      "text/plain": [
       "                                                     Headline  Will Go Up?\n",
       "Date                                                                      \n",
       "2017-11-02  Okay Elon Musk, what's gone wrong with the Tes...         True\n",
       "2017-11-03         Tesla hits bumps in pursuit of mass market        False\n",
       "2017-11-06             Tesla Investors May Be Losing Patience         True\n",
       "2017-11-07                                          Bloomberg        False\n",
       "2017-11-08  Elon Musk met with Erdogan to discuss Tesla's ...        False\n",
       "...                                                       ...          ...\n",
       "2022-10-25  Update: Tesla Cuts Prices in China After Signs...         True\n",
       "2022-10-26  Exclusive: Tesla faces U.S. criminal probe ove...         True\n",
       "2022-10-27  From Tesla to SpaceX, what Elon Musk touches t...         True\n",
       "2022-10-28  Wall Street asks if Musk can manage Twitter, T...        False\n",
       "2022-10-31  Elon Musk has pulled more than 50 Tesla employ...         True\n",
       "\n",
       "[1068 rows x 2 columns]"
      ]
     },
     "execution_count": 59,
     "metadata": {},
     "output_type": "execute_result"
    }
   ],
   "source": [
    "DATABASE_FILEPATH = \"../../data/news.db\"\n",
    "\n",
    "df[\"Headline\"] = np.nan\n",
    "\n",
    "for date in df.index:\n",
    "    # correct date format\n",
    "    date_str = datetime.strftime(date, \"%Y-%m-%d\")\n",
    "    \n",
    "    # fetch news headline from database\n",
    "    headline = fetch_news_headline(DATABASE_FILEPATH, company, date_str)\n",
    "    \n",
    "    # attch news headline to data frame\n",
    "    df.loc[date, \"Headline\"] = headline\n",
    "\n",
    "df = df[[\"Headline\", \"Will Go Up?\"]].dropna()\n",
    "df"
   ]
  },
  {
   "cell_type": "markdown",
   "metadata": {},
   "source": [
    "Split training and test data sets:"
   ]
  },
  {
   "cell_type": "code",
   "execution_count": 60,
   "metadata": {},
   "outputs": [],
   "source": [
    "num_days_left_out = 90\n",
    "train_df = df[:-num_days_left_out]\n",
    "test_df = df[-num_days_left_out:]"
   ]
  },
  {
   "cell_type": "markdown",
   "metadata": {},
   "source": [
    "## Word Embedding"
   ]
  },
  {
   "cell_type": "markdown",
   "metadata": {},
   "source": [
    "Our goal is to predict whether the stock price will go up tomorrow based on today's news. So, it can be treated as a **classification** problem, more precisely, a **binary classification** problem. That is, we want to find a mapping / decision rule:\n",
    "\n",
    "$$\n",
    "\\text{News Headline (Text)} \\mapsto \\{\\text{True}, \\text{False}\\}\n",
    "$$"
   ]
  },
  {
   "cell_type": "markdown",
   "metadata": {},
   "source": [
    "But the headlines consist of text data. Hence, we need to first transform or encode them to numerical data. This procedure is called **word embedding**."
   ]
  },
  {
   "cell_type": "markdown",
   "metadata": {},
   "source": [
    "Usually, we need to train an additional model for word embedding, which is quite troublesome. To reduce our workload, fortunately, there is a pretrained model prodived by the module `sentence_transformers` that is ready to use."
   ]
  },
  {
   "cell_type": "code",
   "execution_count": 61,
   "metadata": {},
   "outputs": [],
   "source": [
    "from sentence_transformers import SentenceTransformer"
   ]
  },
  {
   "cell_type": "markdown",
   "metadata": {},
   "source": [
    "```{seealso}\n",
    "Check the [document](https://www.sbert.net/#) of sentence_transformers for more information.\n",
    "```"
   ]
  },
  {
   "cell_type": "markdown",
   "metadata": {},
   "source": [
    "Encode the news headlines with the model `SentenceTransformer`:"
   ]
  },
  {
   "cell_type": "code",
   "execution_count": 62,
   "metadata": {},
   "outputs": [
    {
     "name": "stdout",
     "output_type": "stream",
     "text": [
      "embeddings.shape: (978, 384)\n"
     ]
    },
    {
     "data": {
      "text/plain": [
       "array([[-0.00946767,  0.01169717,  0.07283923, ..., -0.07292849,\n",
       "        -0.02329506,  0.11975066],\n",
       "       [-0.01846967, -0.02873902,  0.03534317, ..., -0.13485262,\n",
       "         0.01329796,  0.13287042],\n",
       "       [ 0.02563943, -0.04956274,  0.04786101, ..., -0.07707552,\n",
       "        -0.05291679,  0.0715071 ],\n",
       "       ...,\n",
       "       [-0.00674385,  0.0027471 ,  0.09396511, ..., -0.09142395,\n",
       "         0.01973804,  0.08486167],\n",
       "       [-0.07479677,  0.01877449,  0.07296403, ..., -0.08446505,\n",
       "         0.02360164,  0.05853827],\n",
       "       [ 0.01585246,  0.05186599,  0.07435998, ..., -0.07771911,\n",
       "         0.01394665,  0.05791727]], dtype=float32)"
      ]
     },
     "execution_count": 62,
     "metadata": {},
     "output_type": "execute_result"
    }
   ],
   "source": [
    "# load pretrained model\n",
    "headline_encoder = SentenceTransformer(\"all-MiniLM-L6-v2\")\n",
    "\n",
    "# encode news headlines to NumPy arrays\n",
    "embeddings = headline_encoder.encode(train_df[\"Headline\"].tolist())\n",
    "\n",
    "print(f\"embeddings.shape: {embeddings.shape}\")\n",
    "embeddings"
   ]
  },
  {
   "cell_type": "markdown",
   "metadata": {},
   "source": [
    "As we can see, each headline is transformed to an array with length 384."
   ]
  },
  {
   "cell_type": "markdown",
   "metadata": {},
   "source": [
    "## Binary Classification Problem using SVM"
   ]
  },
  {
   "cell_type": "markdown",
   "metadata": {},
   "source": [
    "As mentioned, we want to solve a classification problem."
   ]
  },
  {
   "cell_type": "markdown",
   "metadata": {},
   "source": [
    "In terms of machine learning terminologies, each sample $(\\mathbf{x}, y)$ consists of a vector $\\mathbf{x}$ representing 384 features (encoded news headline) and a binary label $y \\in \\{\\text{True}, \\text{False}\\}$."
   ]
  },
  {
   "cell_type": "markdown",
   "metadata": {},
   "source": [
    "The most popular choice is the Support Vector Machine (SVM)."
   ]
  },
  {
   "cell_type": "code",
   "execution_count": 63,
   "metadata": {},
   "outputs": [
    {
     "data": {
      "text/plain": [
       "SVC(C=1)"
      ]
     },
     "execution_count": 63,
     "metadata": {},
     "output_type": "execute_result"
    }
   ],
   "source": [
    "from sklearn.svm import SVC\n",
    "\n",
    "# prepare training data\n",
    "X_train = embeddings\n",
    "y_train = train_df[\"Will Go Up?\"].to_numpy()\n",
    "\n",
    "# train!\n",
    "clf = SVC(C=1, kernel=\"rbf\")\n",
    "clf.fit(X_train, y_train)"
   ]
  },
  {
   "cell_type": "markdown",
   "metadata": {},
   "source": [
    "Prepare the test data follows exactly the same procedure as before:"
   ]
  },
  {
   "cell_type": "code",
   "execution_count": 64,
   "metadata": {},
   "outputs": [],
   "source": [
    "X_test = headline_encoder.encode(test_df[\"Headline\"].tolist())\n",
    "y_test = test_df[\"Will Go Up?\"].to_numpy()"
   ]
  },
  {
   "cell_type": "markdown",
   "metadata": {},
   "source": [
    "Predict the whether price will go up or down:"
   ]
  },
  {
   "cell_type": "code",
   "execution_count": 65,
   "metadata": {},
   "outputs": [],
   "source": [
    "y_pred = clf.predict(X_test)"
   ]
  },
  {
   "cell_type": "markdown",
   "metadata": {},
   "source": [
    "ROC curve and AUC score:"
   ]
  },
  {
   "cell_type": "code",
   "execution_count": 66,
   "metadata": {},
   "outputs": [
    {
     "data": {
      "image/png": "[encoded data removed]",
      "text/plain": [
       "<Figure size 640x480 with 1 Axes>"
      ]
     },
     "metadata": {},
     "output_type": "display_data"
    }
   ],
   "source": [
    "from sklearn.metrics import roc_curve, roc_auc_score\n",
    "\n",
    "fpr, tpr, thresholds = roc_curve(y_test, y_pred)\n",
    "plt.plot(fpr, tpr, linewidth=2) \n",
    "plt.plot([0, 1], [0, 1], color=\"k\", linestyle=\"--\")\n",
    "plt.grid()\n",
    "plt.show()"
   ]
  },
  {
   "cell_type": "code",
   "execution_count": 67,
   "metadata": {},
   "outputs": [
    {
     "data": {
      "text/plain": [
       "0.5316077650572424"
      ]
     },
     "execution_count": 67,
     "metadata": {},
     "output_type": "execute_result"
    }
   ],
   "source": [
    "roc_auc_score(y_test, y_pred)"
   ]
  },
  {
   "cell_type": "markdown",
   "metadata": {},
   "source": [
    "Unfortunately, the value of AUC is only *slightly* grater than 0.5, which means the classifier not very satisfactory."
   ]
  },
  {
   "cell_type": "markdown",
   "metadata": {},
   "source": [
    "## Profit"
   ]
  },
  {
   "cell_type": "markdown",
   "metadata": {},
   "source": [
    "Decide the dates to buy and sell:"
   ]
  },
  {
   "cell_type": "code",
   "execution_count": 68,
   "metadata": {},
   "outputs": [
    {
     "data": {
      "text/plain": [
       "(DatetimeIndex(['2022-06-27', '2022-07-05', '2022-07-07', '2022-07-12',\n",
       "                '2022-07-14', '2022-07-19', '2022-07-26', '2022-08-01',\n",
       "                '2022-08-05', '2022-08-11', '2022-09-01', '2022-09-12',\n",
       "                '2022-09-14', '2022-09-20', '2022-09-26', '2022-09-29',\n",
       "                '2022-10-07', '2022-10-11', '2022-10-25'],\n",
       "               dtype='datetime64[ns]', freq=None),\n",
       " DatetimeIndex(['2022-07-01', '2022-07-06', '2022-07-11', '2022-07-13',\n",
       "                '2022-07-15', '2022-07-21', '2022-07-27', '2022-08-04',\n",
       "                '2022-08-09', '2022-08-23', '2022-09-08', '2022-09-13',\n",
       "                '2022-09-19', '2022-09-22', '2022-09-27', '2022-10-03',\n",
       "                '2022-10-10', '2022-10-19', '2022-10-27'],\n",
       "               dtype='datetime64[ns]', freq=None))"
      ]
     },
     "execution_count": 68,
     "metadata": {},
     "output_type": "execute_result"
    }
   ],
   "source": [
    "# Find buying and selling dates\n",
    "buy_dates = []\n",
    "sell_dates = []\n",
    "is_holding_shares = False\n",
    "for i, date in enumerate(test_df.index):\n",
    "    will_go_up = y_pred[i]\n",
    "    if is_holding_shares:\n",
    "        # price will go down, sell it!\n",
    "        if not will_go_up:\n",
    "            sell_dates.append(date)\n",
    "            is_holding_shares = False\n",
    "    else:\n",
    "        # price will go up, buy!\n",
    "        if will_go_up:\n",
    "            buy_dates.append(date)\n",
    "            is_holding_shares = True\n",
    "\n",
    "# convert to Pandas `DatetimeIndex`\n",
    "buy_dates = pd.DatetimeIndex(buy_dates)\n",
    "sell_dates = pd.DatetimeIndex(sell_dates)\n",
    "\n",
    "buy_dates, sell_dates"
   ]
  },
  {
   "cell_type": "markdown",
   "metadata": {},
   "source": [
    "How much can we earn if the strategy is entirely news-driven?"
   ]
  },
  {
   "cell_type": "code",
   "execution_count": 69,
   "metadata": {},
   "outputs": [
    {
     "name": "stdout",
     "output_type": "stream",
     "text": [
      "Profit rate: 3.25%\n"
     ]
    }
   ],
   "source": [
    "start_date = test_df.index[0]\n",
    "profit_rate = calc_profit(stock, buy_dates, sell_dates, start_date)\n",
    "print(f\"Profit rate: {profit_rate:.2%}\")"
   ]
  },
  {
   "cell_type": "markdown",
   "metadata": {},
   "source": [
    "The profit rate is only 3.25%, which lower than both SMA and prediction-based (LSTM) strategies."
   ]
  },
  {
   "cell_type": "markdown",
   "metadata": {},
   "source": [
    "## Conclusion"
   ]
  },
  {
   "cell_type": "markdown",
   "metadata": {},
   "source": [
    "As we can see, it is not adequate to predict whether the stock price will go up or down tomorrow *only* based on the news. More delicate techniques are required in future works!"
   ]
  }
 ],
 "metadata": {
  "kernelspec": {
   "display_name": "Python 3.10.6 ('stox')",
   "language": "python",
   "name": "python3"
  },
  "language_info": {
   "codemirror_mode": {
    "name": "ipython",
    "version": 3
   },
   "file_extension": ".py",
   "mimetype": "text/x-python",
   "name": "python",
   "nbconvert_exporter": "python",
   "pygments_lexer": "ipython3",
   "version": "3.10.6"
  },
  "orig_nbformat": 4,
  "vscode": {
   "interpreter": {
    "hash": "b381d2fe9444cf1cecb971d5b2371557f7ae9b538a405ed569cd73f1b37c2a0c"
   }
  }
 },
 "nbformat": 4,
 "nbformat_minor": 2
}
