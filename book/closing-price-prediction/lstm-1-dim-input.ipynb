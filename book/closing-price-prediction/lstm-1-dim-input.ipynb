{
 "cells": [
  {
   "cell_type": "markdown",
   "metadata": {
    "collapsed": false
   },
   "source": [
    "# Closing Price Prediction with LSTM"
   ]
  },
  {
   "cell_type": "markdown",
   "metadata": {
    "collapsed": false
   },
   "source": [
    "In this notebook, we only consider the time series consisting of daily closing prices. The information of daily opening, lowest and highest price is not used."
   ]
  },
  {
   "cell_type": "code",
   "execution_count": 37,
   "metadata": {
    "collapsed": false
   },
   "outputs": [],
   "source": [
    "import numpy as np\n",
    "import pandas as pd\n",
    "import os\n",
    "import torch\n",
    "from torch import nn\n",
    "from torch import optim\n",
    "from torchsummary import summary\n",
    "from torchviz import make_dot\n",
    "from sklearn.preprocessing import MinMaxScaler\n",
    "from sklearn.metrics import mean_squared_error\n",
    "import matplotlib.pyplot as plt\n",
    "import mplfinance as mpf"
   ]
  },
  {
   "cell_type": "markdown",
   "metadata": {
    "collapsed": false
   },
   "source": [
    "## Data Processing"
   ]
  },
  {
   "cell_type": "code",
   "execution_count": 38,
   "metadata": {
    "collapsed": true
   },
   "outputs": [
    {
     "data": {
      "text/html": [
       "<div>\n",
       "<style scoped>\n",
       "    .dataframe tbody tr th:only-of-type {\n",
       "        vertical-align: middle;\n",
       "    }\n",
       "\n",
       "    .dataframe tbody tr th {\n",
       "        vertical-align: top;\n",
       "    }\n",
       "\n",
       "    .dataframe thead th {\n",
       "        text-align: right;\n",
       "    }\n",
       "</style>\n",
       "<table border=\"1\" class=\"dataframe\">\n",
       "  <thead>\n",
       "    <tr style=\"text-align: right;\">\n",
       "      <th></th>\n",
       "      <th>Company</th>\n",
       "      <th>Sector</th>\n",
       "      <th>Open</th>\n",
       "      <th>High</th>\n",
       "      <th>Low</th>\n",
       "      <th>Close</th>\n",
       "      <th>Volume</th>\n",
       "    </tr>\n",
       "    <tr>\n",
       "      <th>Date</th>\n",
       "      <th></th>\n",
       "      <th></th>\n",
       "      <th></th>\n",
       "      <th></th>\n",
       "      <th></th>\n",
       "      <th></th>\n",
       "      <th></th>\n",
       "    </tr>\n",
       "  </thead>\n",
       "  <tbody>\n",
       "    <tr>\n",
       "      <th>2017-11-02</th>\n",
       "      <td>AAPL</td>\n",
       "      <td>Technology</td>\n",
       "      <td>41.650002</td>\n",
       "      <td>42.125000</td>\n",
       "      <td>41.320000</td>\n",
       "      <td>42.027500</td>\n",
       "      <td>165573600</td>\n",
       "    </tr>\n",
       "    <tr>\n",
       "      <th>2017-11-03</th>\n",
       "      <td>AAPL</td>\n",
       "      <td>Technology</td>\n",
       "      <td>43.500000</td>\n",
       "      <td>43.564999</td>\n",
       "      <td>42.779999</td>\n",
       "      <td>43.125000</td>\n",
       "      <td>237594400</td>\n",
       "    </tr>\n",
       "    <tr>\n",
       "      <th>2017-11-06</th>\n",
       "      <td>AAPL</td>\n",
       "      <td>Technology</td>\n",
       "      <td>43.092499</td>\n",
       "      <td>43.747501</td>\n",
       "      <td>42.930000</td>\n",
       "      <td>43.562500</td>\n",
       "      <td>140105200</td>\n",
       "    </tr>\n",
       "    <tr>\n",
       "      <th>2017-11-07</th>\n",
       "      <td>AAPL</td>\n",
       "      <td>Technology</td>\n",
       "      <td>43.477501</td>\n",
       "      <td>43.812500</td>\n",
       "      <td>43.400002</td>\n",
       "      <td>43.702499</td>\n",
       "      <td>97446000</td>\n",
       "    </tr>\n",
       "    <tr>\n",
       "      <th>2017-11-08</th>\n",
       "      <td>AAPL</td>\n",
       "      <td>Technology</td>\n",
       "      <td>43.665001</td>\n",
       "      <td>44.060001</td>\n",
       "      <td>43.582500</td>\n",
       "      <td>44.060001</td>\n",
       "      <td>97638000</td>\n",
       "    </tr>\n",
       "  </tbody>\n",
       "</table>\n",
       "</div>"
      ],
      "text/plain": [
       "           Company      Sector       Open       High        Low      Close  \\\n",
       "Date                                                                         \n",
       "2017-11-02    AAPL  Technology  41.650002  42.125000  41.320000  42.027500   \n",
       "2017-11-03    AAPL  Technology  43.500000  43.564999  42.779999  43.125000   \n",
       "2017-11-06    AAPL  Technology  43.092499  43.747501  42.930000  43.562500   \n",
       "2017-11-07    AAPL  Technology  43.477501  43.812500  43.400002  43.702499   \n",
       "2017-11-08    AAPL  Technology  43.665001  44.060001  43.582500  44.060001   \n",
       "\n",
       "               Volume  \n",
       "Date                   \n",
       "2017-11-02  165573600  \n",
       "2017-11-03  237594400  \n",
       "2017-11-06  140105200  \n",
       "2017-11-07   97446000  \n",
       "2017-11-08   97638000  "
      ]
     },
     "execution_count": 38,
     "metadata": {},
     "output_type": "execute_result"
    }
   ],
   "source": [
    "DATA_DIR = \"../../data\"\n",
    "stocks = pd.read_csv(os.path.join(DATA_DIR, \"stocks.csv\"), index_col=0, parse_dates=True)\n",
    "stocks.head(5)"
   ]
  },
  {
   "cell_type": "markdown",
   "metadata": {
    "collapsed": false
   },
   "source": [
    "We choose to analyze the Apple company."
   ]
  },
  {
   "cell_type": "code",
   "execution_count": 39,
   "metadata": {
    "collapsed": false
   },
   "outputs": [
    {
     "data": {
      "text/html": [
       "<div>\n",
       "<style scoped>\n",
       "    .dataframe tbody tr th:only-of-type {\n",
       "        vertical-align: middle;\n",
       "    }\n",
       "\n",
       "    .dataframe tbody tr th {\n",
       "        vertical-align: top;\n",
       "    }\n",
       "\n",
       "    .dataframe thead th {\n",
       "        text-align: right;\n",
       "    }\n",
       "</style>\n",
       "<table border=\"1\" class=\"dataframe\">\n",
       "  <thead>\n",
       "    <tr style=\"text-align: right;\">\n",
       "      <th></th>\n",
       "      <th>Company</th>\n",
       "      <th>Sector</th>\n",
       "      <th>Open</th>\n",
       "      <th>High</th>\n",
       "      <th>Low</th>\n",
       "      <th>Close</th>\n",
       "      <th>Volume</th>\n",
       "    </tr>\n",
       "    <tr>\n",
       "      <th>Date</th>\n",
       "      <th></th>\n",
       "      <th></th>\n",
       "      <th></th>\n",
       "      <th></th>\n",
       "      <th></th>\n",
       "      <th></th>\n",
       "      <th></th>\n",
       "    </tr>\n",
       "  </thead>\n",
       "  <tbody>\n",
       "    <tr>\n",
       "      <th>2017-11-02</th>\n",
       "      <td>AAPL</td>\n",
       "      <td>Technology</td>\n",
       "      <td>41.650002</td>\n",
       "      <td>42.125000</td>\n",
       "      <td>41.320000</td>\n",
       "      <td>42.027500</td>\n",
       "      <td>165573600</td>\n",
       "    </tr>\n",
       "    <tr>\n",
       "      <th>2017-11-03</th>\n",
       "      <td>AAPL</td>\n",
       "      <td>Technology</td>\n",
       "      <td>43.500000</td>\n",
       "      <td>43.564999</td>\n",
       "      <td>42.779999</td>\n",
       "      <td>43.125000</td>\n",
       "      <td>237594400</td>\n",
       "    </tr>\n",
       "    <tr>\n",
       "      <th>2017-11-06</th>\n",
       "      <td>AAPL</td>\n",
       "      <td>Technology</td>\n",
       "      <td>43.092499</td>\n",
       "      <td>43.747501</td>\n",
       "      <td>42.930000</td>\n",
       "      <td>43.562500</td>\n",
       "      <td>140105200</td>\n",
       "    </tr>\n",
       "    <tr>\n",
       "      <th>2017-11-07</th>\n",
       "      <td>AAPL</td>\n",
       "      <td>Technology</td>\n",
       "      <td>43.477501</td>\n",
       "      <td>43.812500</td>\n",
       "      <td>43.400002</td>\n",
       "      <td>43.702499</td>\n",
       "      <td>97446000</td>\n",
       "    </tr>\n",
       "    <tr>\n",
       "      <th>2017-11-08</th>\n",
       "      <td>AAPL</td>\n",
       "      <td>Technology</td>\n",
       "      <td>43.665001</td>\n",
       "      <td>44.060001</td>\n",
       "      <td>43.582500</td>\n",
       "      <td>44.060001</td>\n",
       "      <td>97638000</td>\n",
       "    </tr>\n",
       "  </tbody>\n",
       "</table>\n",
       "</div>"
      ],
      "text/plain": [
       "           Company      Sector       Open       High        Low      Close  \\\n",
       "Date                                                                         \n",
       "2017-11-02    AAPL  Technology  41.650002  42.125000  41.320000  42.027500   \n",
       "2017-11-03    AAPL  Technology  43.500000  43.564999  42.779999  43.125000   \n",
       "2017-11-06    AAPL  Technology  43.092499  43.747501  42.930000  43.562500   \n",
       "2017-11-07    AAPL  Technology  43.477501  43.812500  43.400002  43.702499   \n",
       "2017-11-08    AAPL  Technology  43.665001  44.060001  43.582500  44.060001   \n",
       "\n",
       "               Volume  \n",
       "Date                   \n",
       "2017-11-02  165573600  \n",
       "2017-11-03  237594400  \n",
       "2017-11-06  140105200  \n",
       "2017-11-07   97446000  \n",
       "2017-11-08   97638000  "
      ]
     },
     "execution_count": 39,
     "metadata": {},
     "output_type": "execute_result"
    }
   ],
   "source": [
    "apple = stocks[stocks[\"Company\"] == \"AAPL\"]\n",
    "apple.head()"
   ]
  },
  {
   "cell_type": "code",
   "execution_count": 40,
   "metadata": {
    "collapsed": false
   },
   "outputs": [
    {
     "data": {
      "image/png": "[encoded data removed]",
      "text/plain": [
       "<Figure size 800x575 with 2 Axes>"
      ]
     },
     "metadata": {},
     "output_type": "display_data"
    }
   ],
   "source": [
    "mpf.plot(apple.head(50), type=\"candle\")"
   ]
  },
  {
   "cell_type": "code",
   "execution_count": 41,
   "metadata": {
    "collapsed": false
   },
   "outputs": [
    {
     "data": {
      "image/png": "[encoded data removed]",
      "text/plain": [
       "<Figure size 640x480 with 1 Axes>"
      ]
     },
     "metadata": {},
     "output_type": "display_data"
    }
   ],
   "source": [
    "plt.plot(apple[\"Close\"].head(50))\n",
    "plt.show()"
   ]
  },
  {
   "cell_type": "code",
   "execution_count": 42,
   "metadata": {
    "collapsed": false
   },
   "outputs": [
    {
     "data": {
      "text/plain": [
       "array([42.02750015, 43.125     , 43.5625    , 43.70249939, 44.06000137,\n",
       "       43.97000122, 43.66749954, 43.49250031, 42.83499908, 42.27000046,\n",
       "       42.77500153, 42.53749847, 42.49499893, 43.28499985, 43.74000168,\n",
       "       43.74250031, 43.52249908, 43.26750183, 42.36999893, 42.96250153,\n",
       "       42.76250076, 42.45000076, 42.40999985, 42.25249863, 42.33000183,\n",
       "       42.34249878, 43.16749954, 42.92499924, 43.06750107, 43.05500031,\n",
       "       43.49250031, 44.10499954, 43.63499832, 43.58750153, 43.75249863,\n",
       "       43.75249863, 42.64250183, 42.65000153, 42.77000046, 42.30749893,\n",
       "       43.06499863, 43.05749893, 43.25749969, 43.75      , 43.58750153,\n",
       "       43.58250046, 43.57249832, 43.81999969, 44.27249908, 44.04750061,\n",
       "       44.77500153, 44.81499863, 44.61500168, 44.25      , 44.25999832,\n",
       "       43.55500031, 42.77750015, 42.87749863, 41.99000168, 41.74250031,\n",
       "       41.85749817, 41.94499969, 40.125     , 39.12250137, 40.75749969,\n",
       "       39.88499832, 38.78749847, 39.10250092, 40.67750168, 41.08499908,\n",
       "       41.84249878, 43.24750137, 43.10749817, 42.96250153, 42.76750183,\n",
       "       43.125     , 43.875     , 44.74250031, 44.59749985, 44.52999878,\n",
       "       43.75      , 44.05250168, 44.20500183, 44.16749954, 43.75749969,\n",
       "       44.23500061, 44.99499893, 45.43000031, 44.99250031, 44.61000061,\n",
       "       44.66249847, 44.50500107, 43.82500076, 43.81000137, 42.81750107,\n",
       "       42.21250153, 41.23500061, 43.19250107, 42.08499908, 41.61999893,\n",
       "       41.94499969, 41.66999817, 42.09749985, 42.90250015, 43.20000076,\n",
       "       42.09500122, 42.51250076, 43.3125    , 43.11000061, 43.53499985,\n",
       "       43.68249893, 43.95500183, 44.56000137, 44.45999908, 43.20000076,\n",
       "       41.43000031, 41.31000137, 40.73500061, 40.91249847, 41.05500031,\n",
       "       40.58000183, 41.31499863, 42.27500153, 44.14250183, 44.22249985,\n",
       "       45.95750046, 46.29000092, 46.51250076, 46.84000015, 47.50999832,\n",
       "       47.14749908, 47.03749847, 46.61000061, 47.04499817, 46.74750137,\n",
       "       46.57749939, 46.90750122, 46.79000092, 47.09000015, 47.03749847,\n",
       "       47.14500046, 46.97499847, 46.875     , 46.71749878, 47.56000137,\n",
       "       47.95750046, 48.32749939, 48.49499893, 48.36500168, 47.92499924,\n",
       "       47.80749893, 48.06999969, 47.67499924, 47.70000076, 47.20999908,\n",
       "       47.18500137, 46.42250061, 46.625     , 46.36500168, 46.22999954,\n",
       "       45.54249954, 46.10749817, 46.04000092, 46.375     , 46.27750015,\n",
       "       46.79499817, 45.97999954, 46.34999847, 46.99250031, 47.64500046,\n",
       "       47.58750153, 46.97000122, 47.75749969, 47.83250046, 47.72750092,\n",
       "       47.86249924, 47.59999847, 47.97000122, 47.86000061, 47.90250015,\n",
       "       48.25      , 48.70500183, 48.55250168, 47.74499893, 47.47750092,\n",
       "       47.57249832, 50.375     , 51.84749985, 51.99750137, 52.26750183,\n",
       "       51.77750015, 51.8125    , 52.22000122, 51.88249969, 52.21749878,\n",
       "       52.4375    , 52.56000137, 53.33000183, 54.39500046, 53.86500168,\n",
       "       53.75999832, 53.76250076, 53.87250137, 54.04000092, 54.48500061,\n",
       "       54.92499924, 55.74499893, 56.25749969, 56.90750122, 57.09000015,\n",
       "       56.71749878, 55.77500153, 55.32500076, 54.58250046, 55.96250153,\n",
       "       55.26750183, 56.60250092, 55.95999908, 54.47000122, 54.56000137,\n",
       "       54.59249878, 55.00749969, 54.41500092, 55.19749832, 55.54750061,\n",
       "       55.10499954, 56.23749924, 56.43500137, 56.81499863, 57.31999969,\n",
       "       58.01750183, 56.99750137, 56.07249832, 55.94250107, 56.71749878,\n",
       "       54.09000015, 53.61249924, 55.52750015, 54.34000015, 55.53749847,\n",
       "       55.29750061, 54.00500107, 54.82749939, 55.16249847, 55.68249893,\n",
       "       53.77249908, 54.95000076, 54.07500076, 53.06000137, 53.32500076,\n",
       "       54.71500015, 55.55500031, 51.86999893, 50.39749908, 50.94250107,\n",
       "       52.48749924, 52.12250137, 51.11750031, 48.54249954, 48.05749893,\n",
       "       46.70000076, 47.85250092, 48.38249969, 46.46500015, 44.24499893,\n",
       "       44.19499969, 43.07249832, 43.65499878, 43.56000137, 45.23500061,\n",
       "       44.88750076, 44.64500046, 46.20500183, 44.17250061, 43.68000031,\n",
       "       42.12250137, 42.40000153, 42.15750122, 42.27500153, 42.73749924,\n",
       "       41.36999893, 40.98500061, 41.51750183, 40.22249985, 39.20750046,\n",
       "       37.68249893, 36.70750046, 39.29249954, 39.03749847, 39.05749893,\n",
       "       39.43500137, 39.47999954, 35.54750061, 37.06499863, 36.98249817,\n",
       "       37.6875    , 38.32749939, 38.45000076, 38.07249832, 37.5       ,\n",
       "       38.26750183, 38.73500061, 38.96500015, 39.20500183, 38.32500076,\n",
       "       38.47999954, 38.17499924, 39.43999863, 39.07500076, 38.66999817,\n",
       "       41.3125    , 41.61000061, 41.63000107, 42.8125    , 43.54499817,\n",
       "       43.56000137, 42.73500061, 42.60250092, 42.35749817, 42.72249985,\n",
       "       42.54499817, 42.70000076, 42.60499954, 42.73249817, 43.00749969,\n",
       "       42.76499939, 43.24250031, 43.55749893, 43.58250046, 43.71749878,\n",
       "       43.28749847, 43.74250031, 43.96250153, 43.88249969, 43.63000107,\n",
       "       43.125     , 43.22750092, 44.72499847, 45.22750092, 45.42750168,\n",
       "       45.93249893, 46.52999878, 47.00500107, 46.63249969, 47.04000092,\n",
       "       48.77249908, 47.76250076, 47.18500137, 46.69749832, 47.11750031,\n",
       "       47.18000031, 47.48749924, 47.81000137, 48.50500107, 48.83750153,\n",
       "       48.92250061, 49.25      , 50.02500153, 49.875     , 50.15499878,\n",
       "       49.73749924, 49.71749878, 49.80749893, 49.8125    , 50.78250122,\n",
       "       50.96500015, 51.13249969, 51.86999893, 51.79000092, 51.31999969,\n",
       "       51.07500076, 51.15250015, 50.16749954, 52.63000107, 52.28749847,\n",
       "       52.9375    , 52.11999893, 50.71500015, 50.72499847, 50.18000031,\n",
       "       49.29499817, 46.43000031, 47.16500092, 47.72999954, 47.52000046,\n",
       "       47.25      , 45.77249908, 46.65000153, 45.69499969, 44.91500092,\n",
       "       44.74250031, 44.55749893, 44.34500122, 44.57500076, 43.76750183,\n",
       "       43.32500076, 44.90999985, 45.63499832, 46.30500031, 47.53749847,\n",
       "       48.14500046, 48.70249939, 48.54750061, 48.53749847, 48.18500137,\n",
       "       48.47249985, 49.61249924, 49.46749878, 49.86500168, 49.69499969,\n",
       "       49.64500046, 48.89250183, 49.95000076, 49.93500137, 49.47999954,\n",
       "       50.38750076, 50.68249893, 51.10250092, 51.05749893, 50.00500107,\n",
       "       50.31000137, 50.80749893, 50.4375    , 50.82500076, 51.30250168,\n",
       "       51.125     , 50.83750153, 51.41500092, 50.64749908, 51.80500031,\n",
       "       52.20999908, 52.16749954, 51.75500107, 51.93500137, 52.41999817,\n",
       "       52.19499969, 53.25999832, 52.10749817, 51.00500107, 48.33499908,\n",
       "       49.25      , 49.75999832, 50.85749817, 50.24750137, 50.11999893,\n",
       "       52.24250031, 50.6875    , 50.43500137, 51.625     , 52.58750153,\n",
       "       52.59000015, 53.15999985, 53.11500168, 50.65999985, 51.62250137,\n",
       "       51.04000092, 51.38249969, 52.25249863, 52.18500137, 51.42499924,\n",
       "       52.29750061, 53.31999969, 53.31499863, 53.54249954, 54.17499924,\n",
       "       55.89749908, 55.77249908, 54.6875    , 54.97499847, 55.17499924,\n",
       "       55.69250107, 55.24000168, 54.43249893, 54.68000031, 54.41999817,\n",
       "       55.25749969, 54.97249985, 54.70500183, 55.99250031, 56.14749908,\n",
       "       54.74000168, 55.20500183, 56.75249863, 56.76499939, 56.09999847,\n",
       "       56.75749969, 57.52249908, 59.05250168, 58.96749878, 58.83000183,\n",
       "       58.59249878, 58.81999969, 59.10250092, 60.12749863, 59.99000168,\n",
       "       60.79499817, 60.89500046, 61.64500046, 62.26250076, 60.82249832])"
      ]
     },
     "execution_count": 42,
     "metadata": {},
     "output_type": "execute_result"
    }
   ],
   "source": [
    "begin = 0\n",
    "num_days = 500\n",
    "end = begin + num_days\n",
    "closing_prices = apple.iloc[begin : end][\"Close\"].to_numpy()\n",
    "closing_prices"
   ]
  },
  {
   "cell_type": "code",
   "execution_count": 43,
   "metadata": {
    "collapsed": false
   },
   "outputs": [
    {
     "data": {
      "text/plain": [
       "array([[42.02750015, 43.125     , 43.5625    , ..., 42.83499908,\n",
       "        42.27000046, 42.77500153],\n",
       "       [43.125     , 43.5625    , 43.70249939, ..., 42.27000046,\n",
       "        42.77500153, 42.53749847],\n",
       "       [43.5625    , 43.70249939, 44.06000137, ..., 42.77500153,\n",
       "        42.53749847, 42.49499893],\n",
       "       ...,\n",
       "       [57.52249908, 59.05250168, 58.96749878, ..., 59.99000168,\n",
       "        60.79499817, 60.89500046],\n",
       "       [59.05250168, 58.96749878, 58.83000183, ..., 60.79499817,\n",
       "        60.89500046, 61.64500046],\n",
       "       [58.96749878, 58.83000183, 58.59249878, ..., 60.89500046,\n",
       "        61.64500046, 62.26250076]])"
      ]
     },
     "execution_count": 43,
     "metadata": {},
     "output_type": "execute_result"
    }
   ],
   "source": [
    "def make_batches(seq: np.ndarray, window_size: int) -> np.ndarray:\n",
    "    return np.array([\n",
    "        seq[i : i+window_size]\n",
    "        for i in range(len(seq) - window_size)\n",
    "    ])\n",
    "\n",
    "L = 10\n",
    "window_size = L + 1\n",
    "batches = make_batches(closing_prices, window_size)\n",
    "batches"
   ]
  },
  {
   "cell_type": "markdown",
   "metadata": {
    "collapsed": false
   },
   "source": [
    "### Scaling the Data"
   ]
  },
  {
   "cell_type": "code",
   "execution_count": 44,
   "metadata": {
    "collapsed": false
   },
   "outputs": [],
   "source": [
    "scaler = MinMaxScaler(feature_range=(-1, 1))\n",
    "batches = scaler.fit_transform(batches)"
   ]
  },
  {
   "cell_type": "markdown",
   "metadata": {
    "collapsed": false
   },
   "source": [
    "### Training and Test Datasets"
   ]
  },
  {
   "cell_type": "code",
   "execution_count": 45,
   "metadata": {
    "collapsed": false
   },
   "outputs": [
    {
     "data": {
      "text/plain": [
       "((440, 10, 1), (440, 1))"
      ]
     },
     "execution_count": 45,
     "metadata": {},
     "output_type": "execute_result"
    }
   ],
   "source": [
    "test_size = 0.1\n",
    "split = int(len(batches) * (1 - test_size))\n",
    "train_ds = batches[:split, :]\n",
    "test_ds = batches[split:, :]\n",
    "\n",
    "x_train = train_ds[:, :-1].reshape(-1, L, 1)\n",
    "y_train = train_ds[:, -1].reshape(-1, 1)\n",
    "x_test = test_ds[:, :-1].reshape(-1, L, 1)\n",
    "y_test = test_ds[:, -1].reshape(-1, 1)\n",
    "\n",
    "x_train.shape, y_train.shape"
   ]
  },
  {
   "cell_type": "markdown",
   "metadata": {
    "collapsed": false
   },
   "source": [
    "### Converting to Tensors"
   ]
  },
  {
   "cell_type": "code",
   "execution_count": 46,
   "metadata": {
    "collapsed": false
   },
   "outputs": [],
   "source": [
    "x_train_tensor = torch.Tensor(x_train)\n",
    "y_train_tensor = torch.Tensor(y_train)\n",
    "x_test_tensor = torch.Tensor(x_test)\n",
    "y_test_tensor = torch.Tensor(y_test)"
   ]
  },
  {
   "cell_type": "code",
   "execution_count": 47,
   "metadata": {
    "collapsed": false
   },
   "outputs": [
    {
     "data": {
      "text/plain": [
       "torch.Size([440, 10, 1])"
      ]
     },
     "execution_count": 47,
     "metadata": {},
     "output_type": "execute_result"
    }
   ],
   "source": [
    "x_train_tensor.shape"
   ]
  },
  {
   "cell_type": "markdown",
   "metadata": {
    "collapsed": false
   },
   "source": [
    "## Model Construction"
   ]
  },
  {
   "cell_type": "markdown",
   "metadata": {
    "collapsed": false
   },
   "source": [
    "### Class Definition"
   ]
  },
  {
   "cell_type": "code",
   "execution_count": 48,
   "metadata": {
    "collapsed": false
   },
   "outputs": [],
   "source": [
    "class LSTM(nn.Module):\n",
    "\n",
    "    def __init__(self,\n",
    "                 input_size: int, hidden_size: int,\n",
    "                 num_layers: int, output_size: int):\n",
    "        # initialize super class\n",
    "        super().__init__()\n",
    "\n",
    "        self.input_size = input_size\n",
    "        self.hidden_size = hidden_size\n",
    "        self.num_layers = num_layers\n",
    "        self.output_size = output_size\n",
    "\n",
    "        # LSTM layer\n",
    "        self.lstm = nn.LSTM(self.input_size, self.hidden_size, self.num_layers, batch_first=True)\n",
    "\n",
    "        # fully connected layer\n",
    "        self.fc = nn.Linear(self.hidden_size, self.output_size)\n",
    "\n",
    "    def forward(self, x: torch.Tensor) -> torch.Tensor:\n",
    "\n",
    "        # h0 = torch.zeros(self.num_layers, x.size(0), self.hidden_size, requires_grad = True)\n",
    "        # c0 = torch.zeros(self.num_layers, x.size(0), self.hidden_size, requires_grad = True)\n",
    "\n",
    "        # output has shape (N, L, H)\n",
    "        # h_n has shape (num_layers, N, H)\n",
    "        #\n",
    "        # where N is the batch size\n",
    "        # L is the sequence length\n",
    "        # and H is the hidden size\n",
    "        # output, (h_n, c_n) = self.lstm.forward(x, (h0.detach(), c0.detach()))\n",
    "        output, (h_n, c_n) = self.lstm.forward(x)\n",
    "\n",
    "        # in fact, we want the last hidden value\n",
    "        # from the last LSTM layer, i.e., h_n[-1, :, :]\n",
    "        h = h_n[-1, :, :]\n",
    "\n",
    "        # get predicted value from\n",
    "        # the fully connected layer\n",
    "        y = self.fc.forward(h)\n",
    "\n",
    "        return y"
   ]
  },
  {
   "cell_type": "markdown",
   "metadata": {
    "collapsed": false
   },
   "source": [
    "### Summary"
   ]
  },
  {
   "cell_type": "code",
   "execution_count": 49,
   "metadata": {
    "collapsed": false
   },
   "outputs": [
    {
     "data": {
      "text/plain": [
       "LSTM(\n",
       "  (lstm): LSTM(1, 16, batch_first=True)\n",
       "  (fc): Linear(in_features=16, out_features=1, bias=True)\n",
       ")"
      ]
     },
     "execution_count": 49,
     "metadata": {},
     "output_type": "execute_result"
    }
   ],
   "source": [
    "model = LSTM(\n",
    "    input_size=1,\n",
    "    hidden_size=16,\n",
    "    num_layers=1,\n",
    "    output_size=1\n",
    ")\n",
    "model"
   ]
  },
  {
   "cell_type": "markdown",
   "metadata": {
    "collapsed": false
   },
   "source": [
    "### Optimizer and Loss Function"
   ]
  },
  {
   "cell_type": "code",
   "execution_count": 50,
   "metadata": {
    "collapsed": false
   },
   "outputs": [],
   "source": [
    "criterion = nn.MSELoss(reduction='mean')\n",
    "optimiser = optim.Adam(model.parameters(), lr=0.01)"
   ]
  },
  {
   "cell_type": "markdown",
   "metadata": {
    "collapsed": false
   },
   "source": [
    "## Training and Testing"
   ]
  },
  {
   "cell_type": "code",
   "execution_count": 51,
   "metadata": {
    "collapsed": false
   },
   "outputs": [
    {
     "name": "stdout",
     "output_type": "stream",
     "text": [
      "epoch:\t0\tloss:\t0.13973550498485565\n",
      "epoch:\t1\tloss:\t0.12689712643623352\n",
      "epoch:\t2\tloss:\t0.11556148529052734\n",
      "epoch:\t3\tloss:\t0.10480958968400955\n",
      "epoch:\t4\tloss:\t0.09388239681720734\n",
      "epoch:\t5\tloss:\t0.08226804435253143\n",
      "epoch:\t6\tloss:\t0.06969115883111954\n",
      "epoch:\t7\tloss:\t0.05607829988002777\n",
      "epoch:\t8\tloss:\t0.041638609021902084\n",
      "epoch:\t9\tloss:\t0.027937807142734528\n",
      "epoch:\t10\tloss:\t0.01839018054306507\n",
      "epoch:\t11\tloss:\t0.01704762689769268\n",
      "epoch:\t12\tloss:\t0.025415295735001564\n",
      "epoch:\t13\tloss:\t0.031092045828700066\n",
      "epoch:\t14\tloss:\t0.02912919782102108\n",
      "epoch:\t15\tloss:\t0.022468991577625275\n",
      "epoch:\t16\tloss:\t0.01628626324236393\n",
      "epoch:\t17\tloss:\t0.012865159660577774\n",
      "epoch:\t18\tloss:\t0.012445356696844101\n",
      "epoch:\t19\tloss:\t0.013835937716066837\n",
      "epoch:\t20\tloss:\t0.015569341368973255\n",
      "epoch:\t21\tloss:\t0.016824832186102867\n",
      "epoch:\t22\tloss:\t0.017267096787691116\n",
      "epoch:\t23\tloss:\t0.016796089708805084\n",
      "epoch:\t24\tloss:\t0.015550165437161922\n",
      "epoch:\t25\tloss:\t0.013897528871893883\n",
      "epoch:\t26\tloss:\t0.012287004850804806\n",
      "epoch:\t27\tloss:\t0.011083430610597134\n",
      "epoch:\t28\tloss:\t0.01052077766507864\n",
      "epoch:\t29\tloss:\t0.010659544728696346\n",
      "epoch:\t30\tloss:\t0.011240428313612938\n",
      "epoch:\t31\tloss:\t0.011749976314604282\n",
      "epoch:\t32\tloss:\t0.011799097061157227\n",
      "epoch:\t33\tloss:\t0.011304971762001514\n",
      "epoch:\t34\tloss:\t0.010445524007081985\n",
      "epoch:\t35\tloss:\t0.00957582239061594\n",
      "epoch:\t36\tloss:\t0.008991008624434471\n",
      "epoch:\t37\tloss:\t0.0087619973346591\n",
      "epoch:\t38\tloss:\t0.00880624819546938\n",
      "epoch:\t39\tloss:\t0.008974037133157253\n",
      "epoch:\t40\tloss:\t0.009092679247260094\n",
      "epoch:\t41\tloss:\t0.009046117775142193\n",
      "epoch:\t42\tloss:\t0.008820109069347382\n",
      "epoch:\t43\tloss:\t0.008467449806630611\n",
      "epoch:\t44\tloss:\t0.0080743208527565\n",
      "epoch:\t45\tloss:\t0.007746998220682144\n",
      "epoch:\t46\tloss:\t0.007559746503829956\n",
      "epoch:\t47\tloss:\t0.007505740970373154\n",
      "epoch:\t48\tloss:\t0.007522136438637972\n",
      "epoch:\t49\tloss:\t0.007523878011852503\n",
      "epoch:\t50\tloss:\t0.007432256825268269\n",
      "epoch:\t51\tloss:\t0.00723787397146225\n",
      "epoch:\t52\tloss:\t0.0069986917078495026\n",
      "epoch:\t53\tloss:\t0.006781372707337141\n",
      "epoch:\t54\tloss:\t0.00663582282140851\n",
      "epoch:\t55\tloss:\t0.006570153404027224\n",
      "epoch:\t56\tloss:\t0.006544344127178192\n",
      "epoch:\t57\tloss:\t0.006509341765195131\n",
      "epoch:\t58\tloss:\t0.006433060392737389\n",
      "epoch:\t59\tloss:\t0.006308624986559153\n",
      "epoch:\t60\tloss:\t0.006161541678011417\n",
      "epoch:\t61\tloss:\t0.006030020769685507\n",
      "epoch:\t62\tloss:\t0.005937671754509211\n",
      "epoch:\t63\tloss:\t0.0058860755525529385\n",
      "epoch:\t64\tloss:\t0.005851624067872763\n",
      "epoch:\t65\tloss:\t0.00580188725143671\n",
      "epoch:\t66\tloss:\t0.005724357906728983\n",
      "epoch:\t67\tloss:\t0.005629072897136211\n",
      "epoch:\t68\tloss:\t0.0055404831655323505\n",
      "epoch:\t69\tloss:\t0.005478871054947376\n",
      "epoch:\t70\tloss:\t0.005442166235297918\n",
      "epoch:\t71\tloss:\t0.005413766484707594\n",
      "epoch:\t72\tloss:\t0.00537499226629734\n",
      "epoch:\t73\tloss:\t0.005318811163306236\n",
      "epoch:\t74\tloss:\t0.005256143398582935\n",
      "epoch:\t75\tloss:\t0.005202657077461481\n",
      "epoch:\t76\tloss:\t0.0051676067523658276\n",
      "epoch:\t77\tloss:\t0.005146029870957136\n",
      "epoch:\t78\tloss:\t0.005123767536133528\n",
      "epoch:\t79\tloss:\t0.005092782899737358\n",
      "epoch:\t80\tloss:\t0.005056041292846203\n",
      "epoch:\t81\tloss:\t0.005024751648306847\n",
      "epoch:\t82\tloss:\t0.005005174316465855\n",
      "epoch:\t83\tloss:\t0.004993563983589411\n",
      "epoch:\t84\tloss:\t0.004980789497494698\n",
      "epoch:\t85\tloss:\t0.004961347207427025\n",
      "epoch:\t86\tloss:\t0.004938781261444092\n",
      "epoch:\t87\tloss:\t0.004919857252389193\n",
      "epoch:\t88\tloss:\t0.004907948896288872\n",
      "epoch:\t89\tloss:\t0.004898982588201761\n",
      "epoch:\t90\tloss:\t0.004887325223535299\n",
      "epoch:\t91\tloss:\t0.004871232435107231\n",
      "epoch:\t92\tloss:\t0.00485443277284503\n",
      "epoch:\t93\tloss:\t0.004840719047933817\n",
      "epoch:\t94\tloss:\t0.004830011632293463\n",
      "epoch:\t95\tloss:\t0.004818935878574848\n",
      "epoch:\t96\tloss:\t0.004805068951100111\n",
      "epoch:\t97\tloss:\t0.004789381287992001\n",
      "epoch:\t98\tloss:\t0.004774546716362238\n",
      "epoch:\t99\tloss:\t0.004761809483170509\n"
     ]
    }
   ],
   "source": [
    "epochs = 100\n",
    "for i in range(epochs):\n",
    "    y_hat = model.forward(x_train_tensor)\n",
    "\n",
    "    # calculate loss\n",
    "    loss = criterion(y_hat, y_train_tensor)\n",
    "    print(f\"epoch:\\t{i}\\tloss:\\t{loss}\")\n",
    "\n",
    "    # clear gradients\n",
    "    optimiser.zero_grad()\n",
    "\n",
    "    # compute gradients through backward propagation\n",
    "    loss.backward()\n",
    "\n",
    "    # update parameters\n",
    "    optimiser.step()"
   ]
  },
  {
   "cell_type": "code",
   "execution_count": 52,
   "metadata": {
    "collapsed": false
   },
   "outputs": [
    {
     "data": {
      "text/plain": [
       "array([[0.22621459],\n",
       "       [0.260386  ],\n",
       "       [0.29799354],\n",
       "       [0.3174234 ],\n",
       "       [0.24308026],\n",
       "       [0.21702597],\n",
       "       [0.18296379],\n",
       "       [0.1742194 ],\n",
       "       [0.20428628],\n",
       "       [0.22747427],\n",
       "       [0.21699244],\n",
       "       [0.2358545 ],\n",
       "       [0.28295296],\n",
       "       [0.3139583 ],\n",
       "       [0.33752245],\n",
       "       [0.36955804],\n",
       "       [0.43945408],\n",
       "       [0.47845417],\n",
       "       [0.46669662],\n",
       "       [0.46141243],\n",
       "       [0.46146852],\n",
       "       [0.47655743],\n",
       "       [0.47370732],\n",
       "       [0.44664657],\n",
       "       [0.43517035],\n",
       "       [0.42092073],\n",
       "       [0.43865025],\n",
       "       [0.4438393 ],\n",
       "       [0.43864876],\n",
       "       [0.47289616],\n",
       "       [0.50004274],\n",
       "       [0.47554678],\n",
       "       [0.46978718],\n",
       "       [0.5104003 ],\n",
       "       [0.5379022 ],\n",
       "       [0.5356512 ],\n",
       "       [0.5498706 ],\n",
       "       [0.57832277],\n",
       "       [0.6340898 ],\n",
       "       [0.6650835 ],\n",
       "       [0.6778116 ],\n",
       "       [0.6771114 ],\n",
       "       [0.6802256 ],\n",
       "       [0.68828505],\n",
       "       [0.7163478 ],\n",
       "       [0.72993684],\n",
       "       [0.7544249 ],\n",
       "       [0.77035654],\n",
       "       [0.7938941 ]], dtype=float32)"
      ]
     },
     "execution_count": 52,
     "metadata": {},
     "output_type": "execute_result"
    }
   ],
   "source": [
    "y_pred = model.forward(x_test_tensor).data.numpy()\n",
    "y_pred"
   ]
  },
  {
   "cell_type": "code",
   "execution_count": 53,
   "metadata": {
    "collapsed": false
   },
   "outputs": [
    {
     "data": {
      "image/png": "[encoded data removed]",
      "text/plain": [
       "<Figure size 640x480 with 1 Axes>"
      ]
     },
     "metadata": {},
     "output_type": "display_data"
    }
   ],
   "source": [
    "t = np.arange(len(y_pred))\n",
    "plt.plot(t, y_test, label=\"True Closing Price\")\n",
    "plt.plot(t, y_pred, label=\"Predicted Price\")\n",
    "plt.legend()\n",
    "plt.show()"
   ]
  },
  {
   "cell_type": "code",
   "execution_count": 54,
   "metadata": {
    "collapsed": false
   },
   "outputs": [
    {
     "data": {
      "text/plain": [
       "0.007893539239281105"
      ]
     },
     "execution_count": 54,
     "metadata": {},
     "output_type": "execute_result"
    }
   ],
   "source": [
    "mean_squared_error(y_test, y_pred)"
   ]
  },
  {
   "cell_type": "code",
   "execution_count": null,
   "metadata": {
    "collapsed": false
   },
   "outputs": [],
   "source": []
  }
 ],
 "metadata": {
  "kernelspec": {
   "display_name": "Python 3.10.6 ('stox')",
   "language": "python",
   "name": "python3"
  },
  "language_info": {
   "codemirror_mode": {
    "name": "ipython",
    "version": 3
   },
   "file_extension": ".py",
   "mimetype": "text/x-python",
   "name": "python",
   "nbconvert_exporter": "python",
   "pygments_lexer": "ipython3",
   "version": "3.10.6"
  },
  "vscode": {
   "interpreter": {
    "hash": "b381d2fe9444cf1cecb971d5b2371557f7ae9b538a405ed569cd73f1b37c2a0c"
   }
  }
 },
 "nbformat": 4,
 "nbformat_minor": 0
}
