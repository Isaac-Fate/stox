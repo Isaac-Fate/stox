{
 "cells": [
  {
   "cell_type": "markdown",
   "metadata": {},
   "source": [
    "# LSTM for Multivariate Time Series"
   ]
  },
  {
   "cell_type": "code",
   "execution_count": 1,
   "metadata": {},
   "outputs": [],
   "source": [
    "import numpy as np\n",
    "import pandas as pd\n",
    "import torch\n",
    "from torch import nn\n",
    "from torch import optim\n",
    "from typing import Union\n",
    "import matplotlib.pyplot as plt"
   ]
  },
  {
   "cell_type": "markdown",
   "metadata": {},
   "source": [
    "## Load Data"
   ]
  },
  {
   "cell_type": "markdown",
   "metadata": {},
   "source": [
    "We explore the Tesla stock data in our demonstration."
   ]
  },
  {
   "cell_type": "code",
   "execution_count": 2,
   "metadata": {},
   "outputs": [
    {
     "data": {
      "text/html": [
       "<div>\n",
       "<style scoped>\n",
       "    .dataframe tbody tr th:only-of-type {\n",
       "        vertical-align: middle;\n",
       "    }\n",
       "\n",
       "    .dataframe tbody tr th {\n",
       "        vertical-align: top;\n",
       "    }\n",
       "\n",
       "    .dataframe thead th {\n",
       "        text-align: right;\n",
       "    }\n",
       "</style>\n",
       "<table border=\"1\" class=\"dataframe\">\n",
       "  <thead>\n",
       "    <tr style=\"text-align: right;\">\n",
       "      <th></th>\n",
       "      <th>Open</th>\n",
       "      <th>High</th>\n",
       "      <th>Low</th>\n",
       "      <th>Close</th>\n",
       "      <th>Volume</th>\n",
       "    </tr>\n",
       "    <tr>\n",
       "      <th>Date</th>\n",
       "      <th></th>\n",
       "      <th></th>\n",
       "      <th></th>\n",
       "      <th></th>\n",
       "      <th></th>\n",
       "    </tr>\n",
       "  </thead>\n",
       "  <tbody>\n",
       "    <tr>\n",
       "      <th>2017-11-02</th>\n",
       "      <td>20.008667</td>\n",
       "      <td>20.579332</td>\n",
       "      <td>19.508667</td>\n",
       "      <td>19.950666</td>\n",
       "      <td>296871000</td>\n",
       "    </tr>\n",
       "    <tr>\n",
       "      <th>2017-11-03</th>\n",
       "      <td>19.966667</td>\n",
       "      <td>20.416668</td>\n",
       "      <td>19.675333</td>\n",
       "      <td>20.406000</td>\n",
       "      <td>133410000</td>\n",
       "    </tr>\n",
       "    <tr>\n",
       "      <th>2017-11-06</th>\n",
       "      <td>20.466667</td>\n",
       "      <td>20.500000</td>\n",
       "      <td>19.934000</td>\n",
       "      <td>20.185333</td>\n",
       "      <td>97290000</td>\n",
       "    </tr>\n",
       "    <tr>\n",
       "      <th>2017-11-07</th>\n",
       "      <td>20.068001</td>\n",
       "      <td>20.433332</td>\n",
       "      <td>20.002001</td>\n",
       "      <td>20.403334</td>\n",
       "      <td>79414500</td>\n",
       "    </tr>\n",
       "    <tr>\n",
       "      <th>2017-11-08</th>\n",
       "      <td>20.366667</td>\n",
       "      <td>20.459333</td>\n",
       "      <td>20.086666</td>\n",
       "      <td>20.292667</td>\n",
       "      <td>70879500</td>\n",
       "    </tr>\n",
       "    <tr>\n",
       "      <th>...</th>\n",
       "      <td>...</td>\n",
       "      <td>...</td>\n",
       "      <td>...</td>\n",
       "      <td>...</td>\n",
       "      <td>...</td>\n",
       "    </tr>\n",
       "    <tr>\n",
       "      <th>2022-10-26</th>\n",
       "      <td>219.399994</td>\n",
       "      <td>230.600006</td>\n",
       "      <td>218.199997</td>\n",
       "      <td>224.639999</td>\n",
       "      <td>85012500</td>\n",
       "    </tr>\n",
       "    <tr>\n",
       "      <th>2022-10-27</th>\n",
       "      <td>229.770004</td>\n",
       "      <td>233.809998</td>\n",
       "      <td>222.850006</td>\n",
       "      <td>225.089996</td>\n",
       "      <td>61638800</td>\n",
       "    </tr>\n",
       "    <tr>\n",
       "      <th>2022-10-28</th>\n",
       "      <td>225.399994</td>\n",
       "      <td>228.860001</td>\n",
       "      <td>216.350006</td>\n",
       "      <td>228.520004</td>\n",
       "      <td>69152400</td>\n",
       "    </tr>\n",
       "    <tr>\n",
       "      <th>2022-10-31</th>\n",
       "      <td>226.190002</td>\n",
       "      <td>229.850006</td>\n",
       "      <td>221.940002</td>\n",
       "      <td>227.539993</td>\n",
       "      <td>61554300</td>\n",
       "    </tr>\n",
       "    <tr>\n",
       "      <th>2022-11-01</th>\n",
       "      <td>234.050003</td>\n",
       "      <td>237.399994</td>\n",
       "      <td>227.279999</td>\n",
       "      <td>227.820007</td>\n",
       "      <td>62566500</td>\n",
       "    </tr>\n",
       "  </tbody>\n",
       "</table>\n",
       "<p>1258 rows × 5 columns</p>\n",
       "</div>"
      ],
      "text/plain": [
       "                  Open        High         Low       Close     Volume\n",
       "Date                                                                 \n",
       "2017-11-02   20.008667   20.579332   19.508667   19.950666  296871000\n",
       "2017-11-03   19.966667   20.416668   19.675333   20.406000  133410000\n",
       "2017-11-06   20.466667   20.500000   19.934000   20.185333   97290000\n",
       "2017-11-07   20.068001   20.433332   20.002001   20.403334   79414500\n",
       "2017-11-08   20.366667   20.459333   20.086666   20.292667   70879500\n",
       "...                ...         ...         ...         ...        ...\n",
       "2022-10-26  219.399994  230.600006  218.199997  224.639999   85012500\n",
       "2022-10-27  229.770004  233.809998  222.850006  225.089996   61638800\n",
       "2022-10-28  225.399994  228.860001  216.350006  228.520004   69152400\n",
       "2022-10-31  226.190002  229.850006  221.940002  227.539993   61554300\n",
       "2022-11-01  234.050003  237.399994  227.279999  227.820007   62566500\n",
       "\n",
       "[1258 rows x 5 columns]"
      ]
     },
     "execution_count": 2,
     "metadata": {},
     "output_type": "execute_result"
    }
   ],
   "source": [
    "stocks: pd.DataFrame = pd.read_csv(\"../../data/stocks.csv\", index_col=0, parse_dates=True)\n",
    "company = \"TSLA\"\n",
    "stock = stocks.query(f\"Company == '{company}'\").drop(columns=[\"Company\", \"Sector\"])\n",
    "stock"
   ]
  },
  {
   "cell_type": "markdown",
   "metadata": {},
   "source": [
    "Leave out the last 90 days for testing:"
   ]
  },
  {
   "cell_type": "code",
   "execution_count": 3,
   "metadata": {},
   "outputs": [],
   "source": [
    "num_days = 90\n",
    "train_df = stock[:-num_days]\n",
    "test_df = stock[-num_days:]"
   ]
  },
  {
   "cell_type": "markdown",
   "metadata": {},
   "source": [
    "## Encode Column Names in the Data Frame"
   ]
  },
  {
   "cell_type": "markdown",
   "metadata": {},
   "source": [
    "Since the input of PyTorch and Scikit-learn's model is usually a NumPy array of a tensor, we need to extract the data from Pandas' data frame by dropping the information of column names and indices, etc. "
   ]
  },
  {
   "cell_type": "markdown",
   "metadata": {},
   "source": [
    "But we also need the connection between the raw data and its actual meaning. For example, we need to know the original column name of a column vector in the array. Scikit-learn's `LabelEncoder` can help us with this."
   ]
  },
  {
   "cell_type": "code",
   "execution_count": 4,
   "metadata": {},
   "outputs": [
    {
     "data": {
      "text/plain": [
       "array(['Close', 'High', 'Low', 'Open', 'Volume'], dtype='<U6')"
      ]
     },
     "execution_count": 4,
     "metadata": {},
     "output_type": "execute_result"
    }
   ],
   "source": [
    "from sklearn.preprocessing import LabelEncoder\n",
    "\n",
    "ALL_FEATURES = stock.columns.tolist()\n",
    "feature_encoder = LabelEncoder()\n",
    "feature_encoder.fit(ALL_FEATURES)\n",
    "\n",
    "feature_encoder.classes_"
   ]
  },
  {
   "cell_type": "markdown",
   "metadata": {},
   "source": [
    "```{note}\n",
    "Note that the *order* of column names in `feature_encoder.class_` does not be the same as that in the original data frame!\n",
    "```"
   ]
  },
  {
   "cell_type": "markdown",
   "metadata": {},
   "source": [
    "Now, we transform the data frame to a NumPy array, which is in fact a time series (hence the name `train_ts`)."
   ]
  },
  {
   "cell_type": "code",
   "execution_count": 5,
   "metadata": {},
   "outputs": [
    {
     "data": {
      "text/plain": [
       "array([[1.99506664e+01, 2.05793324e+01, 1.95086670e+01, 2.00086670e+01,\n",
       "        2.96871000e+08],\n",
       "       [2.04060001e+01, 2.04166679e+01, 1.96753330e+01, 1.99666672e+01,\n",
       "        1.33410000e+08],\n",
       "       [2.01853333e+01, 2.05000000e+01, 1.99340000e+01, 2.04666672e+01,\n",
       "        9.72900000e+07],\n",
       "       ...,\n",
       "       [2.36086670e+02, 2.46833328e+02, 2.33826660e+02, 2.34503326e+02,\n",
       "        1.01107500e+08],\n",
       "       [2.35070007e+02, 2.39316666e+02, 2.28636673e+02, 2.37906662e+02,\n",
       "        1.04202600e+08],\n",
       "       [2.45706665e+02, 2.46066666e+02, 2.36086670e+02, 2.37470001e+02,\n",
       "        9.57708000e+07]])"
      ]
     },
     "execution_count": 5,
     "metadata": {},
     "output_type": "execute_result"
    }
   ],
   "source": [
    "# re-order the columns by the column names in the feature encoder\n",
    "# and then convert it to NumPy array\n",
    "train_ts = train_df[feature_encoder.classes_].to_numpy()\n",
    "train_ts"
   ]
  },
  {
   "cell_type": "markdown",
   "metadata": {},
   "source": [
    "Now, if we want to know what is the meaning of the first column if `train_ts`, we can use the following code:"
   ]
  },
  {
   "cell_type": "code",
   "execution_count": 6,
   "metadata": {},
   "outputs": [
    {
     "data": {
      "text/plain": [
       "array(['Close'], dtype='<U6')"
      ]
     },
     "execution_count": 6,
     "metadata": {},
     "output_type": "execute_result"
    }
   ],
   "source": [
    "# index 0 means the first column\n",
    "feature_encoder.inverse_transform([0])"
   ]
  },
  {
   "cell_type": "markdown",
   "metadata": {},
   "source": [
    "Hence, the first column stores the closing prices."
   ]
  },
  {
   "cell_type": "markdown",
   "metadata": {},
   "source": [
    "## Sliding Windows"
   ]
  },
  {
   "cell_type": "markdown",
   "metadata": {},
   "source": [
    "Basically, in our LSTM model, we need to use $M$ days' data to predict the closing prices of the next $N$ days. Hence, we need to slide a window (with size $M + N$) across the time series data (imagine a single-variate time series for now), and then *stack* all the windows together into a large matrix."
   ]
  },
  {
   "cell_type": "markdown",
   "metadata": {},
   "source": [
    "The following figure illustrates this idea.\n",
    "\n",
    "<img src=\"../figures/sliding-window.png\"/>"
   ]
  },
  {
   "cell_type": "code",
   "execution_count": 7,
   "metadata": {},
   "outputs": [],
   "source": [
    "\n",
    "from sklearn.base import BaseEstimator, TransformerMixin\n",
    "from sklearn.preprocessing import MinMaxScaler\n",
    "\n",
    "class TimeSeriesTransformer(BaseEstimator, TransformerMixin):\n",
    "    \n",
    "    def __init__(\n",
    "            self,\n",
    "            feature_encoder: LabelEncoder,\n",
    "            features: list[str] = [\"Close\"],\n",
    "            seq_len: int = 10,\n",
    "            pred_len: int = 1,\n",
    "        ) -> None:\n",
    "        \"\"\"A transformer that transform the time series\n",
    "        to the format suitable for LSTM model.\n",
    "        \"\"\"\n",
    "        \n",
    "        super().__init__()\n",
    "        \n",
    "        self.feature_encoder = feature_encoder\n",
    "        self.features = features\n",
    "        self.seq_len = seq_len\n",
    "        self.pred_len = pred_len\n",
    "        \n",
    "        self.scaler = MinMaxScaler(feature_range=(-1, 1))\n",
    "    \n",
    "    def fit(\n",
    "            self, \n",
    "            ts: np.ndarray,\n",
    "            split_X_y: bool = True\n",
    "        ):\n",
    "        \n",
    "        # make sure \"Close\" is at the end of features\n",
    "        if \"Close\" in self.features:\n",
    "            self.features.remove(\"Close\")\n",
    "        self.features.append(\"Close\")\n",
    "        \n",
    "        # select features of interest\n",
    "        ts = ts[:, self.feature_encoder.transform(self.features)]\n",
    "        \n",
    "        # fit min-max scaler to the data\n",
    "        self.scaler.fit(ts)\n",
    "        \n",
    "        return self\n",
    "    \n",
    "    def transform(\n",
    "            self, \n",
    "            ts: np.ndarray,\n",
    "            split_X_y: bool = True\n",
    "        ) -> tuple[np.ndarray, np.ndarray]:\n",
    "        \n",
    "        # select features of interest\n",
    "        ts = ts[:, self.feature_encoder.transform(self.features)]\n",
    "\n",
    "        # scale the values of the time series\n",
    "        scaled_ts = self.scaler.transform(ts)\n",
    "        \n",
    "        # convert to the format suitable for LSTM\n",
    "        window_size = self.seq_len + self.pred_len if split_X_y else self.seq_len\n",
    "        X_y = np.array([\n",
    "            scaled_ts[i : i + window_size]\n",
    "            for i in range(len(scaled_ts) - window_size + 1)\n",
    "        ])\n",
    "        \n",
    "        if split_X_y:\n",
    "            \n",
    "            X = X_y[:, :-self.pred_len, :]\n",
    "            y = X_y[:, -self.pred_len:, -1]\n",
    "            \n",
    "            return X, y\n",
    "        \n",
    "        else:\n",
    "            \n",
    "            X = X_y\n",
    "            return X"
   ]
  },
  {
   "cell_type": "markdown",
   "metadata": {},
   "source": [
    "## Build LSTM Model"
   ]
  },
  {
   "cell_type": "markdown",
   "metadata": {},
   "source": [
    "We use the framework of PyTorch to build an LSTM model for multivariate time series:"
   ]
  },
  {
   "cell_type": "code",
   "execution_count": 8,
   "metadata": {},
   "outputs": [],
   "source": [
    "class LSTM(nn.Module):\n",
    "    \n",
    "    def __init__(\n",
    "            self,\n",
    "            input_size: int, \n",
    "            hidden_size: int,\n",
    "            num_layers: int, \n",
    "            output_size: int\n",
    "        ) -> None:\n",
    "        \n",
    "        # initialize super class\n",
    "        super().__init__()\n",
    "\n",
    "        self.input_size = input_size\n",
    "        self.hidden_size = hidden_size\n",
    "        self.num_layers = num_layers\n",
    "        self.output_size = output_size\n",
    "\n",
    "        # LSTM layer\n",
    "        self.lstm = nn.LSTM(self.input_size, self.hidden_size, self.num_layers, batch_first=True)\n",
    "\n",
    "        # fully connected layer\n",
    "        self.fc = nn.Linear(self.hidden_size, self.output_size)\n",
    "    \n",
    "    def forward(self, x: torch.Tensor) -> torch.Tensor:\n",
    "        \"\"\"\n",
    "        Notes:\n",
    "        ------\n",
    "        - `output` has shape (N, L, H)\n",
    "        - `h_n` has shape (`num_layers`, N, H)\n",
    "        \n",
    "        where \n",
    "        - N is the batch size,\n",
    "        - L is the sequence length, and\n",
    "        - H is the hidden size\n",
    "        \"\"\"\n",
    "        \n",
    "        output, (h_n, c_n) = self.lstm.forward(x)\n",
    "\n",
    "        # in fact, we want the last hidden value\n",
    "        # from the last LSTM layer, i.e., h_n[-1, :, :]\n",
    "        h = h_n[-1, :, :]\n",
    "\n",
    "        # get predicted value from\n",
    "        # the fully connected layer\n",
    "        y = self.fc.forward(h)\n",
    "\n",
    "        return y"
   ]
  },
  {
   "cell_type": "markdown",
   "metadata": {},
   "source": [
    "We have also implemented a function to train the LSTM:"
   ]
  },
  {
   "cell_type": "code",
   "execution_count": 9,
   "metadata": {},
   "outputs": [],
   "source": [
    "def _train(\n",
    "        model: LSTM, \n",
    "        X_train: np.ndarray, \n",
    "        y_train: np.ndarray,\n",
    "        num_epochs: int = 10,\n",
    "        lr: float = 0.01,\n",
    "        quiet=True\n",
    "    ) -> float:\n",
    "    \n",
    "    # convert to tensors\n",
    "    X_train = torch.Tensor(X_train)\n",
    "    y_train = torch.Tensor(y_train)\n",
    "    \n",
    "    # loss function\n",
    "    criterion = nn.MSELoss(reduction=\"mean\")\n",
    "    \n",
    "    # optimizer\n",
    "    optimiser = optim.Adam(model.parameters(), lr=lr)\n",
    "    \n",
    "    for i in range(num_epochs):\n",
    "        \n",
    "        # predicted value\n",
    "        y_pred = model.forward(X_train)\n",
    "\n",
    "        # calculate loss\n",
    "        loss: torch.Tensor = criterion(y_pred, y_train)\n",
    "        \n",
    "        if not quiet:\n",
    "            print(f\"epoch:\\t{i}\\tloss:\\t{loss}\")\n",
    "\n",
    "        # clear gradients\n",
    "        optimiser.zero_grad()\n",
    "\n",
    "        # compute gradients through backward propagation\n",
    "        loss.backward()\n",
    "\n",
    "        # update parameters\n",
    "        optimiser.step()"
   ]
  },
  {
   "cell_type": "markdown",
   "metadata": {},
   "source": [
    "```{note}\n",
    "Note that we put an underscore in the front of this funciton to indicate that it is a private function of this module. We don't expect users to use this function directly, since in fact we will wrap another class `PricePredictor` over this LSTM model.\n",
    "```"
   ]
  },
  {
   "cell_type": "markdown",
   "metadata": {},
   "source": [
    "## Price Predictor"
   ]
  },
  {
   "cell_type": "markdown",
   "metadata": {},
   "source": [
    "Note that there are a lot of *hyperparameters* to be determined for the LSTM. The idea is that we want to keep the inner central LSTM model as simple as possible. So, we define another class `PricePredictor` that wraps in the LSTM, and at the same time, provides all possible hyperparameters and other methods like `fit` and `predict` that will be exposed to the users."
   ]
  },
  {
   "cell_type": "code",
   "execution_count": 10,
   "metadata": {},
   "outputs": [],
   "source": [
    "from sklearn.metrics import r2_score, mean_squared_error\n",
    "\n",
    "class PricePredictor(BaseEstimator):\n",
    "    \n",
    "    feature_encoder: LabelEncoder = None\n",
    "    \n",
    "    def __init__(\n",
    "            self,\n",
    "            features: list[str] = [\"Close\"],\n",
    "            seq_len: int = 10,\n",
    "            pred_len: int = 1,\n",
    "            num_days_ago: int = 100,\n",
    "            hidden_size: int = 32,\n",
    "            num_layers: int = 1,\n",
    "            num_epochs: int = 50,\n",
    "            lr: float = 0.01   \n",
    "        ) -> None:\n",
    "        \"\"\"A model that takes in M days to predict N-day closing prices \n",
    "        where M is `seq_len` and N is `pred_len`.\n",
    "\n",
    "        Parameters\n",
    "        ----------\n",
    "            features (list[str], optional): Features of interest. Defaults to [\"Close\"].\n",
    "            seq_len (int, optional): The number of days needed to predict prices. Defaults to 10.\n",
    "            pred_len (int, optional): The number of days of closing prices to predict. Defaults to 1.\n",
    "            num_days_ago (int, optional): The latest few days of the provided trainig date to consider. Defaults to 100.\n",
    "            hidden_size (int, optional): Hidden size of LSTM. Defaults to 32.\n",
    "            num_layers (int, optional): Number of layers of LSTM. Defaults to 1.\n",
    "            num_epochs (int, optional): Number of epochs to train. Defaults to 10.\n",
    "            lr (float, optional): Learning rate. Defaults to 0.01.\n",
    "\n",
    "        Raises\n",
    "        ------\n",
    "            Exception: Missing feature encoder.\n",
    "        \"\"\"\n",
    "        \n",
    "        super().__init__()\n",
    "        \n",
    "        # initialize feature encoder\n",
    "        if PricePredictor.feature_encoder is None:\n",
    "            raise Exception(\"Feature encoder must be proveded as a class attribute.\")\n",
    "        \n",
    "        self.features = features\n",
    "        self.seq_len = seq_len\n",
    "        self.pred_len = pred_len\n",
    "        self.num_days_ago = num_days_ago\n",
    "        self.hidden_size = hidden_size\n",
    "        self.num_layers = num_layers\n",
    "        self.num_epochs = num_epochs\n",
    "        self.lr = lr\n",
    "        \n",
    "        # underlying LSTM model\n",
    "        self.model: LSTM = None\n",
    "        \n",
    "        # time series transformer\n",
    "        self.ts_transformer: TimeSeriesTransformer = None\n",
    "        \n",
    "        # the last sequence of input time series with length `self.seq_len`\n",
    "        self.last_seq: np.ndarray = None\n",
    "        \n",
    "        # metric / method of scoring\n",
    "        self.metric: str = \"R2\"\n",
    "        \n",
    "        # R2 score\n",
    "        self.rs: float = None\n",
    "        \n",
    "        # mean squared error\n",
    "        self.mse: float = None\n",
    "        \n",
    "    def _get_input_size(self) -> int:\n",
    "        \"\"\"Find the input size for the LSTM model.\n",
    "\n",
    "        Returns\n",
    "        -------\n",
    "            int: Input size.\n",
    "        \"\"\"\n",
    "        \n",
    "        input_size = len(self.features)\n",
    "        if \"Close\" not in self.features:\n",
    "            input_size += 1\n",
    "        return input_size\n",
    "    \n",
    "    def fit(self, ts: np.ndarray, quiet=True):\n",
    "        \"\"\"Fit the model.\n",
    "\n",
    "        Parameters\n",
    "        ----------\n",
    "            ts (np.ndarray): Training time series.\n",
    "            quiet (bool, optional): If `quiet` is `False` then training losses will be printed in the terminal. \n",
    "            Defaults to True.\n",
    "        \"\"\"\n",
    "        \n",
    "        # initialize LSTM model\n",
    "        self.model = LSTM(\n",
    "            input_size=self._get_input_size(),\n",
    "            hidden_size=self.hidden_size,\n",
    "            num_layers=self.num_layers,\n",
    "            output_size=self.pred_len\n",
    "        )\n",
    "        \n",
    "        # initialize time series transformer\n",
    "        self.ts_transformer = TimeSeriesTransformer(\n",
    "            feature_encoder=self.feature_encoder,\n",
    "            features=self.features,\n",
    "            seq_len=self.seq_len,\n",
    "            pred_len=self.pred_len\n",
    "        )\n",
    "        \n",
    "        # only keep the last few days\n",
    "        ts = ts[-self.num_days_ago:]\n",
    "        \n",
    "        # store the last sequence of the time series for prediction\n",
    "        self.last_seq = ts[-self.seq_len:].copy()\n",
    "        \n",
    "        # get X and y\n",
    "        X, y = self.ts_transformer.fit_transform(ts)\n",
    "        \n",
    "        # train LSTM model\n",
    "        _train(\n",
    "            model=self.model,\n",
    "            X_train=X,\n",
    "            y_train=y,\n",
    "            num_epochs=self.num_epochs,\n",
    "            lr=self.lr,\n",
    "            quiet=quiet\n",
    "        )\n",
    "    \n",
    "    def score(self, test_ts: np.ndarray) -> float:\n",
    "        \"\"\"Compute the fitting score.\n",
    "\n",
    "        Parameters\n",
    "        ----------\n",
    "            test_ts (np.ndarray): Test time seires.\n",
    "\n",
    "        Returns\n",
    "        -------\n",
    "            float:\n",
    "            \n",
    "                1. R2 score is returned by default.\n",
    "                2. If the computation of R2 score fails, then the negative MSE is returned.\n",
    "        \"\"\"\n",
    "        \n",
    "        # get true prices\n",
    "        test_ts = test_ts[:self.pred_len]\n",
    "        test_ts = test_ts[:, self.feature_encoder.transform([\"Close\"])]\n",
    "        y_true = test_ts.flatten()\n",
    "\n",
    "        # predicted prices\n",
    "        y_pred = self.predict()\n",
    "        \n",
    "        # mean squred error\n",
    "        self.mse = mean_squared_error(y_true, y_pred)\n",
    "        \n",
    "        if len(y_pred) >= 2:\n",
    "            self.r2 = r2_score(y_true, y_pred)\n",
    "            return self.r2\n",
    "        else:\n",
    "            self.metric = \"Negative MSE\"\n",
    "            return -self.mse\n",
    "    \n",
    "    def predict(\n",
    "            self, \n",
    "            ts: Union[np.ndarray, None] = None\n",
    "        ) -> np.ndarray:\n",
    "        \"\"\"Predict the prices of future N days if no input is provided\n",
    "        where n equals the attribute `pred_len`. \n",
    "        If a time series (M days) is passed to this function, \n",
    "        then each time the function will take one of M days \n",
    "        to predict the prices of the next N days. \n",
    "        So, there will be (M + 1) batches of N-day prices.\n",
    "\n",
    "        Parameters\n",
    "        ----------\n",
    "            ts (Union[np.ndarray, None], optional): A time series consisting of future data. \n",
    "            Defaults to None.\n",
    "\n",
    "        Returns\n",
    "        -------\n",
    "            np.ndarray: \n",
    "            \n",
    "                1. If the input is `None`, then a 1-D NumPy array of future N-day prices is returned.\n",
    "                2. If there is an input time series, then an (M + 1)-by-N NumPy array is returned.\n",
    "        \"\"\"\n",
    "        \n",
    "        # a flag indicating whether there is an input time series\n",
    "        is_empty_input = ts is None\n",
    "        \n",
    "        if is_empty_input:\n",
    "            ts = self.last_seq\n",
    "        else:\n",
    "            # attach the input time series\n",
    "            # to the last sequence of data\n",
    "            ts = np.concatenate((self.last_seq, ts))\n",
    "        \n",
    "        # transform the time series\n",
    "        X = self.ts_transformer.transform(ts, split_X_y=False)\n",
    "        \n",
    "        # convert to tensor\n",
    "        X = torch.Tensor(X).detach()\n",
    "              \n",
    "        # predit with LSTM model\n",
    "        y_pred: torch.Tensor = self.model.forward(X)\n",
    "\n",
    "        # convert to NumPy array\n",
    "        y_pred = y_pred.detach().numpy()\n",
    "        \n",
    "        # rescale the predicted values to prices\n",
    "        sliding_prices: np.ndarray = np.apply_along_axis(\n",
    "            self._to_price, \n",
    "            axis=1, \n",
    "            arr=y_pred\n",
    "        )\n",
    "        \n",
    "        if is_empty_input:\n",
    "            # return a 1-D array of future N-day prices\n",
    "            price = sliding_prices[0]\n",
    "            return price\n",
    "        \n",
    "        else:\n",
    "            # return (M + 1) baches of N-day prices\n",
    "            return sliding_prices\n",
    "    \n",
    "    def _to_price(self, y_pred: np.ndarray) -> np.ndarray:\n",
    "        \"\"\"Recover the price from the scaled data.\n",
    "\n",
    "        Parameters\n",
    "        ----------\n",
    "            y_pred (np.ndarray): Predicted values ranging from -1 to 1.\n",
    "\n",
    "        Returns\n",
    "        -------\n",
    "            np.ndarray: Prices.\n",
    "        \"\"\"\n",
    "        \n",
    "        price_min = self.ts_transformer.scaler.data_min_[-1]\n",
    "        price_range = self.ts_transformer.scaler.data_range_[-1]\n",
    "        feature_min, feature_max = self.ts_transformer.scaler.feature_range\n",
    "        price = price_min + (y_pred - feature_min) * price_range / (feature_max - feature_min)\n",
    "        return price"
   ]
  },
  {
   "cell_type": "markdown",
   "metadata": {},
   "source": [
    "## Fine-Tune the Model: Randomized Search"
   ]
  },
  {
   "cell_type": "markdown",
   "metadata": {},
   "source": [
    "The common methods of tuning the hyperparameters are grid search and randomized search. For grid search, we will need to fit a model for every combination of possible parameters, which is extremely time-consuming. In practice, it is pref red to use randomized search."
   ]
  },
  {
   "cell_type": "markdown",
   "metadata": {},
   "source": [
    "In out project, we intend use Scikit-learn's `RandomizedSearchCV` to do the randomized search. As described in the official documentation, our estimator / model needs to implement `fit` and `score` methods, which we have already done this in the previous section."
   ]
  },
  {
   "cell_type": "markdown",
   "metadata": {},
   "source": [
    "We define a function `train` that implements the randomized search to train our model:"
   ]
  },
  {
   "cell_type": "code",
   "execution_count": 11,
   "metadata": {},
   "outputs": [],
   "source": [
    "from sklearn.model_selection import TimeSeriesSplit, RandomizedSearchCV\n",
    "\n",
    "def train(\n",
    "        stocks: pd.DataFrame,\n",
    "        company: str,\n",
    "        num_days_left_out: int = 90,\n",
    "        pred_len: int = 1\n",
    "    ) -> dict:\n",
    "    \n",
    "    feature_encoder = LabelEncoder()\n",
    "    feature_encoder.fit(ALL_FEATURES)\n",
    "    df = stocks.query(f\"Company == '{company}'\")\n",
    "    train_df = df[:-num_days_left_out]\n",
    "    train_df = train_df[ALL_FEATURES]\n",
    "    train_ts = train_df[feature_encoder.classes_].to_numpy()\n",
    "    \n",
    "    # a sliding window splitter for time series cross validation\n",
    "    ts_cv = TimeSeriesSplit(\n",
    "        n_splits=2,\n",
    "        test_size=pred_len\n",
    "    )\n",
    "    \n",
    "    # initialize a price predictor model\n",
    "    PricePredictor.feature_encoder = feature_encoder\n",
    "    price_predictor = PricePredictor(pred_len=pred_len)\n",
    "    \n",
    "    # use random search to tune the model\n",
    "    search = RandomizedSearchCV(\n",
    "        price_predictor,\n",
    "        {\n",
    "            \"features\": [\n",
    "                [\"Close\"],\n",
    "                [\"Close\", \"Open\"],\n",
    "                [\"Close\", \"Open\", \"Volume\"]\n",
    "            ],\n",
    "            \"seq_len\": [\n",
    "                30, 60, 90\n",
    "            ],\n",
    "            \"num_days_ago\": [\n",
    "                300, 400, 500\n",
    "            ],\n",
    "            \"hidden_size\": [\n",
    "                16, 32\n",
    "            ],\n",
    "            \"num_layers\": [\n",
    "                1, 2\n",
    "            ]\n",
    "        },\n",
    "        cv=ts_cv,\n",
    "        n_iter=10,\n",
    "        verbose=2\n",
    "    )\n",
    "    \n",
    "    # train!\n",
    "    search.fit(train_ts)\n",
    "    \n",
    "    # return the training result\n",
    "    train_result = {\n",
    "        \"model\": search.best_estimator_,\n",
    "        \"params\": search.best_params_,\n",
    "        \"score\": search.best_score_\n",
    "    }\n",
    "    \n",
    "    return train_result"
   ]
  },
  {
   "cell_type": "markdown",
   "metadata": {},
   "source": [
    "Finally, we are ready to train the model:"
   ]
  },
  {
   "cell_type": "markdown",
   "metadata": {},
   "source": [
    "```{note}\n",
    "The following cell is not executable since we discover that something may go wrong when one execute this notebook online. Therefore, we display execution output from our machine in the following.\n",
    "```"
   ]
  },
  {
   "cell_type": "markdown",
   "metadata": {},
   "source": [
    "```py\n",
    "stocks: pd.DataFrame = pd.read_csv(\"../../data/stocks.csv\", index_col=0, parse_dates=True)\n",
    "company = \"TSLA\"\n",
    "stock = stocks.query(f\"Company == '{company}'\").drop(columns=[\"Company\", \"Sector\"])\n",
    "\n",
    "train_result = train(stocks, company=\"TSLA\", num_days_left_out=num_days, pred_len=1)\n",
    "train_result\n",
    "```"
   ]
  },
  {
   "cell_type": "markdown",
   "metadata": {},
   "source": [
    "The output is as follows:"
   ]
  },
  {
   "cell_type": "markdown",
   "metadata": {},
   "source": [
    "```\n",
    "Fitting 2 folds for each of 10 candidates, totalling 20 fits\n",
    "[CV] END features=['Close', 'Open'], hidden_size=32, num_days_ago=300, num_layers=2, seq_len=60; total time=   5.4s\n",
    "[CV] END features=['Close', 'Open'], hidden_size=32, num_days_ago=300, num_layers=2, seq_len=60; total time=   4.6s\n",
    "[CV] END features=['Close'], hidden_size=16, num_days_ago=300, num_layers=2, seq_len=30; total time=   1.6s\n",
    "[CV] END features=['Close'], hidden_size=16, num_days_ago=300, num_layers=2, seq_len=30; total time=   1.6s\n",
    "[CV] END features=['Close', 'Open', 'Volume'], hidden_size=32, num_days_ago=500, num_layers=1, seq_len=60; total time=   3.8s\n",
    "[CV] END features=['Close', 'Open', 'Volume'], hidden_size=32, num_days_ago=500, num_layers=1, seq_len=60; total time=   4.0s\n",
    "[CV] END features=['Close'], hidden_size=32, num_days_ago=500, num_layers=2, seq_len=90; total time=  10.6s\n",
    "[CV] END features=['Close'], hidden_size=32, num_days_ago=500, num_layers=2, seq_len=90; total time=   9.9s\n",
    "[CV] END features=['Close', 'Open'], hidden_size=32, num_days_ago=400, num_layers=2, seq_len=90; total time=   8.9s\n",
    "[CV] END features=['Close', 'Open'], hidden_size=32, num_days_ago=400, num_layers=2, seq_len=90; total time=   9.1s\n",
    "[CV] END features=['Close'], hidden_size=32, num_days_ago=500, num_layers=1, seq_len=30; total time=   1.9s\n",
    "[CV] END features=['Close'], hidden_size=32, num_days_ago=500, num_layers=1, seq_len=30; total time=   1.8s\n",
    "[CV] END features=['Close'], hidden_size=32, num_days_ago=400, num_layers=1, seq_len=90; total time=   4.1s\n",
    "[CV] END features=['Close'], hidden_size=32, num_days_ago=400, num_layers=1, seq_len=90; total time=   4.1s\n",
    "[CV] END features=['Close'], hidden_size=16, num_days_ago=400, num_layers=1, seq_len=60; total time=   1.7s\n",
    "[CV] END features=['Close'], hidden_size=16, num_days_ago=400, num_layers=1, seq_len=60; total time=   1.7s\n",
    "[CV] END features=['Close', 'Open', 'Volume'], hidden_size=16, num_days_ago=400, num_layers=1, seq_len=60; total time=   1.9s\n",
    "[CV] END features=['Close', 'Open', 'Volume'], hidden_size=16, num_days_ago=400, num_layers=1, seq_len=60; total time=   1.9s\n",
    "[CV] END features=['Close'], hidden_size=32, num_days_ago=400, num_layers=1, seq_len=30; total time=   1.7s\n",
    "[CV] END features=['Close'], hidden_size=32, num_days_ago=400, num_layers=1, seq_len=30; total time=   1.6s\n",
    "{'model': PricePredictor(features=['Open', 'Volume', 'Close'], num_days_ago=500,\n",
    "                pred_len=3, seq_len=60),\n",
    " 'params': {'seq_len': 60,\n",
    "  'num_layers': 1,\n",
    "  'num_days_ago': 500,\n",
    "  'hidden_size': 32,\n",
    "  'features': ['Close', 'Open', 'Volume']},\n",
    " 'score': -3.7899972418662307}\n",
    "```"
   ]
  },
  {
   "cell_type": "markdown",
   "metadata": {},
   "source": [
    "```py\n",
    "# load trained model\n",
    "price_predictor: PricePredictor = train_result[\"model\"]\n",
    "```"
   ]
  },
  {
   "cell_type": "markdown",
   "metadata": {},
   "source": [
    "Alternatively, we have implemented a function `load_price_predictor` in our `lstm.py` moduel to load a pre-trained model."
   ]
  },
  {
   "cell_type": "code",
   "execution_count": 12,
   "metadata": {},
   "outputs": [],
   "source": [
    "import sys \n",
    "sys.path.append(\"../../\")\n",
    "\n",
    "# import our modules\n",
    "import lstm\n",
    "\n",
    "# load pre-trained model\n",
    "price_predictor: PricePredictor = lstm.load_price_predictor(\"../../models/TSLA-3-day-predictor.pkl\")"
   ]
  },
  {
   "cell_type": "code",
   "execution_count": 13,
   "metadata": {},
   "outputs": [
    {
     "data": {
      "image/png": "[encoded data removed]",
      "text/plain": [
       "<Figure size 1600x400 with 1 Axes>"
      ]
     },
     "metadata": {},
     "output_type": "display_data"
    }
   ],
   "source": [
    "# transform the test data\n",
    "test_ts = test_df[feature_encoder.classes_].to_numpy()\n",
    "t = test_df.index\n",
    "y_true = test_df[\"Close\"].to_numpy()\n",
    "sliding_prices = price_predictor.predict(test_ts)\n",
    "\n",
    "# possible values for num_days_ahead are 1, 2 and 3\n",
    "num_days_ahead = 2\n",
    "\n",
    "# since the model predict the future prices up to 3 days, \n",
    "# here we only need the future 2-day price\n",
    "y_pred = sliding_prices[:-1, num_days_ahead - 1]\n",
    "\n",
    "# plot the result\n",
    "plt.figure(figsize=(16, 4))\n",
    "plt.plot(t, y_true, label=\"True Closing Price\")\n",
    "plt.plot(t, y_pred, label=f\"Future {num_days_ahead}-Day Price\")\n",
    "plt.ylabel(\"Price\")\n",
    "plt.legend()\n",
    "plt.grid()\n",
    "plt.show()"
   ]
  }
 ],
 "metadata": {
  "kernelspec": {
   "display_name": "Python 3.10.6 ('stox')",
   "language": "python",
   "name": "python3"
  },
  "language_info": {
   "codemirror_mode": {
    "name": "ipython",
    "version": 3
   },
   "file_extension": ".py",
   "mimetype": "text/x-python",
   "name": "python",
   "nbconvert_exporter": "python",
   "pygments_lexer": "ipython3",
   "version": "3.10.6"
  },
  "orig_nbformat": 4,
  "vscode": {
   "interpreter": {
    "hash": "b381d2fe9444cf1cecb971d5b2371557f7ae9b538a405ed569cd73f1b37c2a0c"
   }
  }
 },
 "nbformat": 4,
 "nbformat_minor": 2
}
