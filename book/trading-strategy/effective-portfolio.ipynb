{
 "cells": [
  {
   "cell_type": "markdown",
   "metadata": {},
   "source": [
    "# Effective Portfolio"
   ]
  },
  {
   "cell_type": "code",
   "execution_count": 73,
   "metadata": {},
   "outputs": [],
   "source": [
    "import numpy as np\n",
    "import pandas as pd\n",
    "import json\n",
    "import matplotlib.pyplot as plt"
   ]
  },
  {
   "cell_type": "markdown",
   "metadata": {},
   "source": [
    "## Candidate Companies"
   ]
  },
  {
   "cell_type": "markdown",
   "metadata": {},
   "source": [
    "Recall that we have selected the most profitable company in each sector in the sense of **dollar values**. We now load the tickers of these candidate companies."
   ]
  },
  {
   "cell_type": "code",
   "execution_count": 74,
   "metadata": {},
   "outputs": [
    {
     "data": {
      "text/plain": [
       "['META', 'TSLA', 'XOM', 'BAC', 'UNH', 'BA', 'AAPL']"
      ]
     },
     "execution_count": 74,
     "metadata": {},
     "output_type": "execute_result"
    }
   ],
   "source": [
    "with open(\"../../data/companies.json\", \"r\") as f:\n",
    "    companies: list[str] = json.load(f)\n",
    "\n",
    "companies"
   ]
  },
  {
   "cell_type": "markdown",
   "metadata": {},
   "source": [
    "We then put the closing prices of these companies side by side in a data frame:"
   ]
  },
  {
   "cell_type": "code",
   "execution_count": 75,
   "metadata": {},
   "outputs": [
    {
     "data": {
      "text/html": [
       "<div>\n",
       "<style scoped>\n",
       "    .dataframe tbody tr th:only-of-type {\n",
       "        vertical-align: middle;\n",
       "    }\n",
       "\n",
       "    .dataframe tbody tr th {\n",
       "        vertical-align: top;\n",
       "    }\n",
       "\n",
       "    .dataframe thead th {\n",
       "        text-align: right;\n",
       "    }\n",
       "</style>\n",
       "<table border=\"1\" class=\"dataframe\">\n",
       "  <thead>\n",
       "    <tr style=\"text-align: right;\">\n",
       "      <th></th>\n",
       "      <th>META</th>\n",
       "      <th>TSLA</th>\n",
       "      <th>XOM</th>\n",
       "      <th>BAC</th>\n",
       "      <th>UNH</th>\n",
       "      <th>BA</th>\n",
       "      <th>AAPL</th>\n",
       "    </tr>\n",
       "    <tr>\n",
       "      <th>Date</th>\n",
       "      <th></th>\n",
       "      <th></th>\n",
       "      <th></th>\n",
       "      <th></th>\n",
       "      <th></th>\n",
       "      <th></th>\n",
       "      <th></th>\n",
       "    </tr>\n",
       "  </thead>\n",
       "  <tbody>\n",
       "    <tr>\n",
       "      <th>2017-11-02</th>\n",
       "      <td>178.919998</td>\n",
       "      <td>19.950666</td>\n",
       "      <td>83.529999</td>\n",
       "      <td>27.870001</td>\n",
       "      <td>211.100006</td>\n",
       "      <td>262.630005</td>\n",
       "      <td>42.027500</td>\n",
       "    </tr>\n",
       "    <tr>\n",
       "      <th>2017-11-03</th>\n",
       "      <td>178.919998</td>\n",
       "      <td>20.406000</td>\n",
       "      <td>83.180000</td>\n",
       "      <td>27.820000</td>\n",
       "      <td>212.869995</td>\n",
       "      <td>261.750000</td>\n",
       "      <td>43.125000</td>\n",
       "    </tr>\n",
       "    <tr>\n",
       "      <th>2017-11-06</th>\n",
       "      <td>180.169998</td>\n",
       "      <td>20.185333</td>\n",
       "      <td>83.750000</td>\n",
       "      <td>27.750000</td>\n",
       "      <td>212.119995</td>\n",
       "      <td>264.070007</td>\n",
       "      <td>43.562500</td>\n",
       "    </tr>\n",
       "    <tr>\n",
       "      <th>2017-11-07</th>\n",
       "      <td>180.250000</td>\n",
       "      <td>20.403334</td>\n",
       "      <td>83.580002</td>\n",
       "      <td>27.180000</td>\n",
       "      <td>212.699997</td>\n",
       "      <td>266.130005</td>\n",
       "      <td>43.702499</td>\n",
       "    </tr>\n",
       "    <tr>\n",
       "      <th>2017-11-08</th>\n",
       "      <td>179.559998</td>\n",
       "      <td>20.292667</td>\n",
       "      <td>83.470001</td>\n",
       "      <td>26.790001</td>\n",
       "      <td>210.770004</td>\n",
       "      <td>265.570007</td>\n",
       "      <td>44.060001</td>\n",
       "    </tr>\n",
       "    <tr>\n",
       "      <th>...</th>\n",
       "      <td>...</td>\n",
       "      <td>...</td>\n",
       "      <td>...</td>\n",
       "      <td>...</td>\n",
       "      <td>...</td>\n",
       "      <td>...</td>\n",
       "      <td>...</td>\n",
       "    </tr>\n",
       "    <tr>\n",
       "      <th>2022-06-17</th>\n",
       "      <td>163.740005</td>\n",
       "      <td>216.759995</td>\n",
       "      <td>86.120003</td>\n",
       "      <td>31.920000</td>\n",
       "      <td>452.059998</td>\n",
       "      <td>136.800003</td>\n",
       "      <td>131.559998</td>\n",
       "    </tr>\n",
       "    <tr>\n",
       "      <th>2022-06-21</th>\n",
       "      <td>157.050003</td>\n",
       "      <td>237.036667</td>\n",
       "      <td>91.480003</td>\n",
       "      <td>32.849998</td>\n",
       "      <td>480.320007</td>\n",
       "      <td>136.750000</td>\n",
       "      <td>135.869995</td>\n",
       "    </tr>\n",
       "    <tr>\n",
       "      <th>2022-06-22</th>\n",
       "      <td>155.850006</td>\n",
       "      <td>236.086670</td>\n",
       "      <td>87.860001</td>\n",
       "      <td>32.599998</td>\n",
       "      <td>489.679993</td>\n",
       "      <td>137.160004</td>\n",
       "      <td>135.350006</td>\n",
       "    </tr>\n",
       "    <tr>\n",
       "      <th>2022-06-23</th>\n",
       "      <td>158.750000</td>\n",
       "      <td>235.070007</td>\n",
       "      <td>85.209999</td>\n",
       "      <td>32.080002</td>\n",
       "      <td>499.809998</td>\n",
       "      <td>133.970001</td>\n",
       "      <td>138.270004</td>\n",
       "    </tr>\n",
       "    <tr>\n",
       "      <th>2022-06-24</th>\n",
       "      <td>170.160004</td>\n",
       "      <td>245.706665</td>\n",
       "      <td>86.900002</td>\n",
       "      <td>32.310001</td>\n",
       "      <td>495.640015</td>\n",
       "      <td>141.529999</td>\n",
       "      <td>141.660004</td>\n",
       "    </tr>\n",
       "  </tbody>\n",
       "</table>\n",
       "<p>1168 rows × 7 columns</p>\n",
       "</div>"
      ],
      "text/plain": [
       "                  META        TSLA        XOM        BAC         UNH  \\\n",
       "Date                                                                   \n",
       "2017-11-02  178.919998   19.950666  83.529999  27.870001  211.100006   \n",
       "2017-11-03  178.919998   20.406000  83.180000  27.820000  212.869995   \n",
       "2017-11-06  180.169998   20.185333  83.750000  27.750000  212.119995   \n",
       "2017-11-07  180.250000   20.403334  83.580002  27.180000  212.699997   \n",
       "2017-11-08  179.559998   20.292667  83.470001  26.790001  210.770004   \n",
       "...                ...         ...        ...        ...         ...   \n",
       "2022-06-17  163.740005  216.759995  86.120003  31.920000  452.059998   \n",
       "2022-06-21  157.050003  237.036667  91.480003  32.849998  480.320007   \n",
       "2022-06-22  155.850006  236.086670  87.860001  32.599998  489.679993   \n",
       "2022-06-23  158.750000  235.070007  85.209999  32.080002  499.809998   \n",
       "2022-06-24  170.160004  245.706665  86.900002  32.310001  495.640015   \n",
       "\n",
       "                    BA        AAPL  \n",
       "Date                                \n",
       "2017-11-02  262.630005   42.027500  \n",
       "2017-11-03  261.750000   43.125000  \n",
       "2017-11-06  264.070007   43.562500  \n",
       "2017-11-07  266.130005   43.702499  \n",
       "2017-11-08  265.570007   44.060001  \n",
       "...                ...         ...  \n",
       "2022-06-17  136.800003  131.559998  \n",
       "2022-06-21  136.750000  135.869995  \n",
       "2022-06-22  137.160004  135.350006  \n",
       "2022-06-23  133.970001  138.270004  \n",
       "2022-06-24  141.529999  141.660004  \n",
       "\n",
       "[1168 rows x 7 columns]"
      ]
     },
     "execution_count": 75,
     "metadata": {},
     "output_type": "execute_result"
    }
   ],
   "source": [
    "num_days = 90\n",
    "\n",
    "# load data\n",
    "stocks = pd.read_csv(\"../../data/stocks.csv\", index_col=0, parse_dates=True)[:-num_days]\n",
    "\n",
    "df_list = []\n",
    "for company in companies:\n",
    "    df = stocks.query(f\"Company == '{company}'\")[[\"Close\"]]\n",
    "    df.rename(columns={\"Close\": company}, inplace=True)\n",
    "    df_list.append(df)\n",
    "\n",
    "# join stock prices of different companies\n",
    "df = pd.DataFrame.join(df_list[0], df_list[1:])\n",
    "\n",
    "# leave last 90 days out\n",
    "df = df[:-num_days]\n",
    "\n",
    "df"
   ]
  },
  {
   "cell_type": "markdown",
   "metadata": {},
   "source": [
    "## Stock Returns"
   ]
  },
  {
   "cell_type": "markdown",
   "metadata": {},
   "source": [
    "A **stock return** is the change in price of an asset, investment, or project over time, which may be represented in terms of price change or percentage change. In fact, we have already introduced this concept when calculating the profit in a previous section.\n",
    "\n",
    "$$\n",
    "\\text{Today's Stock Return} = \\frac{\\text{Today's Price} - \\text{Yesterday's Price}}{\\text{Yesterday's Price}}\n",
    "$$"
   ]
  },
  {
   "cell_type": "code",
   "execution_count": 76,
   "metadata": {},
   "outputs": [
    {
     "data": {
      "text/html": [
       "<div>\n",
       "<style scoped>\n",
       "    .dataframe tbody tr th:only-of-type {\n",
       "        vertical-align: middle;\n",
       "    }\n",
       "\n",
       "    .dataframe tbody tr th {\n",
       "        vertical-align: top;\n",
       "    }\n",
       "\n",
       "    .dataframe thead th {\n",
       "        text-align: right;\n",
       "    }\n",
       "</style>\n",
       "<table border=\"1\" class=\"dataframe\">\n",
       "  <thead>\n",
       "    <tr style=\"text-align: right;\">\n",
       "      <th></th>\n",
       "      <th>META</th>\n",
       "      <th>TSLA</th>\n",
       "      <th>XOM</th>\n",
       "      <th>BAC</th>\n",
       "      <th>UNH</th>\n",
       "      <th>BA</th>\n",
       "      <th>AAPL</th>\n",
       "    </tr>\n",
       "    <tr>\n",
       "      <th>Date</th>\n",
       "      <th></th>\n",
       "      <th></th>\n",
       "      <th></th>\n",
       "      <th></th>\n",
       "      <th></th>\n",
       "      <th></th>\n",
       "      <th></th>\n",
       "    </tr>\n",
       "  </thead>\n",
       "  <tbody>\n",
       "    <tr>\n",
       "      <th>2017-11-03</th>\n",
       "      <td>0.000000</td>\n",
       "      <td>0.022566</td>\n",
       "      <td>-0.004199</td>\n",
       "      <td>-0.001796</td>\n",
       "      <td>0.008350</td>\n",
       "      <td>-0.003356</td>\n",
       "      <td>0.025779</td>\n",
       "    </tr>\n",
       "    <tr>\n",
       "      <th>2017-11-06</th>\n",
       "      <td>0.006962</td>\n",
       "      <td>-0.010873</td>\n",
       "      <td>0.006829</td>\n",
       "      <td>-0.002519</td>\n",
       "      <td>-0.003529</td>\n",
       "      <td>0.008824</td>\n",
       "      <td>0.010094</td>\n",
       "    </tr>\n",
       "    <tr>\n",
       "      <th>2017-11-07</th>\n",
       "      <td>0.000444</td>\n",
       "      <td>0.010742</td>\n",
       "      <td>-0.002032</td>\n",
       "      <td>-0.020754</td>\n",
       "      <td>0.002731</td>\n",
       "      <td>0.007771</td>\n",
       "      <td>0.003209</td>\n",
       "    </tr>\n",
       "    <tr>\n",
       "      <th>2017-11-08</th>\n",
       "      <td>-0.003835</td>\n",
       "      <td>-0.005439</td>\n",
       "      <td>-0.001317</td>\n",
       "      <td>-0.014453</td>\n",
       "      <td>-0.009115</td>\n",
       "      <td>-0.002106</td>\n",
       "      <td>0.008147</td>\n",
       "    </tr>\n",
       "    <tr>\n",
       "      <th>2017-11-09</th>\n",
       "      <td>-0.001449</td>\n",
       "      <td>-0.004610</td>\n",
       "      <td>0.005972</td>\n",
       "      <td>-0.011261</td>\n",
       "      <td>0.003741</td>\n",
       "      <td>-0.010866</td>\n",
       "      <td>-0.002045</td>\n",
       "    </tr>\n",
       "    <tr>\n",
       "      <th>...</th>\n",
       "      <td>...</td>\n",
       "      <td>...</td>\n",
       "      <td>...</td>\n",
       "      <td>...</td>\n",
       "      <td>...</td>\n",
       "      <td>...</td>\n",
       "      <td>...</td>\n",
       "    </tr>\n",
       "    <tr>\n",
       "      <th>2022-06-17</th>\n",
       "      <td>0.017683</td>\n",
       "      <td>0.017029</td>\n",
       "      <td>-0.059394</td>\n",
       "      <td>0.002195</td>\n",
       "      <td>-0.008875</td>\n",
       "      <td>0.025468</td>\n",
       "      <td>0.011467</td>\n",
       "    </tr>\n",
       "    <tr>\n",
       "      <th>2022-06-21</th>\n",
       "      <td>-0.041716</td>\n",
       "      <td>0.089424</td>\n",
       "      <td>0.060379</td>\n",
       "      <td>0.028719</td>\n",
       "      <td>0.060638</td>\n",
       "      <td>-0.000366</td>\n",
       "      <td>0.032236</td>\n",
       "    </tr>\n",
       "    <tr>\n",
       "      <th>2022-06-22</th>\n",
       "      <td>-0.007670</td>\n",
       "      <td>-0.004016</td>\n",
       "      <td>-0.040376</td>\n",
       "      <td>-0.007639</td>\n",
       "      <td>0.019300</td>\n",
       "      <td>0.002994</td>\n",
       "      <td>-0.003834</td>\n",
       "    </tr>\n",
       "    <tr>\n",
       "      <th>2022-06-23</th>\n",
       "      <td>0.018437</td>\n",
       "      <td>-0.004316</td>\n",
       "      <td>-0.030626</td>\n",
       "      <td>-0.016079</td>\n",
       "      <td>0.020476</td>\n",
       "      <td>-0.023532</td>\n",
       "      <td>0.021344</td>\n",
       "    </tr>\n",
       "    <tr>\n",
       "      <th>2022-06-24</th>\n",
       "      <td>0.069409</td>\n",
       "      <td>0.044255</td>\n",
       "      <td>0.019639</td>\n",
       "      <td>0.007144</td>\n",
       "      <td>-0.008378</td>\n",
       "      <td>0.054896</td>\n",
       "      <td>0.024222</td>\n",
       "    </tr>\n",
       "  </tbody>\n",
       "</table>\n",
       "<p>1167 rows × 7 columns</p>\n",
       "</div>"
      ],
      "text/plain": [
       "                META      TSLA       XOM       BAC       UNH        BA  \\\n",
       "Date                                                                     \n",
       "2017-11-03  0.000000  0.022566 -0.004199 -0.001796  0.008350 -0.003356   \n",
       "2017-11-06  0.006962 -0.010873  0.006829 -0.002519 -0.003529  0.008824   \n",
       "2017-11-07  0.000444  0.010742 -0.002032 -0.020754  0.002731  0.007771   \n",
       "2017-11-08 -0.003835 -0.005439 -0.001317 -0.014453 -0.009115 -0.002106   \n",
       "2017-11-09 -0.001449 -0.004610  0.005972 -0.011261  0.003741 -0.010866   \n",
       "...              ...       ...       ...       ...       ...       ...   \n",
       "2022-06-17  0.017683  0.017029 -0.059394  0.002195 -0.008875  0.025468   \n",
       "2022-06-21 -0.041716  0.089424  0.060379  0.028719  0.060638 -0.000366   \n",
       "2022-06-22 -0.007670 -0.004016 -0.040376 -0.007639  0.019300  0.002994   \n",
       "2022-06-23  0.018437 -0.004316 -0.030626 -0.016079  0.020476 -0.023532   \n",
       "2022-06-24  0.069409  0.044255  0.019639  0.007144 -0.008378  0.054896   \n",
       "\n",
       "                AAPL  \n",
       "Date                  \n",
       "2017-11-03  0.025779  \n",
       "2017-11-06  0.010094  \n",
       "2017-11-07  0.003209  \n",
       "2017-11-08  0.008147  \n",
       "2017-11-09 -0.002045  \n",
       "...              ...  \n",
       "2022-06-17  0.011467  \n",
       "2022-06-21  0.032236  \n",
       "2022-06-22 -0.003834  \n",
       "2022-06-23  0.021344  \n",
       "2022-06-24  0.024222  \n",
       "\n",
       "[1167 rows x 7 columns]"
      ]
     },
     "execution_count": 76,
     "metadata": {},
     "output_type": "execute_result"
    }
   ],
   "source": [
    "stock_returns = df.pct_change().dropna()\n",
    "stock_returns = stock_returns.apply(lambda x : np.log(1 + x), axis=1)\n",
    "stock_returns"
   ]
  },
  {
   "cell_type": "markdown",
   "metadata": {},
   "source": [
    "## Volatility"
   ]
  },
  {
   "cell_type": "markdown",
   "metadata": {},
   "source": [
    "Suppose the proportion / weight of money we want to invest in each stock is $w_i$. Then the **volatility** of the portfolio is given by\n",
    "\n",
    "$$\n",
    "\\text{Volatility} = \\sqrt{\\mathbf{w}^\\top \\Sigma \\mathbf{w}}\n",
    "$$\n",
    "\n",
    "where $\\mathbf{w} = (w_1, \\ldots, w_n)^\\top$ (assuming there are $n$ companies), and $\\Sigma$ is the covariance matrix of the daily stock returns, which can be computed by `np.cov(stock_returns.T)` or `stock_returns.cov()` since `stock_returns` is a `DataFrame`."
   ]
  },
  {
   "cell_type": "markdown",
   "metadata": {},
   "source": [
    "Covariance matrix of stock returns, $\\Sigma$:"
   ]
  },
  {
   "cell_type": "markdown",
   "metadata": {},
   "source": [
    "```{tip}\n",
    "It is recommended to use Pandas' functions when experimenting if your data is a `DataFrame` since the output is somewhat nicer. While in actual production, NumPy is preferred.\n",
    "```"
   ]
  },
  {
   "cell_type": "code",
   "execution_count": 77,
   "metadata": {},
   "outputs": [
    {
     "data": {
      "text/html": [
       "<div>\n",
       "<style scoped>\n",
       "    .dataframe tbody tr th:only-of-type {\n",
       "        vertical-align: middle;\n",
       "    }\n",
       "\n",
       "    .dataframe tbody tr th {\n",
       "        vertical-align: top;\n",
       "    }\n",
       "\n",
       "    .dataframe thead th {\n",
       "        text-align: right;\n",
       "    }\n",
       "</style>\n",
       "<table border=\"1\" class=\"dataframe\">\n",
       "  <thead>\n",
       "    <tr style=\"text-align: right;\">\n",
       "      <th></th>\n",
       "      <th>META</th>\n",
       "      <th>TSLA</th>\n",
       "      <th>XOM</th>\n",
       "      <th>BAC</th>\n",
       "      <th>UNH</th>\n",
       "      <th>BA</th>\n",
       "      <th>AAPL</th>\n",
       "    </tr>\n",
       "  </thead>\n",
       "  <tbody>\n",
       "    <tr>\n",
       "      <th>META</th>\n",
       "      <td>0.000664</td>\n",
       "      <td>0.000371</td>\n",
       "      <td>0.000139</td>\n",
       "      <td>0.000207</td>\n",
       "      <td>0.000169</td>\n",
       "      <td>0.000284</td>\n",
       "      <td>0.000311</td>\n",
       "    </tr>\n",
       "    <tr>\n",
       "      <th>TSLA</th>\n",
       "      <td>0.000371</td>\n",
       "      <td>0.001678</td>\n",
       "      <td>0.000181</td>\n",
       "      <td>0.000260</td>\n",
       "      <td>0.000193</td>\n",
       "      <td>0.000457</td>\n",
       "      <td>0.000396</td>\n",
       "    </tr>\n",
       "    <tr>\n",
       "      <th>XOM</th>\n",
       "      <td>0.000139</td>\n",
       "      <td>0.000181</td>\n",
       "      <td>0.000449</td>\n",
       "      <td>0.000303</td>\n",
       "      <td>0.000172</td>\n",
       "      <td>0.000371</td>\n",
       "      <td>0.000154</td>\n",
       "    </tr>\n",
       "    <tr>\n",
       "      <th>BAC</th>\n",
       "      <td>0.000207</td>\n",
       "      <td>0.000260</td>\n",
       "      <td>0.000303</td>\n",
       "      <td>0.000500</td>\n",
       "      <td>0.000216</td>\n",
       "      <td>0.000436</td>\n",
       "      <td>0.000217</td>\n",
       "    </tr>\n",
       "    <tr>\n",
       "      <th>UNH</th>\n",
       "      <td>0.000169</td>\n",
       "      <td>0.000193</td>\n",
       "      <td>0.000172</td>\n",
       "      <td>0.000216</td>\n",
       "      <td>0.000362</td>\n",
       "      <td>0.000254</td>\n",
       "      <td>0.000198</td>\n",
       "    </tr>\n",
       "    <tr>\n",
       "      <th>BA</th>\n",
       "      <td>0.000284</td>\n",
       "      <td>0.000457</td>\n",
       "      <td>0.000371</td>\n",
       "      <td>0.000436</td>\n",
       "      <td>0.000254</td>\n",
       "      <td>0.001041</td>\n",
       "      <td>0.000295</td>\n",
       "    </tr>\n",
       "    <tr>\n",
       "      <th>AAPL</th>\n",
       "      <td>0.000311</td>\n",
       "      <td>0.000396</td>\n",
       "      <td>0.000154</td>\n",
       "      <td>0.000217</td>\n",
       "      <td>0.000198</td>\n",
       "      <td>0.000295</td>\n",
       "      <td>0.000429</td>\n",
       "    </tr>\n",
       "  </tbody>\n",
       "</table>\n",
       "</div>"
      ],
      "text/plain": [
       "          META      TSLA       XOM       BAC       UNH        BA      AAPL\n",
       "META  0.000664  0.000371  0.000139  0.000207  0.000169  0.000284  0.000311\n",
       "TSLA  0.000371  0.001678  0.000181  0.000260  0.000193  0.000457  0.000396\n",
       "XOM   0.000139  0.000181  0.000449  0.000303  0.000172  0.000371  0.000154\n",
       "BAC   0.000207  0.000260  0.000303  0.000500  0.000216  0.000436  0.000217\n",
       "UNH   0.000169  0.000193  0.000172  0.000216  0.000362  0.000254  0.000198\n",
       "BA    0.000284  0.000457  0.000371  0.000436  0.000254  0.001041  0.000295\n",
       "AAPL  0.000311  0.000396  0.000154  0.000217  0.000198  0.000295  0.000429"
      ]
     },
     "execution_count": 77,
     "metadata": {},
     "output_type": "execute_result"
    }
   ],
   "source": [
    "stock_returns.cov()"
   ]
  },
  {
   "cell_type": "markdown",
   "metadata": {},
   "source": [
    "Then, the volatility can be calculated by (assuming the weights are all equal)"
   ]
  },
  {
   "cell_type": "code",
   "execution_count": 78,
   "metadata": {},
   "outputs": [
    {
     "data": {
      "text/plain": [
       "0.01823466003794474"
      ]
     },
     "execution_count": 78,
     "metadata": {},
     "output_type": "execute_result"
    }
   ],
   "source": [
    "num_companies = len(companies)\n",
    "\n",
    "# assign equal weights\n",
    "weight = np.ones(num_companies) / num_companies\n",
    "\n",
    "# convert to column vector\n",
    "weight_vec = weight.reshape((-1, 1))\n",
    "\n",
    "# volatility\n",
    "volatility = np.sqrt(weight_vec.T @ np.cov(stock_returns.T) @ weight_vec)\n",
    "volatility = volatility.item()\n",
    "volatility"
   ]
  },
  {
   "cell_type": "code",
   "execution_count": 79,
   "metadata": {},
   "outputs": [],
   "source": [
    "def calc_volatility(stock_returns: pd.DataFrame, weight: np.ndarray) -> float:\n",
    "    \n",
    "    # scale weights\n",
    "    weight = weight / weight.sum()\n",
    "    \n",
    "    # convert to column vector\n",
    "    weight_vec = weight.reshape((-1, 1))\n",
    "    \n",
    "    # volatility\n",
    "    volatility = np.sqrt(weight_vec.T @ np.cov(stock_returns.T) @ weight_vec)\n",
    "    volatility = volatility.item()\n",
    "    \n",
    "    return volatility"
   ]
  },
  {
   "cell_type": "markdown",
   "metadata": {},
   "source": [
    "## Weighted Stock Returns"
   ]
  },
  {
   "cell_type": "markdown",
   "metadata": {},
   "source": [
    "For a certain portfolio, the **weighted stock return** is simply the sum of weighted returns of all invested stocks.\n",
    "\n",
    "$$\n",
    "\\text{Weighted Stock Return} \n",
    "= \\mathbf{w}^\\top \\mathbf{r}\n",
    "= \\sum_{i=1}^n w_i r_i\n",
    "$$\n",
    "\n",
    "where $r_i$ is the *average* stock return of the $i$-th company."
   ]
  },
  {
   "cell_type": "code",
   "execution_count": 80,
   "metadata": {},
   "outputs": [
    {
     "data": {
      "text/plain": [
       "0.0005017068811196133"
      ]
     },
     "execution_count": 80,
     "metadata": {},
     "output_type": "execute_result"
    }
   ],
   "source": [
    "weighted_stock_return = np.dot(weight, stock_returns.mean().to_numpy())\n",
    "weighted_stock_return"
   ]
  },
  {
   "cell_type": "code",
   "execution_count": 81,
   "metadata": {},
   "outputs": [],
   "source": [
    "def calc_weighted_stock_return(stock_returns: pd.DataFrame, weight: np.ndarray) -> float:\n",
    "    \n",
    "    # scale weights\n",
    "    weight = weight / weight.sum()\n",
    "    \n",
    "    return np.dot(weight, stock_returns.mean().to_numpy())"
   ]
  },
  {
   "cell_type": "markdown",
   "metadata": {},
   "source": [
    "## Monte Carlo Simulation"
   ]
  },
  {
   "cell_type": "markdown",
   "metadata": {},
   "source": [
    "We generate weight for each company is selected with equal probabilities and then calculate the stock return as well as the volatility."
   ]
  },
  {
   "cell_type": "code",
   "execution_count": 82,
   "metadata": {},
   "outputs": [],
   "source": [
    "# set seed\n",
    "SEED = 7008\n",
    "rng = np.random.RandomState(SEED)\n",
    "\n",
    "# the weight for each company is selected with equal probabilities\n",
    "m = 5000\n",
    "simulated_weights = rng.random((m, num_companies))\n",
    "\n",
    "from functools import partial\n",
    "\n",
    "# calculate volatility for each portfolio\n",
    "volatilities = np.apply_along_axis(\n",
    "    partial(calc_volatility, stock_returns),\n",
    "    axis=1,\n",
    "    arr=simulated_weights\n",
    ")\n",
    "\n",
    "# calculate stock return for each portfolio\n",
    "weighted_stock_returns = np.apply_along_axis(\n",
    "    partial(calc_weighted_stock_return, stock_returns),\n",
    "    axis=1,\n",
    "    arr=simulated_weights\n",
    ")"
   ]
  },
  {
   "cell_type": "markdown",
   "metadata": {},
   "source": [
    "Plot the stock return against the volatility for each portfolio:"
   ]
  },
  {
   "cell_type": "code",
   "execution_count": 83,
   "metadata": {},
   "outputs": [
    {
     "data": {
      "image/png": "[encoded data removed]",
      "text/plain": [
       "<Figure size 640x480 with 1 Axes>"
      ]
     },
     "metadata": {},
     "output_type": "display_data"
    }
   ],
   "source": [
    "plt.scatter(volatilities, weighted_stock_returns, s=1)\n",
    "plt.xlabel(\"Volatility\")\n",
    "plt.ylabel(\"Weighted Stock Return\")\n",
    "plt.grid()\n",
    "plt.show()"
   ]
  },
  {
   "cell_type": "markdown",
   "metadata": {},
   "source": [
    "## Sharpe Ratio"
   ]
  },
  {
   "cell_type": "markdown",
   "metadata": {},
   "source": [
    "The Sharpe ratio is given by \n",
    "\n",
    "$$\n",
    "\\text{Shape Ratio} = \\frac{\\text{Stock Return}}{\\text{Volatility}}\n",
    "$$"
   ]
  },
  {
   "cell_type": "markdown",
   "metadata": {},
   "source": [
    "We want the portfolio with as high Sharpe ratio as possible since we prefer high stock return and low volatility."
   ]
  },
  {
   "cell_type": "code",
   "execution_count": 84,
   "metadata": {},
   "outputs": [
    {
     "data": {
      "text/plain": [
       "array([0.00808913, 0.20070573, 0.10093622, 0.00323051, 0.34447254,\n",
       "       0.01460107, 0.32796482])"
      ]
     },
     "execution_count": 84,
     "metadata": {},
     "output_type": "execute_result"
    }
   ],
   "source": [
    "# calculate Sharpe ratio\n",
    "sharpe_ratio = weighted_stock_returns / volatilities\n",
    "\n",
    "# find the portfolio that maximize the sharpe ratio\n",
    "optimal_weight_ix = np.argmax(sharpe_ratio)\n",
    "optimal_weight: np.ndarray = simulated_weights[optimal_weight_ix]\n",
    "\n",
    "# scale the weights\n",
    "optimal_weight = optimal_weight / optimal_weight.sum()\n",
    "\n",
    "optimal_weight"
   ]
  },
  {
   "cell_type": "markdown",
   "metadata": {},
   "source": [
    "The optimal portfolio is marked as red star in the following plot:"
   ]
  },
  {
   "cell_type": "code",
   "execution_count": 85,
   "metadata": {},
   "outputs": [
    {
     "data": {
      "image/png": "[encoded data removed]",
      "text/plain": [
       "<Figure size 640x480 with 1 Axes>"
      ]
     },
     "metadata": {},
     "output_type": "display_data"
    }
   ],
   "source": [
    "plt.scatter(volatilities, weighted_stock_returns, s=1)\n",
    "plt.scatter(volatilities[optimal_weight_ix], weighted_stock_returns[optimal_weight_ix], s=100, marker=\"*\", color=\"r\")\n",
    "plt.xlabel(\"Volatility\")\n",
    "plt.ylabel(\"Weighted Stock Return\")\n",
    "plt.grid()\n",
    "plt.show()"
   ]
  }
 ],
 "metadata": {
  "kernelspec": {
   "display_name": "Python 3.10.6 ('stox')",
   "language": "python",
   "name": "python3"
  },
  "language_info": {
   "codemirror_mode": {
    "name": "ipython",
    "version": 3
   },
   "file_extension": ".py",
   "mimetype": "text/x-python",
   "name": "python",
   "nbconvert_exporter": "python",
   "pygments_lexer": "ipython3",
   "version": "3.10.6"
  },
  "orig_nbformat": 4,
  "vscode": {
   "interpreter": {
    "hash": "b381d2fe9444cf1cecb971d5b2371557f7ae9b538a405ed569cd73f1b37c2a0c"
   }
  }
 },
 "nbformat": 4,
 "nbformat_minor": 2
}
