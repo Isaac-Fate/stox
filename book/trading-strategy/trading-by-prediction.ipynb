{
 "cells": [
  {
   "cell_type": "markdown",
   "metadata": {},
   "source": [
    "# Trading by Prediction"
   ]
  },
  {
   "cell_type": "code",
   "execution_count": 147,
   "metadata": {},
   "outputs": [],
   "source": [
    "import numpy as np\n",
    "import pandas as pd\n",
    "from sklearn.preprocessing import LabelEncoder\n",
    "import joblib\n",
    "import matplotlib.pyplot as plt\n",
    "\n",
    "# load our modules\n",
    "import sys\n",
    "sys.path.append(\"../../\")\n",
    "import lstm\n",
    "import profit"
   ]
  },
  {
   "cell_type": "markdown",
   "metadata": {},
   "source": [
    "## Load Data"
   ]
  },
  {
   "cell_type": "markdown",
   "metadata": {},
   "source": [
    "We again consider the Tesla stock of the latest 90 days."
   ]
  },
  {
   "cell_type": "code",
   "execution_count": 148,
   "metadata": {},
   "outputs": [
    {
     "data": {
      "text/html": [
       "<div>\n",
       "<style scoped>\n",
       "    .dataframe tbody tr th:only-of-type {\n",
       "        vertical-align: middle;\n",
       "    }\n",
       "\n",
       "    .dataframe tbody tr th {\n",
       "        vertical-align: top;\n",
       "    }\n",
       "\n",
       "    .dataframe thead th {\n",
       "        text-align: right;\n",
       "    }\n",
       "</style>\n",
       "<table border=\"1\" class=\"dataframe\">\n",
       "  <thead>\n",
       "    <tr style=\"text-align: right;\">\n",
       "      <th></th>\n",
       "      <th>Open</th>\n",
       "      <th>High</th>\n",
       "      <th>Low</th>\n",
       "      <th>Close</th>\n",
       "      <th>Volume</th>\n",
       "    </tr>\n",
       "    <tr>\n",
       "      <th>Date</th>\n",
       "      <th></th>\n",
       "      <th></th>\n",
       "      <th></th>\n",
       "      <th></th>\n",
       "      <th></th>\n",
       "    </tr>\n",
       "  </thead>\n",
       "  <tbody>\n",
       "    <tr>\n",
       "      <th>2022-06-27</th>\n",
       "      <td>249.366669</td>\n",
       "      <td>252.070007</td>\n",
       "      <td>242.566666</td>\n",
       "      <td>244.919998</td>\n",
       "      <td>89178300</td>\n",
       "    </tr>\n",
       "    <tr>\n",
       "      <th>2022-06-28</th>\n",
       "      <td>244.483337</td>\n",
       "      <td>249.970001</td>\n",
       "      <td>232.343338</td>\n",
       "      <td>232.663330</td>\n",
       "      <td>90391200</td>\n",
       "    </tr>\n",
       "    <tr>\n",
       "      <th>2022-06-29</th>\n",
       "      <td>230.500000</td>\n",
       "      <td>231.173340</td>\n",
       "      <td>222.273331</td>\n",
       "      <td>228.490005</td>\n",
       "      <td>82897200</td>\n",
       "    </tr>\n",
       "    <tr>\n",
       "      <th>2022-06-30</th>\n",
       "      <td>224.509995</td>\n",
       "      <td>229.456665</td>\n",
       "      <td>218.863327</td>\n",
       "      <td>224.473328</td>\n",
       "      <td>94600500</td>\n",
       "    </tr>\n",
       "    <tr>\n",
       "      <th>2022-07-01</th>\n",
       "      <td>227.000000</td>\n",
       "      <td>230.229996</td>\n",
       "      <td>222.119995</td>\n",
       "      <td>227.263336</td>\n",
       "      <td>74460300</td>\n",
       "    </tr>\n",
       "    <tr>\n",
       "      <th>...</th>\n",
       "      <td>...</td>\n",
       "      <td>...</td>\n",
       "      <td>...</td>\n",
       "      <td>...</td>\n",
       "      <td>...</td>\n",
       "    </tr>\n",
       "    <tr>\n",
       "      <th>2022-10-26</th>\n",
       "      <td>219.399994</td>\n",
       "      <td>230.600006</td>\n",
       "      <td>218.199997</td>\n",
       "      <td>224.639999</td>\n",
       "      <td>85012500</td>\n",
       "    </tr>\n",
       "    <tr>\n",
       "      <th>2022-10-27</th>\n",
       "      <td>229.770004</td>\n",
       "      <td>233.809998</td>\n",
       "      <td>222.850006</td>\n",
       "      <td>225.089996</td>\n",
       "      <td>61638800</td>\n",
       "    </tr>\n",
       "    <tr>\n",
       "      <th>2022-10-28</th>\n",
       "      <td>225.399994</td>\n",
       "      <td>228.860001</td>\n",
       "      <td>216.350006</td>\n",
       "      <td>228.520004</td>\n",
       "      <td>69152400</td>\n",
       "    </tr>\n",
       "    <tr>\n",
       "      <th>2022-10-31</th>\n",
       "      <td>226.190002</td>\n",
       "      <td>229.850006</td>\n",
       "      <td>221.940002</td>\n",
       "      <td>227.539993</td>\n",
       "      <td>61554300</td>\n",
       "    </tr>\n",
       "    <tr>\n",
       "      <th>2022-11-01</th>\n",
       "      <td>234.050003</td>\n",
       "      <td>237.399994</td>\n",
       "      <td>227.279999</td>\n",
       "      <td>227.820007</td>\n",
       "      <td>62566500</td>\n",
       "    </tr>\n",
       "  </tbody>\n",
       "</table>\n",
       "<p>90 rows × 5 columns</p>\n",
       "</div>"
      ],
      "text/plain": [
       "                  Open        High         Low       Close    Volume\n",
       "Date                                                                \n",
       "2022-06-27  249.366669  252.070007  242.566666  244.919998  89178300\n",
       "2022-06-28  244.483337  249.970001  232.343338  232.663330  90391200\n",
       "2022-06-29  230.500000  231.173340  222.273331  228.490005  82897200\n",
       "2022-06-30  224.509995  229.456665  218.863327  224.473328  94600500\n",
       "2022-07-01  227.000000  230.229996  222.119995  227.263336  74460300\n",
       "...                ...         ...         ...         ...       ...\n",
       "2022-10-26  219.399994  230.600006  218.199997  224.639999  85012500\n",
       "2022-10-27  229.770004  233.809998  222.850006  225.089996  61638800\n",
       "2022-10-28  225.399994  228.860001  216.350006  228.520004  69152400\n",
       "2022-10-31  226.190002  229.850006  221.940002  227.539993  61554300\n",
       "2022-11-01  234.050003  237.399994  227.279999  227.820007  62566500\n",
       "\n",
       "[90 rows x 5 columns]"
      ]
     },
     "execution_count": 148,
     "metadata": {},
     "output_type": "execute_result"
    }
   ],
   "source": [
    "stock = pd.read_pickle(\"../../data/TSLA.pkl\")\n",
    "num_days = 90\n",
    "stock = stock[-num_days:]\n",
    "stock"
   ]
  },
  {
   "cell_type": "markdown",
   "metadata": {},
   "source": [
    "## Load Trained Model"
   ]
  },
  {
   "cell_type": "markdown",
   "metadata": {},
   "source": [
    "Recall that to use our `PricePredictor`, we need a feature encoder."
   ]
  },
  {
   "cell_type": "code",
   "execution_count": 149,
   "metadata": {},
   "outputs": [
    {
     "data": {
      "text/plain": [
       "LabelEncoder()"
      ]
     },
     "execution_count": 149,
     "metadata": {},
     "output_type": "execute_result"
    }
   ],
   "source": [
    "# set up feature encoder for the price predictor\n",
    "feature_encoder = LabelEncoder()\n",
    "feature_encoder.fit(lstm.ALL_FEATURES)"
   ]
  },
  {
   "cell_type": "markdown",
   "metadata": {},
   "source": [
    "Pass the encoder to the class attribute:"
   ]
  },
  {
   "cell_type": "code",
   "execution_count": 150,
   "metadata": {},
   "outputs": [],
   "source": [
    "lstm.PricePredictor.feature_encoder = feature_encoder"
   ]
  },
  {
   "cell_type": "markdown",
   "metadata": {},
   "source": [
    "Convert Pandas `DataFrame` to NumPy array:"
   ]
  },
  {
   "cell_type": "code",
   "execution_count": 151,
   "metadata": {},
   "outputs": [],
   "source": [
    "# select the features of interest in data frame and transform it to NumPy array\n",
    "stock = stock[lstm.ALL_FEATURES]\n",
    "ts = stock[feature_encoder.classes_].to_numpy()"
   ]
  },
  {
   "cell_type": "markdown",
   "metadata": {},
   "source": [
    "Load our trained model with `joblib` module:"
   ]
  },
  {
   "cell_type": "markdown",
   "metadata": {},
   "source": [
    "```{note}\n",
    "In fact, Scikit-Learn recommends to use `joblib` to load the models instead of `pickle` module.\n",
    "```"
   ]
  },
  {
   "cell_type": "code",
   "execution_count": 152,
   "metadata": {},
   "outputs": [
    {
     "data": {
      "text/plain": [
       "PricePredictor(features=['Open', 'Volume', 'Close'], num_days_ago=400,\n",
       "               pred_len=3, seq_len=30)"
      ]
     },
     "execution_count": 152,
     "metadata": {},
     "output_type": "execute_result"
    }
   ],
   "source": [
    "price_predictor = joblib.load(\"../../models/TSLA-3-day-predictor.pkl\")\n",
    "price_predictor"
   ]
  },
  {
   "cell_type": "markdown",
   "metadata": {},
   "source": [
    "## Information About the Stock Price of Future 1, 2 or 3 Days"
   ]
  },
  {
   "cell_type": "markdown",
   "metadata": {},
   "source": [
    "In this notebook, we choose to refer the predicted closing price the day after tomorrow. (`num_days_ahead` equals 2.)"
   ]
  },
  {
   "cell_type": "code",
   "execution_count": 153,
   "metadata": {},
   "outputs": [],
   "source": [
    "num_days_ahead = 2"
   ]
  },
  {
   "cell_type": "markdown",
   "metadata": {},
   "source": [
    "For each day, what the model does is that it takes into consideration all past days before the current day and predict the closing price N days from now. (N equals `num_days_ahead`. Since the model we have loaded can predict at most 3 days ahead, N can only be 1, 2 or 3.)"
   ]
  },
  {
   "cell_type": "code",
   "execution_count": 154,
   "metadata": {},
   "outputs": [
    {
     "data": {
      "text/html": [
       "<div>\n",
       "<style scoped>\n",
       "    .dataframe tbody tr th:only-of-type {\n",
       "        vertical-align: middle;\n",
       "    }\n",
       "\n",
       "    .dataframe tbody tr th {\n",
       "        vertical-align: top;\n",
       "    }\n",
       "\n",
       "    .dataframe thead th {\n",
       "        text-align: right;\n",
       "    }\n",
       "</style>\n",
       "<table border=\"1\" class=\"dataframe\">\n",
       "  <thead>\n",
       "    <tr style=\"text-align: right;\">\n",
       "      <th></th>\n",
       "      <th>Close</th>\n",
       "      <th>Future</th>\n",
       "    </tr>\n",
       "    <tr>\n",
       "      <th>Date</th>\n",
       "      <th></th>\n",
       "      <th></th>\n",
       "    </tr>\n",
       "  </thead>\n",
       "  <tbody>\n",
       "    <tr>\n",
       "      <th>2022-06-27</th>\n",
       "      <td>244.919998</td>\n",
       "      <td>247.893295</td>\n",
       "    </tr>\n",
       "    <tr>\n",
       "      <th>2022-06-28</th>\n",
       "      <td>232.663330</td>\n",
       "      <td>245.430481</td>\n",
       "    </tr>\n",
       "    <tr>\n",
       "      <th>2022-06-29</th>\n",
       "      <td>228.490005</td>\n",
       "      <td>238.189026</td>\n",
       "    </tr>\n",
       "    <tr>\n",
       "      <th>2022-06-30</th>\n",
       "      <td>224.473328</td>\n",
       "      <td>230.715347</td>\n",
       "    </tr>\n",
       "    <tr>\n",
       "      <th>2022-07-01</th>\n",
       "      <td>227.263336</td>\n",
       "      <td>227.550049</td>\n",
       "    </tr>\n",
       "    <tr>\n",
       "      <th>...</th>\n",
       "      <td>...</td>\n",
       "      <td>...</td>\n",
       "    </tr>\n",
       "    <tr>\n",
       "      <th>2022-10-26</th>\n",
       "      <td>224.639999</td>\n",
       "      <td>219.733490</td>\n",
       "    </tr>\n",
       "    <tr>\n",
       "      <th>2022-10-27</th>\n",
       "      <td>225.089996</td>\n",
       "      <td>224.808502</td>\n",
       "    </tr>\n",
       "    <tr>\n",
       "      <th>2022-10-28</th>\n",
       "      <td>228.520004</td>\n",
       "      <td>227.869354</td>\n",
       "    </tr>\n",
       "    <tr>\n",
       "      <th>2022-10-31</th>\n",
       "      <td>227.539993</td>\n",
       "      <td>229.057281</td>\n",
       "    </tr>\n",
       "    <tr>\n",
       "      <th>2022-11-01</th>\n",
       "      <td>227.820007</td>\n",
       "      <td>231.273514</td>\n",
       "    </tr>\n",
       "  </tbody>\n",
       "</table>\n",
       "<p>90 rows × 2 columns</p>\n",
       "</div>"
      ],
      "text/plain": [
       "                 Close      Future\n",
       "Date                              \n",
       "2022-06-27  244.919998  247.893295\n",
       "2022-06-28  232.663330  245.430481\n",
       "2022-06-29  228.490005  238.189026\n",
       "2022-06-30  224.473328  230.715347\n",
       "2022-07-01  227.263336  227.550049\n",
       "...                ...         ...\n",
       "2022-10-26  224.639999  219.733490\n",
       "2022-10-27  225.089996  224.808502\n",
       "2022-10-28  228.520004  227.869354\n",
       "2022-10-31  227.539993  229.057281\n",
       "2022-11-01  227.820007  231.273514\n",
       "\n",
       "[90 rows x 2 columns]"
      ]
     },
     "execution_count": 154,
     "metadata": {},
     "output_type": "execute_result"
    }
   ],
   "source": [
    "# use price predictor to predict future prices\n",
    "sliding_prices = price_predictor.predict(ts)\n",
    "future_prices = sliding_prices[1:, num_days_ahead-1]\n",
    "\n",
    "# compare current and future closing prices\n",
    "stock = stock.copy()[[\"Close\"]]\n",
    "stock[\"Future\"] = future_prices\n",
    "\n",
    "stock"
   ]
  },
  {
   "cell_type": "markdown",
   "metadata": {},
   "source": [
    "## Strategy"
   ]
  },
  {
   "cell_type": "markdown",
   "metadata": {},
   "source": [
    "The strategy is rather straight forward. \n",
    "- If the future price drops, and we are holding some shares, then we must sell all of it.\n",
    "- If the future price rises, and we don't have any shares, then it is a good time to buy."
   ]
  },
  {
   "cell_type": "code",
   "execution_count": 155,
   "metadata": {},
   "outputs": [
    {
     "data": {
      "text/plain": [
       "(DatetimeIndex(['2022-06-27', '2022-07-11', '2022-07-18', '2022-07-20',\n",
       "                '2022-07-22', '2022-08-01', '2022-08-11', '2022-08-16',\n",
       "                '2022-08-25', '2022-09-02', '2022-09-12', '2022-09-20',\n",
       "                '2022-09-29', '2022-10-05', '2022-10-07', '2022-10-11',\n",
       "                '2022-10-14', '2022-10-20', '2022-10-24', '2022-10-31'],\n",
       "               dtype='datetime64[ns]', freq=None),\n",
       " DatetimeIndex(['2022-07-05', '2022-07-14', '2022-07-19', '2022-07-21',\n",
       "                '2022-07-29', '2022-08-10', '2022-08-12', '2022-08-23',\n",
       "                '2022-09-01', '2022-09-06', '2022-09-19', '2022-09-27',\n",
       "                '2022-10-04', '2022-10-06', '2022-10-10', '2022-10-12',\n",
       "                '2022-10-17', '2022-10-21', '2022-10-25'],\n",
       "               dtype='datetime64[ns]', freq=None))"
      ]
     },
     "execution_count": 155,
     "metadata": {},
     "output_type": "execute_result"
    }
   ],
   "source": [
    "# Find buying and selling dates\n",
    "buy_dates = []\n",
    "sell_dates = []\n",
    "is_holding_shares = False\n",
    "for date, row in stock.iterrows():\n",
    "    if is_holding_shares:\n",
    "        # price will go down, sell it!\n",
    "        if row[\"Future\"] < row[\"Close\"]:\n",
    "            sell_dates.append(date)\n",
    "            is_holding_shares = False\n",
    "    else:\n",
    "        # price will go up, buy!\n",
    "        if row[\"Future\"] > row[\"Close\"]:\n",
    "            buy_dates.append(date)\n",
    "            is_holding_shares = True\n",
    "\n",
    "# convert to Pandas `DatetimeIndex`\n",
    "buy_dates = pd.DatetimeIndex(buy_dates)\n",
    "sell_dates = pd.DatetimeIndex(sell_dates)\n",
    "\n",
    "buy_dates, sell_dates"
   ]
  },
  {
   "cell_type": "markdown",
   "metadata": {},
   "source": [
    "We now visualize the buying and selling dates:"
   ]
  },
  {
   "cell_type": "code",
   "execution_count": 156,
   "metadata": {},
   "outputs": [
    {
     "data": {
      "image/png": "[encoded data removed]",
      "text/plain": [
       "<Figure size 1200x400 with 1 Axes>"
      ]
     },
     "metadata": {},
     "output_type": "display_data"
    }
   ],
   "source": [
    "# plot the last 90 days\n",
    "plt.figure(figsize=(12, 4))\n",
    "df = stock.copy()\n",
    "df[\"Buy\"] = np.nan\n",
    "df.loc[buy_dates, \"Buy\"] = df.loc[buy_dates, \"Close\"]\n",
    "df[\"Sell\"] = np.nan\n",
    "df.loc[sell_dates, \"Sell\"] = df.loc[sell_dates, \"Close\"]\n",
    "plt.plot(df[\"Close\"], label=\"Stock Price\", color=\"k\", alpha=0.5)\n",
    "plt.scatter(\n",
    "    df.index, df[\"Buy\"],\n",
    "    marker=\"^\", color=\"r\", zorder=2,\n",
    "    label=\"Buy\"\n",
    ")\n",
    "plt.scatter(\n",
    "    df.index, df[\"Sell\"],\n",
    "    marker=\"v\", color=\"g\", zorder=2,\n",
    "    label=\"Sell\"\n",
    ")\n",
    "plt.legend()\n",
    "plt.grid()\n",
    "plt.show()"
   ]
  },
  {
   "cell_type": "markdown",
   "metadata": {},
   "source": [
    "As we can see, this strategy suggests to trade more often than that of the moving average approach. And, it tends to seize every opportunity to increase the profit."
   ]
  },
  {
   "cell_type": "markdown",
   "metadata": {},
   "source": [
    "## Profit"
   ]
  },
  {
   "cell_type": "markdown",
   "metadata": {},
   "source": [
    "Use the `calc_profit` function from our `profit` module to calculate the profit rate:"
   ]
  },
  {
   "cell_type": "code",
   "execution_count": 157,
   "metadata": {},
   "outputs": [
    {
     "name": "stdout",
     "output_type": "stream",
     "text": [
      "Profit rate: 12.82%\n"
     ]
    }
   ],
   "source": [
    "profit_rate = profit.calc_profit(\n",
    "    stock, \n",
    "    buy_dates, sell_dates, \n",
    "    start_date=\"2022-06-27\"\n",
    ")\n",
    "\n",
    "print(f\"Profit rate: {100 * profit_rate:.2f}%\")"
   ]
  },
  {
   "cell_type": "markdown",
   "metadata": {},
   "source": [
    "Recall the profit rate with moving average strategy is 9.19%. Hence, the strategy proposed in this section is some how better."
   ]
  }
 ],
 "metadata": {
  "kernelspec": {
   "display_name": "Python 3.10.6 ('stox')",
   "language": "python",
   "name": "python3"
  },
  "language_info": {
   "codemirror_mode": {
    "name": "ipython",
    "version": 3
   },
   "file_extension": ".py",
   "mimetype": "text/x-python",
   "name": "python",
   "nbconvert_exporter": "python",
   "pygments_lexer": "ipython3",
   "version": "3.10.6"
  },
  "orig_nbformat": 4,
  "vscode": {
   "interpreter": {
    "hash": "b381d2fe9444cf1cecb971d5b2371557f7ae9b538a405ed569cd73f1b37c2a0c"
   }
  }
 },
 "nbformat": 4,
 "nbformat_minor": 2
}
